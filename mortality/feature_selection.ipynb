{
 "metadata": {
  "language_info": {
   "codemirror_mode": {
    "name": "ipython",
    "version": 3
   },
   "file_extension": ".py",
   "mimetype": "text/x-python",
   "name": "python",
   "nbconvert_exporter": "python",
   "pygments_lexer": "ipython3",
   "version": "3.8.5-final"
  },
  "orig_nbformat": 2,
  "kernelspec": {
   "name": "python3",
   "display_name": "Python 3",
   "language": "python"
  }
 },
 "nbformat": 4,
 "nbformat_minor": 2,
 "cells": [
  {
   "cell_type": "code",
   "execution_count": 1,
   "metadata": {},
   "outputs": [
    {
     "output_type": "stream",
     "name": "stdout",
     "text": [
      "Data successfully loaded.\n"
     ]
    }
   ],
   "source": [
    "import pandas as pd\n",
    "import numpy as np\n",
    "import seaborn as sns\n",
    "import matplotlib.pyplot as plt\n",
    "\n",
    "from sklearn.linear_model import LogisticRegression\n",
    "from sklearn.linear_model import LogisticRegressionCV\n",
    "from sklearn.model_selection import train_test_split\n",
    "from sklearn.metrics import classification_report\n",
    "from sklearn.metrics import roc_auc_score\n",
    "from sklearn.metrics import precision_recall_curve\n",
    "from sklearn.metrics import plot_precision_recall_curve\n",
    "from sklearn.metrics import plot_roc_curve\n",
    "\n",
    "from imblearn.over_sampling import SMOTE\n",
    "\n",
    "sns.set()\n"
   ]
  },
  {
   "cell_type": "code",
   "execution_count": 8,
   "metadata": {},
   "outputs": [
    {
     "output_type": "stream",
     "name": "stdout",
     "text": [
      "Data successfully loaded.\n"
     ]
    }
   ],
   "source": [
    "'''Preprocessing'''\n",
    "\n",
    "df_raw = pd.read_csv('data/11.csv')\n",
    "print('Data successfully loaded.')\n",
    "\n",
    "df_raw = df_raw.drop(columns=['smok100', 'agesmk', 'smokstat', 'smokhome', 'curruse', 'everuse'])\n",
    "\n",
    "df_raw['indmort'] = df_raw['inddea'][(df_raw['inddea'] == 1) & (df_raw['indalg'] == 1)]\n",
    "df_raw['indmort'] = df_raw['indmort'].fillna(0)\n",
    "\n",
    "used_numerical = ['age', 'hhnum']\n",
    "used_ordinal = ['povpct', 'adjinc']\n",
    "used_categorical = ['stater', 'pob', 'sex', 'race', 'urban', 'smsast']\n",
    "used_special = ['wt', 'indmort']\n",
    "\n",
    "used_features = used_numerical + used_ordinal + used_categorical + used_special\n",
    "\n",
    "df_raw = df_raw[used_features]\n",
    "\n",
    "df_raw[used_categorical] = df_raw[used_categorical].astype('category')\n",
    "\n",
    "df_raw = df_raw.dropna(axis=0)\n"
   ]
  },
  {
   "cell_type": "code",
   "execution_count": 3,
   "metadata": {},
   "outputs": [
    {
     "output_type": "execute_result",
     "data": {
      "text/plain": [
       "         age  hhnum  povpct  adjinc stater  pob sex race urban smsast   wt  \\\n",
       "0         70      2      18    11.0     16  909   2  1.0   1.0    1.0  151   \n",
       "1         79      2      18    11.0     16  909   2  1.0   1.0    1.0  132   \n",
       "2         34      3      10     8.0     16  909   1  1.0   1.0    1.0  155   \n",
       "3         32      3      10     8.0     16  909   2  1.0   1.0    1.0  155   \n",
       "4          2      3      10     8.0     16  909   2  1.0   1.0    1.0  145   \n",
       "...      ...    ...     ...     ...    ...  ...  ..  ...   ...    ...  ...   \n",
       "1835067   19      2       6     4.0     16  909   1  1.0   1.0    1.0   60   \n",
       "1835068   33      6      10    11.0     16  909   2  1.0   1.0    1.0   56   \n",
       "1835069   16      6      10    11.0     16  909   2  1.0   1.0    1.0   60   \n",
       "1835070    7      6      10    11.0     16  909   2  1.0   1.0    1.0   51   \n",
       "1835071    6      6      10    11.0     16  909   1  1.0   1.0    1.0   56   \n",
       "\n",
       "         indmort  \n",
       "0            0.0  \n",
       "1            0.0  \n",
       "2            0.0  \n",
       "3            0.0  \n",
       "4            0.0  \n",
       "...          ...  \n",
       "1835067      0.0  \n",
       "1835068      0.0  \n",
       "1835069      0.0  \n",
       "1835070      0.0  \n",
       "1835071      0.0  \n",
       "\n",
       "[1787583 rows x 12 columns]"
      ],
      "text/html": "<div>\n<style scoped>\n    .dataframe tbody tr th:only-of-type {\n        vertical-align: middle;\n    }\n\n    .dataframe tbody tr th {\n        vertical-align: top;\n    }\n\n    .dataframe thead th {\n        text-align: right;\n    }\n</style>\n<table border=\"1\" class=\"dataframe\">\n  <thead>\n    <tr style=\"text-align: right;\">\n      <th></th>\n      <th>age</th>\n      <th>hhnum</th>\n      <th>povpct</th>\n      <th>adjinc</th>\n      <th>stater</th>\n      <th>pob</th>\n      <th>sex</th>\n      <th>race</th>\n      <th>urban</th>\n      <th>smsast</th>\n      <th>wt</th>\n      <th>indmort</th>\n    </tr>\n  </thead>\n  <tbody>\n    <tr>\n      <th>0</th>\n      <td>70</td>\n      <td>2</td>\n      <td>18</td>\n      <td>11.0</td>\n      <td>16</td>\n      <td>909</td>\n      <td>2</td>\n      <td>1.0</td>\n      <td>1.0</td>\n      <td>1.0</td>\n      <td>151</td>\n      <td>0.0</td>\n    </tr>\n    <tr>\n      <th>1</th>\n      <td>79</td>\n      <td>2</td>\n      <td>18</td>\n      <td>11.0</td>\n      <td>16</td>\n      <td>909</td>\n      <td>2</td>\n      <td>1.0</td>\n      <td>1.0</td>\n      <td>1.0</td>\n      <td>132</td>\n      <td>0.0</td>\n    </tr>\n    <tr>\n      <th>2</th>\n      <td>34</td>\n      <td>3</td>\n      <td>10</td>\n      <td>8.0</td>\n      <td>16</td>\n      <td>909</td>\n      <td>1</td>\n      <td>1.0</td>\n      <td>1.0</td>\n      <td>1.0</td>\n      <td>155</td>\n      <td>0.0</td>\n    </tr>\n    <tr>\n      <th>3</th>\n      <td>32</td>\n      <td>3</td>\n      <td>10</td>\n      <td>8.0</td>\n      <td>16</td>\n      <td>909</td>\n      <td>2</td>\n      <td>1.0</td>\n      <td>1.0</td>\n      <td>1.0</td>\n      <td>155</td>\n      <td>0.0</td>\n    </tr>\n    <tr>\n      <th>4</th>\n      <td>2</td>\n      <td>3</td>\n      <td>10</td>\n      <td>8.0</td>\n      <td>16</td>\n      <td>909</td>\n      <td>2</td>\n      <td>1.0</td>\n      <td>1.0</td>\n      <td>1.0</td>\n      <td>145</td>\n      <td>0.0</td>\n    </tr>\n    <tr>\n      <th>...</th>\n      <td>...</td>\n      <td>...</td>\n      <td>...</td>\n      <td>...</td>\n      <td>...</td>\n      <td>...</td>\n      <td>...</td>\n      <td>...</td>\n      <td>...</td>\n      <td>...</td>\n      <td>...</td>\n      <td>...</td>\n    </tr>\n    <tr>\n      <th>1835067</th>\n      <td>19</td>\n      <td>2</td>\n      <td>6</td>\n      <td>4.0</td>\n      <td>16</td>\n      <td>909</td>\n      <td>1</td>\n      <td>1.0</td>\n      <td>1.0</td>\n      <td>1.0</td>\n      <td>60</td>\n      <td>0.0</td>\n    </tr>\n    <tr>\n      <th>1835068</th>\n      <td>33</td>\n      <td>6</td>\n      <td>10</td>\n      <td>11.0</td>\n      <td>16</td>\n      <td>909</td>\n      <td>2</td>\n      <td>1.0</td>\n      <td>1.0</td>\n      <td>1.0</td>\n      <td>56</td>\n      <td>0.0</td>\n    </tr>\n    <tr>\n      <th>1835069</th>\n      <td>16</td>\n      <td>6</td>\n      <td>10</td>\n      <td>11.0</td>\n      <td>16</td>\n      <td>909</td>\n      <td>2</td>\n      <td>1.0</td>\n      <td>1.0</td>\n      <td>1.0</td>\n      <td>60</td>\n      <td>0.0</td>\n    </tr>\n    <tr>\n      <th>1835070</th>\n      <td>7</td>\n      <td>6</td>\n      <td>10</td>\n      <td>11.0</td>\n      <td>16</td>\n      <td>909</td>\n      <td>2</td>\n      <td>1.0</td>\n      <td>1.0</td>\n      <td>1.0</td>\n      <td>51</td>\n      <td>0.0</td>\n    </tr>\n    <tr>\n      <th>1835071</th>\n      <td>6</td>\n      <td>6</td>\n      <td>10</td>\n      <td>11.0</td>\n      <td>16</td>\n      <td>909</td>\n      <td>1</td>\n      <td>1.0</td>\n      <td>1.0</td>\n      <td>1.0</td>\n      <td>56</td>\n      <td>0.0</td>\n    </tr>\n  </tbody>\n</table>\n<p>1787583 rows × 12 columns</p>\n</div>"
     },
     "metadata": {},
     "execution_count": 3
    }
   ],
   "source": [
    "df_raw"
   ]
  },
  {
   "cell_type": "code",
   "execution_count": 13,
   "metadata": {},
   "outputs": [
    {
     "output_type": "execute_result",
     "data": {
      "text/plain": [
       "              age     hhnum    povpct    adjinc   indmort\n",
       "age      1.000000 -0.459896  0.118385 -0.069988  0.340071\n",
       "hhnum   -0.459896  1.000000 -0.187937  0.170595 -0.170868\n",
       "povpct   0.118385 -0.187937  1.000000  0.895185 -0.025596\n",
       "adjinc  -0.069988  0.170595  0.895185  1.000000 -0.098760\n",
       "indmort  0.340071 -0.170868 -0.025596 -0.098760  1.000000"
      ],
      "text/html": "<div>\n<style scoped>\n    .dataframe tbody tr th:only-of-type {\n        vertical-align: middle;\n    }\n\n    .dataframe tbody tr th {\n        vertical-align: top;\n    }\n\n    .dataframe thead th {\n        text-align: right;\n    }\n</style>\n<table border=\"1\" class=\"dataframe\">\n  <thead>\n    <tr style=\"text-align: right;\">\n      <th></th>\n      <th>age</th>\n      <th>hhnum</th>\n      <th>povpct</th>\n      <th>adjinc</th>\n      <th>indmort</th>\n    </tr>\n  </thead>\n  <tbody>\n    <tr>\n      <th>age</th>\n      <td>1.000000</td>\n      <td>-0.459896</td>\n      <td>0.118385</td>\n      <td>-0.069988</td>\n      <td>0.340071</td>\n    </tr>\n    <tr>\n      <th>hhnum</th>\n      <td>-0.459896</td>\n      <td>1.000000</td>\n      <td>-0.187937</td>\n      <td>0.170595</td>\n      <td>-0.170868</td>\n    </tr>\n    <tr>\n      <th>povpct</th>\n      <td>0.118385</td>\n      <td>-0.187937</td>\n      <td>1.000000</td>\n      <td>0.895185</td>\n      <td>-0.025596</td>\n    </tr>\n    <tr>\n      <th>adjinc</th>\n      <td>-0.069988</td>\n      <td>0.170595</td>\n      <td>0.895185</td>\n      <td>1.000000</td>\n      <td>-0.098760</td>\n    </tr>\n    <tr>\n      <th>indmort</th>\n      <td>0.340071</td>\n      <td>-0.170868</td>\n      <td>-0.025596</td>\n      <td>-0.098760</td>\n      <td>1.000000</td>\n    </tr>\n  </tbody>\n</table>\n</div>"
     },
     "metadata": {},
     "execution_count": 13
    }
   ],
   "source": [
    "df_raw.drop(columns=['wt']).corr()"
   ]
  },
  {
   "source": [
    "The correlation of the continuous variables in the data indicates that they all have some level of realistic correlation, and none of the explanatory variables are highly correlated enough to be removed. "
   ],
   "cell_type": "markdown",
   "metadata": {}
  },
  {
   "cell_type": "code",
   "execution_count": 49,
   "metadata": {},
   "outputs": [],
   "source": [
    "df_sample = df_raw.sample(n=100000)"
   ]
  },
  {
   "cell_type": "code",
   "execution_count": 101,
   "metadata": {},
   "outputs": [
    {
     "output_type": "execute_result",
     "data": {
      "text/plain": [
       "array([[ 70.,   2.,  18., ...,  16., 909.,   1.],\n",
       "       [ 79.,   2.,  18., ...,  16., 909.,   1.],\n",
       "       [ 34.,   3.,  10., ...,  16., 909.,   1.],\n",
       "       ...,\n",
       "       [ 16.,   6.,  10., ...,  16., 909.,   1.],\n",
       "       [  7.,   6.,  10., ...,  16., 909.,   1.],\n",
       "       [  6.,   6.,  10., ...,  16., 909.,   1.]])"
      ]
     },
     "metadata": {},
     "execution_count": 101
    }
   ],
   "source": [
    "from sklearn.feature_selection import SelectKBest \n",
    "from sklearn.feature_selection import chi2 \n",
    "\n",
    "features = SelectKBest(chi2, k=7)\n",
    "features.fit_transform(df_sample.drop(columns=['indmort', 'wt']), df_sample['indmort'])"
   ]
  },
  {
   "cell_type": "code",
   "execution_count": 102,
   "metadata": {},
   "outputs": [
    {
     "output_type": "execute_result",
     "data": {
      "text/plain": [
       "         age  hhnum  povpct  adjinc stater  pob race\n",
       "0         70      2      18    11.0     16  909  1.0\n",
       "1         79      2      18    11.0     16  909  1.0\n",
       "2         34      3      10     8.0     16  909  1.0\n",
       "3         32      3      10     8.0     16  909  1.0\n",
       "4          2      3      10     8.0     16  909  1.0\n",
       "...      ...    ...     ...     ...    ...  ...  ...\n",
       "1835067   19      2       6     4.0     16  909  1.0\n",
       "1835068   33      6      10    11.0     16  909  1.0\n",
       "1835069   16      6      10    11.0     16  909  1.0\n",
       "1835070    7      6      10    11.0     16  909  1.0\n",
       "1835071    6      6      10    11.0     16  909  1.0\n",
       "\n",
       "[1787583 rows x 7 columns]"
      ],
      "text/html": "<div>\n<style scoped>\n    .dataframe tbody tr th:only-of-type {\n        vertical-align: middle;\n    }\n\n    .dataframe tbody tr th {\n        vertical-align: top;\n    }\n\n    .dataframe thead th {\n        text-align: right;\n    }\n</style>\n<table border=\"1\" class=\"dataframe\">\n  <thead>\n    <tr style=\"text-align: right;\">\n      <th></th>\n      <th>age</th>\n      <th>hhnum</th>\n      <th>povpct</th>\n      <th>adjinc</th>\n      <th>stater</th>\n      <th>pob</th>\n      <th>race</th>\n    </tr>\n  </thead>\n  <tbody>\n    <tr>\n      <th>0</th>\n      <td>70</td>\n      <td>2</td>\n      <td>18</td>\n      <td>11.0</td>\n      <td>16</td>\n      <td>909</td>\n      <td>1.0</td>\n    </tr>\n    <tr>\n      <th>1</th>\n      <td>79</td>\n      <td>2</td>\n      <td>18</td>\n      <td>11.0</td>\n      <td>16</td>\n      <td>909</td>\n      <td>1.0</td>\n    </tr>\n    <tr>\n      <th>2</th>\n      <td>34</td>\n      <td>3</td>\n      <td>10</td>\n      <td>8.0</td>\n      <td>16</td>\n      <td>909</td>\n      <td>1.0</td>\n    </tr>\n    <tr>\n      <th>3</th>\n      <td>32</td>\n      <td>3</td>\n      <td>10</td>\n      <td>8.0</td>\n      <td>16</td>\n      <td>909</td>\n      <td>1.0</td>\n    </tr>\n    <tr>\n      <th>4</th>\n      <td>2</td>\n      <td>3</td>\n      <td>10</td>\n      <td>8.0</td>\n      <td>16</td>\n      <td>909</td>\n      <td>1.0</td>\n    </tr>\n    <tr>\n      <th>...</th>\n      <td>...</td>\n      <td>...</td>\n      <td>...</td>\n      <td>...</td>\n      <td>...</td>\n      <td>...</td>\n      <td>...</td>\n    </tr>\n    <tr>\n      <th>1835067</th>\n      <td>19</td>\n      <td>2</td>\n      <td>6</td>\n      <td>4.0</td>\n      <td>16</td>\n      <td>909</td>\n      <td>1.0</td>\n    </tr>\n    <tr>\n      <th>1835068</th>\n      <td>33</td>\n      <td>6</td>\n      <td>10</td>\n      <td>11.0</td>\n      <td>16</td>\n      <td>909</td>\n      <td>1.0</td>\n    </tr>\n    <tr>\n      <th>1835069</th>\n      <td>16</td>\n      <td>6</td>\n      <td>10</td>\n      <td>11.0</td>\n      <td>16</td>\n      <td>909</td>\n      <td>1.0</td>\n    </tr>\n    <tr>\n      <th>1835070</th>\n      <td>7</td>\n      <td>6</td>\n      <td>10</td>\n      <td>11.0</td>\n      <td>16</td>\n      <td>909</td>\n      <td>1.0</td>\n    </tr>\n    <tr>\n      <th>1835071</th>\n      <td>6</td>\n      <td>6</td>\n      <td>10</td>\n      <td>11.0</td>\n      <td>16</td>\n      <td>909</td>\n      <td>1.0</td>\n    </tr>\n  </tbody>\n</table>\n<p>1787583 rows × 7 columns</p>\n</div>"
     },
     "metadata": {},
     "execution_count": 102
    }
   ],
   "source": [
    "df_raw.iloc[:, features.get_support(indices=True)]"
   ]
  },
  {
   "cell_type": "code",
   "execution_count": 80,
   "metadata": {},
   "outputs": [
    {
     "output_type": "execute_result",
     "data": {
      "text/plain": [
       "23.054359598510917"
      ]
     },
     "metadata": {},
     "execution_count": 80
    }
   ],
   "source": [
    "(pd.crosstab(df_raw.pob, df_raw.indmort)[0.0] / pd.crosstab(df_raw.pob, df_raw.indmort)[1.0]).mean()"
   ]
  },
  {
   "cell_type": "code",
   "execution_count": 99,
   "metadata": {},
   "outputs": [],
   "source": [
    "chi2_val = chi2(df_raw.drop(columns=['wt']), df_raw['indmort'])[0]"
   ]
  },
  {
   "cell_type": "code",
   "execution_count": 100,
   "metadata": {},
   "outputs": [
    {
     "output_type": "execute_result",
     "data": {
      "text/plain": [
       "array([2.74283115e+06, 4.56135281e+04, 4.19215392e+03, 2.95360254e+04,\n",
       "       8.42053161e+03, 3.27541520e+05, 8.10753134e+01, 2.52861225e+02,\n",
       "       3.40581206e+00, 1.85760425e-02, 1.69427600e+06])"
      ]
     },
     "metadata": {},
     "execution_count": 100
    }
   ],
   "source": [
    "chi2_val."
   ]
  },
  {
   "cell_type": "code",
   "execution_count": null,
   "metadata": {},
   "outputs": [],
   "source": []
  },
  {
   "cell_type": "code",
   "execution_count": null,
   "metadata": {},
   "outputs": [],
   "source": [
    "df = pd.get_dummies(df_raw)"
   ]
  },
  {
   "cell_type": "code",
   "execution_count": null,
   "metadata": {},
   "outputs": [],
   "source": [
    "X = df.drop(columns=['indmort'])\n",
    "y = df['indmort']\n",
    "\n",
    "'''Sampling'''\n",
    "\n",
    "X_train, X_test, y_train, y_test = train_test_split(X, y)\n",
    "\n",
    "print('Proportion of data from minority class before SMOTE:', y_train.sum() / y_train.shape[0])\n",
    "X_train, y_train = SMOTE().fit_resample(X_train, y_train)\n",
    "print('Proportion of data from minority class after SMOTE:', y_train.sum() / y_train.shape[0])\n",
    "\n",
    "'''Modeling'''\n",
    "\n",
    "model = LogisticRegressionCV(scoring='roc_auc', random_state=0, n_jobs=-1, verbose=1).fit(X_train.drop(columns=['wt']), y_train, sample_weight=X_train['wt'])\n",
    "\n",
    "print(classification_report(model.predict(X_test.drop(columns=['wt'])), y_test))\n",
    "\n",
    "pred_probs = model.predict_proba(X_test.drop(columns=['wt']))[:, 1]\n",
    "\n",
    "print(classification_report(np.round(pred_probs + 0.25), y_test, sample_weight=X_test['wt']))"
   ]
  }
 ]
}