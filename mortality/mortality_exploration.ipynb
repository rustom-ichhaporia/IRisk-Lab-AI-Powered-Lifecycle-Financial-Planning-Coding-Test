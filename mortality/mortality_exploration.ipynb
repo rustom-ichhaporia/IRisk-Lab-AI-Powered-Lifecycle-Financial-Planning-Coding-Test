{
 "cells": [
  {
   "cell_type": "markdown",
   "metadata": {},
   "source": [
    "I have begun to work with the 2018 data from the CDC. Once complete, the same process can be applied to most previous years. \n",
    "Data guide: https://www.cdc.gov/nchs/nvss/mortality_public_use_data.htm\n",
    "\n",
    "Text file: https://www.cdc.gov/nchs/data_access/vitalstatsonline.htm#Mortality_Multiple\n",
    "\n",
    "Alternate data: https://www.kaggle.com/cdc/nchs-death-rates-and-causes-of-death\n",
    "\n",
    "Alternate data: https://data.nber.org/mortality/"
   ]
  },
  {
   "cell_type": "code",
   "execution_count": 1,
   "metadata": {},
   "outputs": [],
   "source": [
    "import pandas as pd\n",
    "import matplotlib.pyplot as plt\n",
    "import seaborn as sns\n",
    "sns.set()"
   ]
  },
  {
   "cell_type": "code",
   "execution_count": 2,
   "metadata": {},
   "outputs": [],
   "source": [
    "df_table = pd.read_table('ftp://ftp.cdc.gov/pub/Health_Statistics/NCHS/Datasets/DVS/mortality/mort2018us.zip', header=None)"
   ]
  },
  {
   "cell_type": "code",
   "execution_count": 3,
   "metadata": {
    "scrolled": true
   },
   "outputs": [
    {
     "data": {
      "text/html": [
       "<div>\n",
       "<style scoped>\n",
       "    .dataframe tbody tr th:only-of-type {\n",
       "        vertical-align: middle;\n",
       "    }\n",
       "\n",
       "    .dataframe tbody tr th {\n",
       "        vertical-align: top;\n",
       "    }\n",
       "\n",
       "    .dataframe thead th {\n",
       "        text-align: right;\n",
       "    }\n",
       "</style>\n",
       "<table border=\"1\" class=\"dataframe\">\n",
       "  <thead>\n",
       "    <tr style=\"text-align: right;\">\n",
       "      <th></th>\n",
       "      <th>0</th>\n",
       "    </tr>\n",
       "  </thead>\n",
       "  <tbody>\n",
       "    <tr>\n",
       "      <th>0</th>\n",
       "      <td>3                          ...</td>\n",
       "    </tr>\n",
       "  </tbody>\n",
       "</table>\n",
       "</div>"
      ],
      "text/plain": [
       "                                                   0\n",
       "0                     3                          ..."
      ]
     },
     "execution_count": 3,
     "metadata": {},
     "output_type": "execute_result"
    }
   ],
   "source": [
    "df_table.head(1)"
   ]
  },
  {
   "cell_type": "code",
   "execution_count": 4,
   "metadata": {},
   "outputs": [
    {
     "data": {
      "text/plain": [
       "0                       3                          ...\n",
       "Name: 0, dtype: object"
      ]
     },
     "execution_count": 4,
     "metadata": {},
     "output_type": "execute_result"
    }
   ],
   "source": [
    "df_table.iloc[0]"
   ]
  },
  {
   "cell_type": "code",
   "execution_count": 5,
   "metadata": {},
   "outputs": [],
   "source": [
    "def print_full(x):\n",
    "    pd.set_option('display.max_rows', len(x))\n",
    "    pd.set_option('display.max_columns', None)\n",
    "    pd.set_option('display.width', 2000)\n",
    "    pd.set_option('display.float_format', '{:20,.2f}'.format)\n",
    "    pd.set_option('display.max_colwidth', None)\n",
    "    print(x)\n",
    "    pd.reset_option('display.max_rows')\n",
    "    pd.reset_option('display.max_columns')\n",
    "    pd.reset_option('display.width')\n",
    "    pd.reset_option('display.float_format')\n",
    "    pd.reset_option('display.max_colwidth')"
   ]
  },
  {
   "cell_type": "code",
   "execution_count": 6,
   "metadata": {},
   "outputs": [
    {
     "name": "stdout",
     "output_type": "stream",
     "text": [
      "0                       3                                          3101  F1046 351507  1D2                2018U7CN                                    A419023 010   37 0311J189 21J869 31A419                                                                                                                                                            03 A419 J189 J869                                                                                       01  11                                 100 601\n",
      "Name: 0, dtype: object\n"
     ]
    }
   ],
   "source": [
    "print_full(df_table.iloc[0])"
   ]
  },
  {
   "cell_type": "code",
   "execution_count": 7,
   "metadata": {},
   "outputs": [],
   "source": [
    "df = pd.DataFrame()"
   ]
  },
  {
   "cell_type": "code",
   "execution_count": 8,
   "metadata": {},
   "outputs": [],
   "source": [
    "df['data_year'] = df_table[0].str[101:105]"
   ]
  },
  {
   "cell_type": "code",
   "execution_count": 9,
   "metadata": {},
   "outputs": [
    {
     "data": {
      "text/plain": [
       "0          2018\n",
       "1          2018\n",
       "2          2018\n",
       "3          2018\n",
       "4          2018\n",
       "           ... \n",
       "2846300    2018\n",
       "2846301    2018\n",
       "2846302    2018\n",
       "2846303    2018\n",
       "2846304    2018\n",
       "Name: data_year, Length: 2846305, dtype: object"
      ]
     },
     "execution_count": 9,
     "metadata": {},
     "output_type": "execute_result"
    }
   ],
   "source": [
    "df['data_year']"
   ]
  },
  {
   "cell_type": "code",
   "execution_count": 10,
   "metadata": {},
   "outputs": [
    {
     "data": {
      "text/plain": [
       "0          3.0\n",
       "1          3.0\n",
       "2          6.0\n",
       "3          2.0\n",
       "4          4.0\n",
       "          ... \n",
       "2846300    9.0\n",
       "2846301    1.0\n",
       "2846302    1.0\n",
       "2846303    3.0\n",
       "2846304    9.0\n",
       "Name: education, Length: 2846305, dtype: float64"
      ]
     },
     "execution_count": 10,
     "metadata": {},
     "output_type": "execute_result"
    }
   ],
   "source": [
    "df['education'] = pd.to_numeric(df_table[0].str[62], errors='coerce')\n",
    "df['education']"
   ]
  },
  {
   "cell_type": "code",
   "execution_count": 11,
   "metadata": {},
   "outputs": [
    {
     "data": {
      "text/plain": [
       "<matplotlib.axes._subplots.AxesSubplot at 0x7f959c2f3160>"
      ]
     },
     "execution_count": 11,
     "metadata": {},
     "output_type": "execute_result"
    },
    {
     "data": {
      "image/png": "[encoded data removed]",
      "text/plain": [
       "<Figure size 432x288 with 1 Axes>"
      ]
     },
     "metadata": {},
     "output_type": "display_data"
    }
   ],
   "source": [
    "df['education'].plot.hist()"
   ]
  },
  {
   "cell_type": "code",
   "execution_count": 38,
   "metadata": {},
   "outputs": [],
   "source": [
    "df['month'] = pd.to_numeric(df_table[0].str[64:66], errors='coerce')\n",
    "df['sex'] = df_table[0].str[68]\n",
    "df['age_code'] = pd.to_numeric(df_table[0].str[74:76], errors='coerce')\n",
    "df['death_location_code'] = pd.to_numeric(df_table[0].str[82], errors='coerce')\n",
    "df['marital_status'] = df_table[0].str[83]\n",
    "df['injury_at_work'] = df_table[0].str[105]\n",
    "df['manner_of_death_code'] = pd.to_numeric(df_table[0].str[106], errors='coerce')\n",
    "df['activity_code'] = pd.to_numeric(df_table[0].str[143], errors='coerce')\n",
    "df['injury_location'] = pd.to_numeric(df_table[0].str[144], errors='coerce')\n",
    "df['ICD_code'] = df_table[0].str[145:149]\n",
    "# Entity-axis conditions\n",
    "df['entity_condition_count'] = pd.to_numeric(df_table[0].str[162:164], errors='coerce')\n",
    "df['entity_condition_1'] = df_table[0].str[164:170]\n",
    "df['entity_condition_2'] = df_table[0].str[171:177]\n",
    "df['entity_condition_3'] = df_table[0].str[178:184]\n",
    "df['entity_condition_4'] = df_table[0].str[185:191]\n",
    "df['entity_condition_5'] = df_table[0].str[192:198]\n",
    "df['entity_condition_6'] = df_table[0].str[199:205]\n",
    "df['entity_condition_7'] = df_table[0].str[206:212]\n",
    "df['entity_condition_8'] = df_table[0].str[213:219]\n",
    "df['entity_condition_9'] = df_table[0].str[220:226]\n",
    "# continue until condition_20\n",
    "\n",
    "# Record axis conditions\n",
    "df['record_condition_count'] = pd.to_numeric(df_table[0].str[340:342], errors='coerce')\n",
    "df['record_condition_1'] = df_table[0].str[343:347]\n",
    "df['record_condition_2'] = df_table[0].str[348:352]\n",
    "df['record_condition_3'] = df_table[0].str[353:357]\n",
    "df['record_condition_4'] = df_table[0].str[358:362]\n",
    "df['record_condition_5'] = df_table[0].str[363:367]\n",
    "df['record_condition_6'] = df_table[0].str[368:372]\n",
    "# continue until condition 20\n",
    "\n",
    "# Race (bridged and unbridged)\n",
    "df['bridged_race'] = pd.to_numeric(df_table[0].str[444:446], errors='coerce')\n"
   ]
  },
  {
   "cell_type": "code",
   "execution_count": 39,
   "metadata": {},
   "outputs": [
    {
     "data": {
      "text/html": [
       "<div>\n",
       "<style scoped>\n",
       "    .dataframe tbody tr th:only-of-type {\n",
       "        vertical-align: middle;\n",
       "    }\n",
       "\n",
       "    .dataframe tbody tr th {\n",
       "        vertical-align: top;\n",
       "    }\n",
       "\n",
       "    .dataframe thead th {\n",
       "        text-align: right;\n",
       "    }\n",
       "</style>\n",
       "<table border=\"1\" class=\"dataframe\">\n",
       "  <thead>\n",
       "    <tr style=\"text-align: right;\">\n",
       "      <th></th>\n",
       "      <th>data_year</th>\n",
       "      <th>education</th>\n",
       "      <th>month</th>\n",
       "      <th>sex</th>\n",
       "      <th>age_code</th>\n",
       "      <th>death_location_code</th>\n",
       "      <th>marital_status</th>\n",
       "      <th>injury_at_work</th>\n",
       "      <th>manner_of_death_code</th>\n",
       "      <th>activity_code</th>\n",
       "      <th>...</th>\n",
       "      <th>entity_condition_8</th>\n",
       "      <th>entity_condition_9</th>\n",
       "      <th>record_condition_count</th>\n",
       "      <th>record_condition_1</th>\n",
       "      <th>record_condition_2</th>\n",
       "      <th>record_condition_3</th>\n",
       "      <th>record_condition_4</th>\n",
       "      <th>record_condition_5</th>\n",
       "      <th>record_condition_6</th>\n",
       "      <th>bridged_race</th>\n",
       "    </tr>\n",
       "  </thead>\n",
       "  <tbody>\n",
       "    <tr>\n",
       "      <th>0</th>\n",
       "      <td>2018</td>\n",
       "      <td>3.0</td>\n",
       "      <td>1.0</td>\n",
       "      <td>F</td>\n",
       "      <td>35.0</td>\n",
       "      <td>1.0</td>\n",
       "      <td>D</td>\n",
       "      <td>U</td>\n",
       "      <td>7.0</td>\n",
       "      <td>NaN</td>\n",
       "      <td>...</td>\n",
       "      <td></td>\n",
       "      <td></td>\n",
       "      <td>3.0</td>\n",
       "      <td>A419</td>\n",
       "      <td>J189</td>\n",
       "      <td>J869</td>\n",
       "      <td></td>\n",
       "      <td></td>\n",
       "      <td></td>\n",
       "      <td>1.0</td>\n",
       "    </tr>\n",
       "    <tr>\n",
       "      <th>1</th>\n",
       "      <td>2018</td>\n",
       "      <td>3.0</td>\n",
       "      <td>1.0</td>\n",
       "      <td>M</td>\n",
       "      <td>31.0</td>\n",
       "      <td>7.0</td>\n",
       "      <td>S</td>\n",
       "      <td>N</td>\n",
       "      <td>1.0</td>\n",
       "      <td>9.0</td>\n",
       "      <td>...</td>\n",
       "      <td></td>\n",
       "      <td></td>\n",
       "      <td>5.0</td>\n",
       "      <td>V475</td>\n",
       "      <td>S021</td>\n",
       "      <td>S099</td>\n",
       "      <td>T099</td>\n",
       "      <td>T149</td>\n",
       "      <td></td>\n",
       "      <td>3.0</td>\n",
       "    </tr>\n",
       "    <tr>\n",
       "      <th>2</th>\n",
       "      <td>2018</td>\n",
       "      <td>6.0</td>\n",
       "      <td>1.0</td>\n",
       "      <td>M</td>\n",
       "      <td>44.0</td>\n",
       "      <td>6.0</td>\n",
       "      <td>D</td>\n",
       "      <td>U</td>\n",
       "      <td>7.0</td>\n",
       "      <td>NaN</td>\n",
       "      <td>...</td>\n",
       "      <td></td>\n",
       "      <td></td>\n",
       "      <td>1.0</td>\n",
       "      <td>C61</td>\n",
       "      <td></td>\n",
       "      <td></td>\n",
       "      <td></td>\n",
       "      <td></td>\n",
       "      <td></td>\n",
       "      <td>1.0</td>\n",
       "    </tr>\n",
       "    <tr>\n",
       "      <th>3</th>\n",
       "      <td>2018</td>\n",
       "      <td>2.0</td>\n",
       "      <td>1.0</td>\n",
       "      <td>M</td>\n",
       "      <td>44.0</td>\n",
       "      <td>1.0</td>\n",
       "      <td>W</td>\n",
       "      <td>U</td>\n",
       "      <td>7.0</td>\n",
       "      <td>NaN</td>\n",
       "      <td>...</td>\n",
       "      <td></td>\n",
       "      <td></td>\n",
       "      <td>3.0</td>\n",
       "      <td>A419</td>\n",
       "      <td>I509</td>\n",
       "      <td>R688</td>\n",
       "      <td></td>\n",
       "      <td></td>\n",
       "      <td></td>\n",
       "      <td>1.0</td>\n",
       "    </tr>\n",
       "    <tr>\n",
       "      <th>4</th>\n",
       "      <td>2018</td>\n",
       "      <td>4.0</td>\n",
       "      <td>1.0</td>\n",
       "      <td>F</td>\n",
       "      <td>32.0</td>\n",
       "      <td>1.0</td>\n",
       "      <td>S</td>\n",
       "      <td>U</td>\n",
       "      <td>7.0</td>\n",
       "      <td>NaN</td>\n",
       "      <td>...</td>\n",
       "      <td>62D649</td>\n",
       "      <td>63E880</td>\n",
       "      <td>8.0</td>\n",
       "      <td>K701</td>\n",
       "      <td>D649</td>\n",
       "      <td>D689</td>\n",
       "      <td>E880</td>\n",
       "      <td>G934</td>\n",
       "      <td>K703</td>\n",
       "      <td>3.0</td>\n",
       "    </tr>\n",
       "    <tr>\n",
       "      <th>...</th>\n",
       "      <td>...</td>\n",
       "      <td>...</td>\n",
       "      <td>...</td>\n",
       "      <td>...</td>\n",
       "      <td>...</td>\n",
       "      <td>...</td>\n",
       "      <td>...</td>\n",
       "      <td>...</td>\n",
       "      <td>...</td>\n",
       "      <td>...</td>\n",
       "      <td>...</td>\n",
       "      <td>...</td>\n",
       "      <td>...</td>\n",
       "      <td>...</td>\n",
       "      <td>...</td>\n",
       "      <td>...</td>\n",
       "      <td>...</td>\n",
       "      <td>...</td>\n",
       "      <td>...</td>\n",
       "      <td>...</td>\n",
       "      <td>...</td>\n",
       "    </tr>\n",
       "    <tr>\n",
       "      <th>2846300</th>\n",
       "      <td>2018</td>\n",
       "      <td>9.0</td>\n",
       "      <td>10.0</td>\n",
       "      <td>F</td>\n",
       "      <td>39.0</td>\n",
       "      <td>6.0</td>\n",
       "      <td>M</td>\n",
       "      <td>U</td>\n",
       "      <td>7.0</td>\n",
       "      <td>NaN</td>\n",
       "      <td>...</td>\n",
       "      <td></td>\n",
       "      <td></td>\n",
       "      <td>2.0</td>\n",
       "      <td>J961</td>\n",
       "      <td>I219</td>\n",
       "      <td></td>\n",
       "      <td></td>\n",
       "      <td></td>\n",
       "      <td></td>\n",
       "      <td>1.0</td>\n",
       "    </tr>\n",
       "    <tr>\n",
       "      <th>2846301</th>\n",
       "      <td>2018</td>\n",
       "      <td>1.0</td>\n",
       "      <td>12.0</td>\n",
       "      <td>F</td>\n",
       "      <td>2.0</td>\n",
       "      <td>1.0</td>\n",
       "      <td>S</td>\n",
       "      <td>U</td>\n",
       "      <td>7.0</td>\n",
       "      <td>NaN</td>\n",
       "      <td>...</td>\n",
       "      <td></td>\n",
       "      <td></td>\n",
       "      <td>1.0</td>\n",
       "      <td>P072</td>\n",
       "      <td></td>\n",
       "      <td></td>\n",
       "      <td></td>\n",
       "      <td></td>\n",
       "      <td></td>\n",
       "      <td>1.0</td>\n",
       "    </tr>\n",
       "    <tr>\n",
       "      <th>2846302</th>\n",
       "      <td>2018</td>\n",
       "      <td>1.0</td>\n",
       "      <td>12.0</td>\n",
       "      <td>F</td>\n",
       "      <td>14.0</td>\n",
       "      <td>1.0</td>\n",
       "      <td>S</td>\n",
       "      <td>U</td>\n",
       "      <td>7.0</td>\n",
       "      <td>NaN</td>\n",
       "      <td>...</td>\n",
       "      <td></td>\n",
       "      <td></td>\n",
       "      <td>6.0</td>\n",
       "      <td>Q913</td>\n",
       "      <td>A419</td>\n",
       "      <td>I500</td>\n",
       "      <td>I510</td>\n",
       "      <td>P293</td>\n",
       "      <td>R090</td>\n",
       "      <td>2.0</td>\n",
       "    </tr>\n",
       "    <tr>\n",
       "      <th>2846303</th>\n",
       "      <td>2018</td>\n",
       "      <td>3.0</td>\n",
       "      <td>10.0</td>\n",
       "      <td>M</td>\n",
       "      <td>38.0</td>\n",
       "      <td>6.0</td>\n",
       "      <td>S</td>\n",
       "      <td>U</td>\n",
       "      <td>7.0</td>\n",
       "      <td>NaN</td>\n",
       "      <td>...</td>\n",
       "      <td></td>\n",
       "      <td></td>\n",
       "      <td>3.0</td>\n",
       "      <td>I251</td>\n",
       "      <td>I469</td>\n",
       "      <td>I499</td>\n",
       "      <td></td>\n",
       "      <td></td>\n",
       "      <td></td>\n",
       "      <td>1.0</td>\n",
       "    </tr>\n",
       "    <tr>\n",
       "      <th>2846304</th>\n",
       "      <td>2018</td>\n",
       "      <td>9.0</td>\n",
       "      <td>5.0</td>\n",
       "      <td>F</td>\n",
       "      <td>42.0</td>\n",
       "      <td>4.0</td>\n",
       "      <td>U</td>\n",
       "      <td>U</td>\n",
       "      <td>7.0</td>\n",
       "      <td>NaN</td>\n",
       "      <td>...</td>\n",
       "      <td></td>\n",
       "      <td></td>\n",
       "      <td>1.0</td>\n",
       "      <td>C349</td>\n",
       "      <td></td>\n",
       "      <td></td>\n",
       "      <td></td>\n",
       "      <td></td>\n",
       "      <td></td>\n",
       "      <td>1.0</td>\n",
       "    </tr>\n",
       "  </tbody>\n",
       "</table>\n",
       "<p>2846305 rows × 39 columns</p>\n",
       "</div>"
      ],
      "text/plain": [
       "        data_year  education  month sex  age_code  death_location_code  \\\n",
       "0            2018        3.0    1.0   F      35.0                  1.0   \n",
       "1            2018        3.0    1.0   M      31.0                  7.0   \n",
       "2            2018        6.0    1.0   M      44.0                  6.0   \n",
       "3            2018        2.0    1.0   M      44.0                  1.0   \n",
       "4            2018        4.0    1.0   F      32.0                  1.0   \n",
       "...           ...        ...    ...  ..       ...                  ...   \n",
       "2846300      2018        9.0   10.0   F      39.0                  6.0   \n",
       "2846301      2018        1.0   12.0   F       2.0                  1.0   \n",
       "2846302      2018        1.0   12.0   F      14.0                  1.0   \n",
       "2846303      2018        3.0   10.0   M      38.0                  6.0   \n",
       "2846304      2018        9.0    5.0   F      42.0                  4.0   \n",
       "\n",
       "        marital_status injury_at_work  manner_of_death_code  activity_code  \\\n",
       "0                    D              U                   7.0            NaN   \n",
       "1                    S              N                   1.0            9.0   \n",
       "2                    D              U                   7.0            NaN   \n",
       "3                    W              U                   7.0            NaN   \n",
       "4                    S              U                   7.0            NaN   \n",
       "...                ...            ...                   ...            ...   \n",
       "2846300              M              U                   7.0            NaN   \n",
       "2846301              S              U                   7.0            NaN   \n",
       "2846302              S              U                   7.0            NaN   \n",
       "2846303              S              U                   7.0            NaN   \n",
       "2846304              U              U                   7.0            NaN   \n",
       "\n",
       "         ...  entity_condition_8 entity_condition_9 record_condition_count  \\\n",
       "0        ...                                                           3.0   \n",
       "1        ...                                                           5.0   \n",
       "2        ...                                                           1.0   \n",
       "3        ...                                                           3.0   \n",
       "4        ...              62D649             63E880                    8.0   \n",
       "...      ...                 ...                ...                    ...   \n",
       "2846300  ...                                                           2.0   \n",
       "2846301  ...                                                           1.0   \n",
       "2846302  ...                                                           6.0   \n",
       "2846303  ...                                                           3.0   \n",
       "2846304  ...                                                           1.0   \n",
       "\n",
       "        record_condition_1 record_condition_2 record_condition_3  \\\n",
       "0                     A419               J189               J869   \n",
       "1                     V475               S021               S099   \n",
       "2                     C61                                          \n",
       "3                     A419               I509               R688   \n",
       "4                     K701               D649               D689   \n",
       "...                    ...                ...                ...   \n",
       "2846300               J961               I219                      \n",
       "2846301               P072                                         \n",
       "2846302               Q913               A419               I500   \n",
       "2846303               I251               I469               I499   \n",
       "2846304               C349                                         \n",
       "\n",
       "        record_condition_4 record_condition_5 record_condition_6 bridged_race  \n",
       "0                                                                         1.0  \n",
       "1                     T099               T149                             3.0  \n",
       "2                                                                         1.0  \n",
       "3                                                                         1.0  \n",
       "4                     E880               G934               K703          3.0  \n",
       "...                    ...                ...                ...          ...  \n",
       "2846300                                                                   1.0  \n",
       "2846301                                                                   1.0  \n",
       "2846302               I510               P293               R090          2.0  \n",
       "2846303                                                                   1.0  \n",
       "2846304                                                                   1.0  \n",
       "\n",
       "[2846305 rows x 39 columns]"
      ]
     },
     "execution_count": 39,
     "metadata": {},
     "output_type": "execute_result"
    }
   ],
   "source": [
    "df"
   ]
  },
  {
   "cell_type": "code",
   "execution_count": 14,
   "metadata": {},
   "outputs": [
    {
     "data": {
      "text/plain": [
       "2605199"
      ]
     },
     "execution_count": 14,
     "metadata": {},
     "output_type": "execute_result"
    }
   ],
   "source": [
    "df.activity_code.isna().sum()"
   ]
  },
  {
   "cell_type": "code",
   "execution_count": null,
   "metadata": {},
   "outputs": [],
   "source": [
    "df_new = pd.read_csv()"
   ]
  }
 ],
 "metadata": {
  "kernelspec": {
   "display_name": "Python 3",
   "language": "python",
   "name": "python3"
  },
  "language_info": {
   "codemirror_mode": {
    "name": "ipython",
    "version": 3
   },
   "file_extension": ".py",
   "mimetype": "text/x-python",
   "name": "python",
   "nbconvert_exporter": "python",
   "pygments_lexer": "ipython3",
   "version": "3.8.3"
  }
 },
 "nbformat": 4,
 "nbformat_minor": 4
}
