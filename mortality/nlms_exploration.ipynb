{
 "metadata": {
  "language_info": {
   "codemirror_mode": {
    "name": "ipython",
    "version": 3
   },
   "file_extension": ".py",
   "mimetype": "text/x-python",
   "name": "python",
   "nbconvert_exporter": "python",
   "pygments_lexer": "ipython3",
   "version": "3.8.3-final"
  },
  "orig_nbformat": 2,
  "kernelspec": {
   "name": "Python 3.8.3 64-bit ('base': conda)",
   "display_name": "Python 3.8.3 64-bit ('base': conda)",
   "metadata": {
    "interpreter": {
     "hash": "07ea0f360fa7afa0f398d4ea8bdd8a6cb7c7163a84aeef32afc8dbf3f2a64c71"
    }
   }
  }
 },
 "nbformat": 4,
 "nbformat_minor": 2,
 "cells": [
  {
   "source": [
    "### Mortality Report 10/07 - Rustom Ichhaporia\n",
    "So far, I have applied for the data and received the files. I have begun reading it in below, but I am unsure of the best imputation or encoding method for the categorical variables with large numbers of categories. I have tried resolving this, and have created a model with error below. "
   ],
   "cell_type": "markdown",
   "metadata": {}
  },
  {
   "cell_type": "code",
   "execution_count": 1,
   "metadata": {},
   "outputs": [],
   "source": [
    "import pandas as pd\n",
    "import matplotlib.pyplot as plt\n",
    "import seaborn as sns\n",
    "from sklearn import tree\n",
    "from sklearn.metrics import mean_squared_error\n",
    "from sklearn.model_selection import train_test_split\n",
    "from sklearn.preprocessing import OneHotEncoder\n",
    "from sklearn.tree import DecisionTreeRegressor\n",
    "from sklearn.metrics import mean_squared_error\n",
    "sns.set()"
   ]
  },
  {
   "cell_type": "code",
   "execution_count": 2,
   "metadata": {},
   "outputs": [],
   "source": [
    "df_raw = pd.read_csv('NLMS_PublicUse_Release5b/11.csv')"
   ]
  },
  {
   "cell_type": "code",
   "execution_count": 3,
   "metadata": {},
   "outputs": [
    {
     "output_type": "execute_result",
     "data": {
      "text/plain": [
       "         record  age  race  sex   ms  hisp  adjinc  educ  pob   wt  ...  \\\n",
       "0         88426   70   1.0    2  5.0   3.0    11.0   4.0  909  151  ...   \n",
       "1         88427   79   1.0    2  2.0   3.0    11.0   4.0  909  132  ...   \n",
       "2         88428   34   1.0    1  1.0   3.0     8.0   4.0  909  155  ...   \n",
       "3         88429   32   1.0    2  1.0   3.0     8.0   1.0  909  155  ...   \n",
       "4         88430    2   1.0    2  NaN   3.0     8.0   NaN  909  145  ...   \n",
       "...         ...  ...   ...  ...  ...   ...     ...   ...  ...  ...  ...   \n",
       "1835067     666   19   1.0    1  5.0   2.0     4.0   8.0  909   60  ...   \n",
       "1835068     667   33   1.0    2  1.0   2.0    11.0   6.0  909   56  ...   \n",
       "1835069     668   16   1.0    2  5.0   2.0    11.0   6.0  909   60  ...   \n",
       "1835070     669    7   1.0    2  NaN   2.0    11.0   NaN  909   51  ...   \n",
       "1835071     670    6   1.0    1  NaN   2.0    11.0   NaN  909   56  ...   \n",
       "\n",
       "         tenure  citizen  health  indalg  smok100  agesmk  smokstat  smokhome  \\\n",
       "0           1.0      NaN     NaN     1.0      NaN     NaN       NaN       NaN   \n",
       "1           1.0      NaN     NaN     NaN      NaN     NaN       NaN       NaN   \n",
       "2           2.0      NaN     NaN     1.0      NaN     NaN       NaN       NaN   \n",
       "3           2.0      NaN     NaN     1.0      NaN     NaN       NaN       NaN   \n",
       "4           2.0      NaN     NaN     1.0      NaN     NaN       NaN       NaN   \n",
       "...         ...      ...     ...     ...      ...     ...       ...       ...   \n",
       "1835067     2.0      NaN     1.0     NaN      NaN     NaN       NaN       NaN   \n",
       "1835068     2.0      1.0     1.0     NaN      NaN     NaN       NaN       NaN   \n",
       "1835069     2.0      NaN     1.0     NaN      NaN     NaN       NaN       NaN   \n",
       "1835070     2.0      1.0     1.0     NaN      NaN     NaN       NaN       NaN   \n",
       "1835071     2.0      NaN     1.0     NaN      NaN     NaN       NaN       NaN   \n",
       "\n",
       "         curruse  everuse  \n",
       "0            NaN      NaN  \n",
       "1            NaN      NaN  \n",
       "2            NaN      NaN  \n",
       "3            NaN      NaN  \n",
       "4            NaN      NaN  \n",
       "...          ...      ...  \n",
       "1835067      NaN      NaN  \n",
       "1835068      NaN      NaN  \n",
       "1835069      NaN      NaN  \n",
       "1835070      NaN      NaN  \n",
       "1835071      NaN      NaN  \n",
       "\n",
       "[1835072 rows x 43 columns]"
      ],
      "text/html": "<div>\n<style scoped>\n    .dataframe tbody tr th:only-of-type {\n        vertical-align: middle;\n    }\n\n    .dataframe tbody tr th {\n        vertical-align: top;\n    }\n\n    .dataframe thead th {\n        text-align: right;\n    }\n</style>\n<table border=\"1\" class=\"dataframe\">\n  <thead>\n    <tr style=\"text-align: right;\">\n      <th></th>\n      <th>record</th>\n      <th>age</th>\n      <th>race</th>\n      <th>sex</th>\n      <th>ms</th>\n      <th>hisp</th>\n      <th>adjinc</th>\n      <th>educ</th>\n      <th>pob</th>\n      <th>wt</th>\n      <th>...</th>\n      <th>tenure</th>\n      <th>citizen</th>\n      <th>health</th>\n      <th>indalg</th>\n      <th>smok100</th>\n      <th>agesmk</th>\n      <th>smokstat</th>\n      <th>smokhome</th>\n      <th>curruse</th>\n      <th>everuse</th>\n    </tr>\n  </thead>\n  <tbody>\n    <tr>\n      <th>0</th>\n      <td>88426</td>\n      <td>70</td>\n      <td>1.0</td>\n      <td>2</td>\n      <td>5.0</td>\n      <td>3.0</td>\n      <td>11.0</td>\n      <td>4.0</td>\n      <td>909</td>\n      <td>151</td>\n      <td>...</td>\n      <td>1.0</td>\n      <td>NaN</td>\n      <td>NaN</td>\n      <td>1.0</td>\n      <td>NaN</td>\n      <td>NaN</td>\n      <td>NaN</td>\n      <td>NaN</td>\n      <td>NaN</td>\n      <td>NaN</td>\n    </tr>\n    <tr>\n      <th>1</th>\n      <td>88427</td>\n      <td>79</td>\n      <td>1.0</td>\n      <td>2</td>\n      <td>2.0</td>\n      <td>3.0</td>\n      <td>11.0</td>\n      <td>4.0</td>\n      <td>909</td>\n      <td>132</td>\n      <td>...</td>\n      <td>1.0</td>\n      <td>NaN</td>\n      <td>NaN</td>\n      <td>NaN</td>\n      <td>NaN</td>\n      <td>NaN</td>\n      <td>NaN</td>\n      <td>NaN</td>\n      <td>NaN</td>\n      <td>NaN</td>\n    </tr>\n    <tr>\n      <th>2</th>\n      <td>88428</td>\n      <td>34</td>\n      <td>1.0</td>\n      <td>1</td>\n      <td>1.0</td>\n      <td>3.0</td>\n      <td>8.0</td>\n      <td>4.0</td>\n      <td>909</td>\n      <td>155</td>\n      <td>...</td>\n      <td>2.0</td>\n      <td>NaN</td>\n      <td>NaN</td>\n      <td>1.0</td>\n      <td>NaN</td>\n      <td>NaN</td>\n      <td>NaN</td>\n      <td>NaN</td>\n      <td>NaN</td>\n      <td>NaN</td>\n    </tr>\n    <tr>\n      <th>3</th>\n      <td>88429</td>\n      <td>32</td>\n      <td>1.0</td>\n      <td>2</td>\n      <td>1.0</td>\n      <td>3.0</td>\n      <td>8.0</td>\n      <td>1.0</td>\n      <td>909</td>\n      <td>155</td>\n      <td>...</td>\n      <td>2.0</td>\n      <td>NaN</td>\n      <td>NaN</td>\n      <td>1.0</td>\n      <td>NaN</td>\n      <td>NaN</td>\n      <td>NaN</td>\n      <td>NaN</td>\n      <td>NaN</td>\n      <td>NaN</td>\n    </tr>\n    <tr>\n      <th>4</th>\n      <td>88430</td>\n      <td>2</td>\n      <td>1.0</td>\n      <td>2</td>\n      <td>NaN</td>\n      <td>3.0</td>\n      <td>8.0</td>\n      <td>NaN</td>\n      <td>909</td>\n      <td>145</td>\n      <td>...</td>\n      <td>2.0</td>\n      <td>NaN</td>\n      <td>NaN</td>\n      <td>1.0</td>\n      <td>NaN</td>\n      <td>NaN</td>\n      <td>NaN</td>\n      <td>NaN</td>\n      <td>NaN</td>\n      <td>NaN</td>\n    </tr>\n    <tr>\n      <th>...</th>\n      <td>...</td>\n      <td>...</td>\n      <td>...</td>\n      <td>...</td>\n      <td>...</td>\n      <td>...</td>\n      <td>...</td>\n      <td>...</td>\n      <td>...</td>\n      <td>...</td>\n      <td>...</td>\n      <td>...</td>\n      <td>...</td>\n      <td>...</td>\n      <td>...</td>\n      <td>...</td>\n      <td>...</td>\n      <td>...</td>\n      <td>...</td>\n      <td>...</td>\n      <td>...</td>\n    </tr>\n    <tr>\n      <th>1835067</th>\n      <td>666</td>\n      <td>19</td>\n      <td>1.0</td>\n      <td>1</td>\n      <td>5.0</td>\n      <td>2.0</td>\n      <td>4.0</td>\n      <td>8.0</td>\n      <td>909</td>\n      <td>60</td>\n      <td>...</td>\n      <td>2.0</td>\n      <td>NaN</td>\n      <td>1.0</td>\n      <td>NaN</td>\n      <td>NaN</td>\n      <td>NaN</td>\n      <td>NaN</td>\n      <td>NaN</td>\n      <td>NaN</td>\n      <td>NaN</td>\n    </tr>\n    <tr>\n      <th>1835068</th>\n      <td>667</td>\n      <td>33</td>\n      <td>1.0</td>\n      <td>2</td>\n      <td>1.0</td>\n      <td>2.0</td>\n      <td>11.0</td>\n      <td>6.0</td>\n      <td>909</td>\n      <td>56</td>\n      <td>...</td>\n      <td>2.0</td>\n      <td>1.0</td>\n      <td>1.0</td>\n      <td>NaN</td>\n      <td>NaN</td>\n      <td>NaN</td>\n      <td>NaN</td>\n      <td>NaN</td>\n      <td>NaN</td>\n      <td>NaN</td>\n    </tr>\n    <tr>\n      <th>1835069</th>\n      <td>668</td>\n      <td>16</td>\n      <td>1.0</td>\n      <td>2</td>\n      <td>5.0</td>\n      <td>2.0</td>\n      <td>11.0</td>\n      <td>6.0</td>\n      <td>909</td>\n      <td>60</td>\n      <td>...</td>\n      <td>2.0</td>\n      <td>NaN</td>\n      <td>1.0</td>\n      <td>NaN</td>\n      <td>NaN</td>\n      <td>NaN</td>\n      <td>NaN</td>\n      <td>NaN</td>\n      <td>NaN</td>\n      <td>NaN</td>\n    </tr>\n    <tr>\n      <th>1835070</th>\n      <td>669</td>\n      <td>7</td>\n      <td>1.0</td>\n      <td>2</td>\n      <td>NaN</td>\n      <td>2.0</td>\n      <td>11.0</td>\n      <td>NaN</td>\n      <td>909</td>\n      <td>51</td>\n      <td>...</td>\n      <td>2.0</td>\n      <td>1.0</td>\n      <td>1.0</td>\n      <td>NaN</td>\n      <td>NaN</td>\n      <td>NaN</td>\n      <td>NaN</td>\n      <td>NaN</td>\n      <td>NaN</td>\n      <td>NaN</td>\n    </tr>\n    <tr>\n      <th>1835071</th>\n      <td>670</td>\n      <td>6</td>\n      <td>1.0</td>\n      <td>1</td>\n      <td>NaN</td>\n      <td>2.0</td>\n      <td>11.0</td>\n      <td>NaN</td>\n      <td>909</td>\n      <td>56</td>\n      <td>...</td>\n      <td>2.0</td>\n      <td>NaN</td>\n      <td>1.0</td>\n      <td>NaN</td>\n      <td>NaN</td>\n      <td>NaN</td>\n      <td>NaN</td>\n      <td>NaN</td>\n      <td>NaN</td>\n      <td>NaN</td>\n    </tr>\n  </tbody>\n</table>\n<p>1835072 rows × 43 columns</p>\n</div>"
     },
     "metadata": {},
     "execution_count": 3
    }
   ],
   "source": [
    "df_raw"
   ]
  },
  {
   "cell_type": "code",
   "execution_count": 4,
   "metadata": {},
   "outputs": [],
   "source": [
    "df_raw = df_raw.drop(['smok100', 'agesmk', 'smokstat', 'smokhome', 'curruse', 'everuse'], axis=1)"
   ]
  },
  {
   "cell_type": "code",
   "execution_count": 5,
   "metadata": {},
   "outputs": [],
   "source": [
    "# indmort is the recommended combination feature of both confirmed deaths and computer-predicted deaths based on the data collection agency\n",
    "df_raw['indmort'] = df_raw['inddea'][(df_raw['inddea'] == 1) & (df_raw['indalg'] == 1)]\n",
    "df_raw['indmort'] = df_raw['indmort'].fillna(0)"
   ]
  },
  {
   "cell_type": "code",
   "execution_count": 6,
   "metadata": {},
   "outputs": [
    {
     "output_type": "execute_result",
     "data": {
      "text/plain": [
       "count    1.835072e+06\n",
       "mean     1.328667e+02\n",
       "std      7.247297e+01\n",
       "min      0.000000e+00\n",
       "25%      7.600000e+01\n",
       "50%      1.340000e+02\n",
       "75%      1.790000e+02\n",
       "max      1.522000e+03\n",
       "Name: wt, dtype: float64"
      ]
     },
     "metadata": {},
     "execution_count": 6
    }
   ],
   "source": [
    "# \"Weight\" of entry, roughly 50-200. I am not sure how to apply these to the data. \n",
    "df_raw.wt.describe()"
   ]
  },
  {
   "cell_type": "code",
   "execution_count": 7,
   "metadata": {},
   "outputs": [],
   "source": [
    "numerical = ['age', 'hhnum']\n",
    "uneven_numerical = ['adjinc', 'health', 'follow']\n",
    "categorical = ['race', 'sex', 'ms', 'hisp', 'educ', 'pob', 'hhid', 'reltrf', 'occ', 'majocc', 'ind', 'esr', 'urban', 'smsast', 'inddea', 'cause113', 'dayod', 'hosp', 'hospd', 'ssnyn', 'vt', 'histatus', 'hitype', 'povpct', 'stater', 'rcow', 'tenure', 'citizen', 'indalg']\n",
    "smoking = ['smok100', 'agesmk', 'smokstat', 'smokhome', 'curruse', 'everuse']\n",
    "misc = ['record', 'wt']"
   ]
  },
  {
   "cell_type": "code",
   "execution_count": 8,
   "metadata": {},
   "outputs": [],
   "source": [
    "df_short = df_raw[['age', 'hhnum', 'adjinc', 'health', 'occ', 'ind', 'esr', 'cause113', 'ms', 'indmort']]"
   ]
  },
  {
   "cell_type": "code",
   "execution_count": 9,
   "metadata": {},
   "outputs": [],
   "source": [
    "X = df_short.drop(['indmort'], axis=1)"
   ]
  },
  {
   "cell_type": "code",
   "execution_count": 10,
   "metadata": {},
   "outputs": [],
   "source": [
    "y = df_short['indmort']"
   ]
  },
  {
   "cell_type": "code",
   "execution_count": 11,
   "metadata": {},
   "outputs": [],
   "source": [
    "mort_corr = df_short.corr()['indmort'].sort_values()"
   ]
  },
  {
   "cell_type": "code",
   "execution_count": 12,
   "metadata": {},
   "outputs": [
    {
     "output_type": "execute_result",
     "data": {
      "text/plain": [
       "hhnum      -0.169388\n",
       "adjinc     -0.098752\n",
       "ms         -0.073020\n",
       "ind        -0.010118\n",
       "occ         0.004227\n",
       "esr         0.195555\n",
       "health      0.282516\n",
       "age         0.336753\n",
       "cause113    0.686527\n",
       "indmort     1.000000\n",
       "Name: indmort, dtype: float64"
      ]
     },
     "metadata": {},
     "execution_count": 12
    }
   ],
   "source": [
    "mort_corr"
   ]
  },
  {
   "source": [
    "The above numbers are not really accurate for most of the features because they are nonordinal categorical variables, so their correlation is not useful until they have both been imputed and one-hot encoded. As seen below, there are many categories for some of the variables, so algorithmic encoding will be necessary. "
   ],
   "cell_type": "markdown",
   "metadata": {}
  },
  {
   "cell_type": "code",
   "execution_count": 13,
   "metadata": {},
   "outputs": [
    {
     "output_type": "execute_result",
     "data": {
      "text/plain": [
       "array([  0,  95,  52,  64,  55,  76,  23,  19,  73,  59,  54,  34,  67,\n",
       "        21,  80,  31,  61,  58,  18,  20,  96,  37,  85,  51,  32,  40,\n",
       "        27,  49,  60,  33,  94,  22,  70,  25, 103,  36, 107,  43,  81,\n",
       "        62,  71,  77,  38, 106, 111, 104, 105,  30,  48,  41,  26,   9,\n",
       "        53,  63, 102,  29,  44,  28,  42, 108,  50, 101,  47,  99,  17,\n",
       "        56,  82,  98,  93,  79,  35, 100,   4,  24,  72,  84, 113,  75,\n",
       "        65, 110,  46, 109,  66,  74,  87,  57,  97,  83,  14,  68,   8,\n",
       "        78,  89,  88,  91,  45,   3,  90,   5,  92,  86,  12, 112,   7,\n",
       "         1,  39])"
      ]
     },
     "metadata": {},
     "execution_count": 13
    }
   ],
   "source": [
    "X.cause113.unique()"
   ]
  },
  {
   "cell_type": "code",
   "execution_count": 14,
   "metadata": {},
   "outputs": [
    {
     "output_type": "execute_result",
     "data": {
      "text/plain": [
       "count    1.835072e+06\n",
       "mean     4.845706e+00\n",
       "std      1.706694e+01\n",
       "min      0.000000e+00\n",
       "25%      0.000000e+00\n",
       "50%      0.000000e+00\n",
       "75%      0.000000e+00\n",
       "max      1.130000e+02\n",
       "Name: cause113, dtype: float64"
      ]
     },
     "metadata": {},
     "execution_count": 14
    }
   ],
   "source": [
    "X.cause113.describe()"
   ]
  },
  {
   "cell_type": "code",
   "execution_count": 15,
   "metadata": {},
   "outputs": [
    {
     "output_type": "execute_result",
     "data": {
      "text/plain": [
       "age           int64\n",
       "hhnum         int64\n",
       "adjinc      float64\n",
       "health      float64\n",
       "occ         float64\n",
       "ind         float64\n",
       "esr         float64\n",
       "cause113      int64\n",
       "ms          float64\n",
       "dtype: object"
      ]
     },
     "metadata": {},
     "execution_count": 15
    }
   ],
   "source": [
    "X.dtypes"
   ]
  },
  {
   "cell_type": "code",
   "execution_count": 16,
   "metadata": {},
   "outputs": [
    {
     "output_type": "execute_result",
     "data": {
      "text/plain": [
       "age         0.000000\n",
       "hhnum       0.000000\n",
       "adjinc      0.024124\n",
       "health      0.790674\n",
       "occ         0.466099\n",
       "ind         0.466219\n",
       "esr         0.191220\n",
       "cause113    0.000000\n",
       "ms          0.196846\n",
       "dtype: float64"
      ]
     },
     "metadata": {},
     "execution_count": 16
    }
   ],
   "source": [
    "X.isna().sum() / X.shape[0]"
   ]
  },
  {
   "cell_type": "code",
   "execution_count": 17,
   "metadata": {},
   "outputs": [
    {
     "output_type": "execute_result",
     "data": {
      "text/plain": [
       "         age  hhnum  adjinc  health     occ     ind  esr  cause113   ms\n",
       "0         70      2    11.0     NaN  2630.0  5470.0  1.0         0  5.0\n",
       "1         79      2    11.0     NaN  4700.0  5470.0  1.0        95  2.0\n",
       "2         34      3     8.0     NaN  8960.0  2980.0  1.0         0  1.0\n",
       "3         32      3     8.0     NaN  8960.0  5470.0  1.0         0  1.0\n",
       "4          2      3     8.0     NaN     NaN     NaN  NaN         0  NaN\n",
       "...      ...    ...     ...     ...     ...     ...  ...       ...  ...\n",
       "1835067   19      2     4.0     1.0  4760.0  4770.0  1.0        59  5.0\n",
       "1835068   33      6    11.0     1.0     NaN     NaN  5.0         0  1.0\n",
       "1835069   16      6    11.0     1.0     NaN     NaN  5.0         0  5.0\n",
       "1835070    7      6    11.0     1.0     NaN     NaN  NaN         0  NaN\n",
       "1835071    6      6    11.0     1.0     NaN     NaN  NaN        55  NaN\n",
       "\n",
       "[1835072 rows x 9 columns]"
      ],
      "text/html": "<div>\n<style scoped>\n    .dataframe tbody tr th:only-of-type {\n        vertical-align: middle;\n    }\n\n    .dataframe tbody tr th {\n        vertical-align: top;\n    }\n\n    .dataframe thead th {\n        text-align: right;\n    }\n</style>\n<table border=\"1\" class=\"dataframe\">\n  <thead>\n    <tr style=\"text-align: right;\">\n      <th></th>\n      <th>age</th>\n      <th>hhnum</th>\n      <th>adjinc</th>\n      <th>health</th>\n      <th>occ</th>\n      <th>ind</th>\n      <th>esr</th>\n      <th>cause113</th>\n      <th>ms</th>\n    </tr>\n  </thead>\n  <tbody>\n    <tr>\n      <th>0</th>\n      <td>70</td>\n      <td>2</td>\n      <td>11.0</td>\n      <td>NaN</td>\n      <td>2630.0</td>\n      <td>5470.0</td>\n      <td>1.0</td>\n      <td>0</td>\n      <td>5.0</td>\n    </tr>\n    <tr>\n      <th>1</th>\n      <td>79</td>\n      <td>2</td>\n      <td>11.0</td>\n      <td>NaN</td>\n      <td>4700.0</td>\n      <td>5470.0</td>\n      <td>1.0</td>\n      <td>95</td>\n      <td>2.0</td>\n    </tr>\n    <tr>\n      <th>2</th>\n      <td>34</td>\n      <td>3</td>\n      <td>8.0</td>\n      <td>NaN</td>\n      <td>8960.0</td>\n      <td>2980.0</td>\n      <td>1.0</td>\n      <td>0</td>\n      <td>1.0</td>\n    </tr>\n    <tr>\n      <th>3</th>\n      <td>32</td>\n      <td>3</td>\n      <td>8.0</td>\n      <td>NaN</td>\n      <td>8960.0</td>\n      <td>5470.0</td>\n      <td>1.0</td>\n      <td>0</td>\n      <td>1.0</td>\n    </tr>\n    <tr>\n      <th>4</th>\n      <td>2</td>\n      <td>3</td>\n      <td>8.0</td>\n      <td>NaN</td>\n      <td>NaN</td>\n      <td>NaN</td>\n      <td>NaN</td>\n      <td>0</td>\n      <td>NaN</td>\n    </tr>\n    <tr>\n      <th>...</th>\n      <td>...</td>\n      <td>...</td>\n      <td>...</td>\n      <td>...</td>\n      <td>...</td>\n      <td>...</td>\n      <td>...</td>\n      <td>...</td>\n      <td>...</td>\n    </tr>\n    <tr>\n      <th>1835067</th>\n      <td>19</td>\n      <td>2</td>\n      <td>4.0</td>\n      <td>1.0</td>\n      <td>4760.0</td>\n      <td>4770.0</td>\n      <td>1.0</td>\n      <td>59</td>\n      <td>5.0</td>\n    </tr>\n    <tr>\n      <th>1835068</th>\n      <td>33</td>\n      <td>6</td>\n      <td>11.0</td>\n      <td>1.0</td>\n      <td>NaN</td>\n      <td>NaN</td>\n      <td>5.0</td>\n      <td>0</td>\n      <td>1.0</td>\n    </tr>\n    <tr>\n      <th>1835069</th>\n      <td>16</td>\n      <td>6</td>\n      <td>11.0</td>\n      <td>1.0</td>\n      <td>NaN</td>\n      <td>NaN</td>\n      <td>5.0</td>\n      <td>0</td>\n      <td>5.0</td>\n    </tr>\n    <tr>\n      <th>1835070</th>\n      <td>7</td>\n      <td>6</td>\n      <td>11.0</td>\n      <td>1.0</td>\n      <td>NaN</td>\n      <td>NaN</td>\n      <td>NaN</td>\n      <td>0</td>\n      <td>NaN</td>\n    </tr>\n    <tr>\n      <th>1835071</th>\n      <td>6</td>\n      <td>6</td>\n      <td>11.0</td>\n      <td>1.0</td>\n      <td>NaN</td>\n      <td>NaN</td>\n      <td>NaN</td>\n      <td>55</td>\n      <td>NaN</td>\n    </tr>\n  </tbody>\n</table>\n<p>1835072 rows × 9 columns</p>\n</div>"
     },
     "metadata": {},
     "execution_count": 17
    }
   ],
   "source": [
    "X"
   ]
  },
  {
   "cell_type": "code",
   "execution_count": 18,
   "metadata": {},
   "outputs": [
    {
     "output_type": "execute_result",
     "data": {
      "text/plain": [
       "age            int64\n",
       "hhnum          int64\n",
       "adjinc       float64\n",
       "health       float64\n",
       "occ         category\n",
       "ind         category\n",
       "esr         category\n",
       "cause113    category\n",
       "ms          category\n",
       "dtype: object"
      ]
     },
     "metadata": {},
     "execution_count": 18
    }
   ],
   "source": [
    "X = X.astype({'occ':'category', 'ind': 'category', 'esr': 'category', 'cause113': 'category', 'ms': 'category'})\n",
    "X.dtypes"
   ]
  },
  {
   "cell_type": "code",
   "execution_count": 19,
   "metadata": {},
   "outputs": [],
   "source": [
    "# encoder = OneHotEncoder()\n",
    "# encoder.fix(X)"
   ]
  },
  {
   "cell_type": "code",
   "execution_count": 20,
   "metadata": {},
   "outputs": [],
   "source": [
    "X = pd.get_dummies(X, dummy_na=True)"
   ]
  },
  {
   "cell_type": "code",
   "execution_count": 21,
   "metadata": {},
   "outputs": [],
   "source": [
    "X = X.fillna(X.mean())"
   ]
  },
  {
   "cell_type": "code",
   "execution_count": 22,
   "metadata": {},
   "outputs": [
    {
     "output_type": "execute_result",
     "data": {
      "text/plain": [
       "age         0.0\n",
       "hhnum       0.0\n",
       "adjinc      0.0\n",
       "health      0.0\n",
       "occ_10.0    0.0\n",
       "           ... \n",
       "ms_2.0      0.0\n",
       "ms_3.0      0.0\n",
       "ms_4.0      0.0\n",
       "ms_5.0      0.0\n",
       "ms_nan      0.0\n",
       "Length: 717, dtype: float64"
      ]
     },
     "metadata": {},
     "execution_count": 22
    }
   ],
   "source": [
    "X.isna().sum() / X.shape[0]"
   ]
  },
  {
   "source": [
    "At this point, work must be done to convert the categorical variables using one-hot-encoding and NaN values must be imputed before creating a model (optionally, the data types of the dataframe above can be converted to categorical). K-fold cross validation will also be added afterwards. "
   ],
   "cell_type": "markdown",
   "metadata": {}
  },
  {
   "cell_type": "code",
   "execution_count": 23,
   "metadata": {},
   "outputs": [],
   "source": [
    "X_train, X_test, y_train, y_test = train_test_split(X, y)"
   ]
  },
  {
   "cell_type": "code",
   "execution_count": 24,
   "metadata": {},
   "outputs": [],
   "source": [
    "model = DecisionTreeRegressor()"
   ]
  },
  {
   "cell_type": "code",
   "execution_count": 25,
   "metadata": {},
   "outputs": [
    {
     "output_type": "execute_result",
     "data": {
      "text/plain": [
       "DecisionTreeRegressor()"
      ]
     },
     "metadata": {},
     "execution_count": 25
    }
   ],
   "source": [
    "model.fit(X_train, y_train)"
   ]
  },
  {
   "cell_type": "code",
   "execution_count": 26,
   "metadata": {},
   "outputs": [
    {
     "output_type": "execute_result",
     "data": {
      "text/plain": [
       "0.031503972172323404"
      ]
     },
     "metadata": {},
     "execution_count": 26
    }
   ],
   "source": [
    "mean_squared_error(model.predict(X_test), y_test)"
   ]
  },
  {
   "cell_type": "code",
   "execution_count": 27,
   "metadata": {},
   "outputs": [],
   "source": [
    "def print_full(df):\n",
    "    with pd.option_context('display.max_rows', None, 'display.max_columns', None):  \n",
    "        print(df)"
   ]
  },
  {
   "cell_type": "code",
   "execution_count": 28,
   "metadata": {},
   "outputs": [
    {
     "output_type": "stream",
     "name": "stdout",
     "text": [
      "94107.0 70607.0 23500.0\n"
     ]
    }
   ],
   "source": [
    "print(y.sum(), y_train.sum(), y_test.sum())"
   ]
  },
  {
   "source": [
    "I am not yet sure how to interpret the error of the model. I think I may be improperly handling NaN values. "
   ],
   "cell_type": "markdown",
   "metadata": {}
  },
  {
   "cell_type": "code",
   "execution_count": 29,
   "metadata": {},
   "outputs": [
    {
     "output_type": "execute_result",
     "data": {
      "text/plain": [
       "75155"
      ]
     },
     "metadata": {},
     "execution_count": 29
    }
   ],
   "source": [
    "model.tree_.node_count"
   ]
  },
  {
   "cell_type": "code",
   "execution_count": 33,
   "metadata": {},
   "outputs": [],
   "source": [
    "prediction = model.predict(X_test)"
   ]
  },
  {
   "cell_type": "code",
   "execution_count": 34,
   "metadata": {},
   "outputs": [
    {
     "output_type": "execute_result",
     "data": {
      "text/plain": [
       "array([0.44444444, 0.66666667, 0.8       , ..., 1.        , 0.6       ,\n",
       "       1.        ])"
      ]
     },
     "metadata": {},
     "execution_count": 34
    }
   ],
   "source": [
    "prediction[prediction != 0]"
   ]
  },
  {
   "source": [
    "\n",
    "<pre>List of all the features and their full names is pasted below. For the full description of the features, refer to the read_pubfile5.dat file. \n",
    "@1 record     $   7.     /*Record Number (page no. 6)                              */\n",
    "    @8 age            2.     /*Age at Time of Interview (page no. 10)                  */\n",
    "    @10 race      $   1.     /*Race  (page no.12)                                      */\n",
    "    @11 sex       $   1.     /*Sex   (page no.10)                                      */\n",
    "    @12 ms        $   1.     /*Marital Status (page no.13)                             */\n",
    "    @13 hisp      $   1.     /*Hispanic Origin (page no. 12)                           */\n",
    "    @14 adjinc    $   2.     /*Inflation Adjusted Income (page no.20)                  */\n",
    "    @16 educ      $   2.     /*Highest Grade Completed (page no.14)                    */\n",
    "    @18 pob       $   3.     /*Region of Birth (page no. 11)                           */\n",
    "    @21 wt            4.     /*Adjusted Weight (page no. 6 )                           */\n",
    "    @25 hhid      $   7.     /*Household ID No. (page no. 6)                           */\n",
    "    @32 hhnum         2.     /*Number of People in HH (page no. 14)                    */\n",
    "    @34 reltrf    $   1.     /*Relationship to Reference Person (page no.13)           */\n",
    "    @35 occ       $   4.     /*4 Digit Occupation Code (page no. 18)                   */\n",
    "    @39 majocc    $   2.     /*Major Occupation Code (page no. 18 )                    */\n",
    "    @41 ind       $   4.     /*4 Digit Industry Code (page no. 17)                     */\n",
    "    @45 majind    $   2.     /*Major Industry Code (page no. 18)                       */\n",
    "    @47 esr       $   1.     /*Employment Status Recode (page no. 17)                  */\n",
    "    @48 urban     $   1.     /*Urban/Rural Status (page no. 8)                         */\n",
    "    @49 smsast    $   1.     /*SMSAST Status (page no.9)                               */\n",
    "    @50 inddea    $   1.     /*Death Indicator (page no. 23)                           */\n",
    "    @51 cause113  $   3.     /*Cause of Death (page no. 23)                            */\n",
    "    @54 follow        4.     /*Length of Follow-up (page no. 24)                       */\n",
    "    @58 dayod     $   1.     /*Day of Week of Death (page no. 24)                      */\n",
    "    @59 hosp      $   1.     /*Hospital Type (page no.25)                              */\n",
    "    @60 hospd     $   1.     /*Hospital Death Indicator (page no. 26)                  */\n",
    "    @61 ssnyn     $   1.     /*Presence of SSN (page no. 7)                            */\n",
    "    @62 vt        $   1.     /*Veteran Status (page no. 16)                            */\n",
    "    @63 histatus  $   1.     /*Health Insurance Status (page no. 22)                   */\n",
    "    @64 hitype    $   1.     /*Health Insurance Type (page no. 22)                     */\n",
    "    @65 povpct    $   2.     /*Income as Percent of Poverty Level (page no. 21)        */\n",
    "    @67 stater    $   2.     /*State Recode (page no. 8)                               */\n",
    "    @69 rcow      $   2.     /*Recoded Class of Worker (page no.19)                    */\n",
    "    @71 tenure    $   1.     /*Housing Tenure (page no. 14)                            */\n",
    "    @72 citizen   $   1.     /*Citizenship (page no. 16)                               */\n",
    "    @73 health    $   2.     /*Health (page no. 16)                                    */\n",
    "    @75 indalg        1.     /*Indicator of Algorithmic Death (page no. 27)            */\n",
    "    @76 smok100   $   1.     /*Smoked More than 100 Cigarettes (page no. 28)           */\n",
    "    @77 agesmk    $   2.     /*Age Started Smoking (page no. 28)                       */\n",
    "    @79 smokstat  $   1.     /*Cigarette Smoking Status (page no.28)                   */\n",
    "    @80 smokhome  $   1.     /*Rules for Smoking Cigarettes in the Home (page no. 29 ) */\n",
    "    @81 curruse   $   5.     /*Currently Use Smokeless Tobacco (page no. 30)           */\n",
    "    @86 everuse   $   5.     /*Ever Use Smokeless Tobacco (page no. 31)                */</pre>"
   ],
   "cell_type": "markdown",
   "metadata": {}
  }
 ]
}