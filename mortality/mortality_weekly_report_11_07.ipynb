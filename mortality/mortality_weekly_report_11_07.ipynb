{
 "cells": [
  {
   "cell_type": "markdown",
   "metadata": {},
   "source": [
    "# Mortality Group Script \n",
    "Rustom Ichhaporia"
   ]
  },
  {
   "cell_type": "code",
   "execution_count": 6,
   "metadata": {},
   "outputs": [],
   "source": [
    "# General imports used for data operations and plotting\n",
    "import pandas as pd\n",
    "import matplotlib.pyplot as plt\n",
    "import seaborn as sns\n",
    "import numpy as np\n",
    "import csv\n",
    "import ast\n",
    "\n",
    "# Scikit-learn imports for model building\n",
    "from sklearn.model_selection import train_test_split\n",
    "from sklearn.preprocessing import OneHotEncoder\n",
    "from sklearn.metrics import mean_squared_error\n",
    "from sklearn.metrics import average_precision_score\n",
    "from sklearn.metrics import auc\n",
    "from sklearn.metrics import roc_auc_score\n",
    "from sklearn.metrics import classification_report\n",
    "from sklearn.model_selection import RepeatedStratifiedKFold\n",
    "from sklearn.model_selection import cross_val_score\n",
    "from sklearn.utils import resample\n",
    "\n",
    "# Synthetic Minority Oversampling Technique for data balancing\n",
    "from imblearn.over_sampling import SMOTE\n",
    "\n",
    "# Final model format used for training\n",
    "import lightgbm as lgb\n",
    "\n",
    "# Hyperparameter optimization imports\n",
    "from hyperopt import STATUS_OK, hp, tpe, Trials, fmin\n",
    "from hyperopt.pyll.stochastic import sample\n",
    "from timeit import default_timer as timer\n",
    "\n",
    "# Set the default style for Seaborn\n",
    "sns.set()"
   ]
  },
  {
   "cell_type": "code",
   "execution_count": 7,
   "metadata": {},
   "outputs": [
    {
     "output_type": "execute_result",
     "data": {
      "text/plain": [
       "         record  age  race  sex   ms  hisp  adjinc  educ  pob   wt  ...   vt  \\\n",
       "0         88426   70   1.0    2  5.0   3.0    11.0   4.0  909  151  ...  0.0   \n",
       "1         88427   79   1.0    2  2.0   3.0    11.0   4.0  909  132  ...  0.0   \n",
       "2         88428   34   1.0    1  1.0   3.0     8.0   4.0  909  155  ...  0.0   \n",
       "3         88429   32   1.0    2  1.0   3.0     8.0   1.0  909  155  ...  0.0   \n",
       "4         88430    2   1.0    2  NaN   3.0     8.0   NaN  909  145  ...  NaN   \n",
       "...         ...  ...   ...  ...  ...   ...     ...   ...  ...  ...  ...  ...   \n",
       "1835067     666   19   1.0    1  5.0   2.0     4.0   8.0  909   60  ...  0.0   \n",
       "1835068     667   33   1.0    2  1.0   2.0    11.0   6.0  909   56  ...  0.0   \n",
       "1835069     668   16   1.0    2  5.0   2.0    11.0   6.0  909   60  ...  0.0   \n",
       "1835070     669    7   1.0    2  NaN   2.0    11.0   NaN  909   51  ...  NaN   \n",
       "1835071     670    6   1.0    1  NaN   2.0    11.0   NaN  909   56  ...  NaN   \n",
       "\n",
       "         histatus  hitype  povpct  stater  rcow  tenure  citizen  health  \\\n",
       "0             NaN     NaN      18      16   4.0     1.0      NaN     NaN   \n",
       "1             NaN     NaN      18      16   3.0     1.0      NaN     NaN   \n",
       "2             NaN     NaN      10      16   1.0     2.0      NaN     NaN   \n",
       "3             NaN     NaN      10      16   1.0     2.0      NaN     NaN   \n",
       "4             NaN     NaN      10      16   NaN     2.0      NaN     NaN   \n",
       "...           ...     ...     ...     ...   ...     ...      ...     ...   \n",
       "1835067       1.0     4.0       6      16   2.0     2.0      NaN     1.0   \n",
       "1835068       1.0     4.0      10      16   NaN     2.0      1.0     1.0   \n",
       "1835069       1.0     4.0      10      16   NaN     2.0      NaN     1.0   \n",
       "1835070       1.0     4.0      10      16   NaN     2.0      1.0     1.0   \n",
       "1835071       1.0     4.0      10      16   NaN     2.0      NaN     1.0   \n",
       "\n",
       "         indalg  \n",
       "0           1.0  \n",
       "1           NaN  \n",
       "2           1.0  \n",
       "3           1.0  \n",
       "4           1.0  \n",
       "...         ...  \n",
       "1835067     NaN  \n",
       "1835068     NaN  \n",
       "1835069     NaN  \n",
       "1835070     NaN  \n",
       "1835071     NaN  \n",
       "\n",
       "[1835072 rows x 37 columns]"
      ],
      "text/html": "<div>\n<style scoped>\n    .dataframe tbody tr th:only-of-type {\n        vertical-align: middle;\n    }\n\n    .dataframe tbody tr th {\n        vertical-align: top;\n    }\n\n    .dataframe thead th {\n        text-align: right;\n    }\n</style>\n<table border=\"1\" class=\"dataframe\">\n  <thead>\n    <tr style=\"text-align: right;\">\n      <th></th>\n      <th>record</th>\n      <th>age</th>\n      <th>race</th>\n      <th>sex</th>\n      <th>ms</th>\n      <th>hisp</th>\n      <th>adjinc</th>\n      <th>educ</th>\n      <th>pob</th>\n      <th>wt</th>\n      <th>...</th>\n      <th>vt</th>\n      <th>histatus</th>\n      <th>hitype</th>\n      <th>povpct</th>\n      <th>stater</th>\n      <th>rcow</th>\n      <th>tenure</th>\n      <th>citizen</th>\n      <th>health</th>\n      <th>indalg</th>\n    </tr>\n  </thead>\n  <tbody>\n    <tr>\n      <th>0</th>\n      <td>88426</td>\n      <td>70</td>\n      <td>1.0</td>\n      <td>2</td>\n      <td>5.0</td>\n      <td>3.0</td>\n      <td>11.0</td>\n      <td>4.0</td>\n      <td>909</td>\n      <td>151</td>\n      <td>...</td>\n      <td>0.0</td>\n      <td>NaN</td>\n      <td>NaN</td>\n      <td>18</td>\n      <td>16</td>\n      <td>4.0</td>\n      <td>1.0</td>\n      <td>NaN</td>\n      <td>NaN</td>\n      <td>1.0</td>\n    </tr>\n    <tr>\n      <th>1</th>\n      <td>88427</td>\n      <td>79</td>\n      <td>1.0</td>\n      <td>2</td>\n      <td>2.0</td>\n      <td>3.0</td>\n      <td>11.0</td>\n      <td>4.0</td>\n      <td>909</td>\n      <td>132</td>\n      <td>...</td>\n      <td>0.0</td>\n      <td>NaN</td>\n      <td>NaN</td>\n      <td>18</td>\n      <td>16</td>\n      <td>3.0</td>\n      <td>1.0</td>\n      <td>NaN</td>\n      <td>NaN</td>\n      <td>NaN</td>\n    </tr>\n    <tr>\n      <th>2</th>\n      <td>88428</td>\n      <td>34</td>\n      <td>1.0</td>\n      <td>1</td>\n      <td>1.0</td>\n      <td>3.0</td>\n      <td>8.0</td>\n      <td>4.0</td>\n      <td>909</td>\n      <td>155</td>\n      <td>...</td>\n      <td>0.0</td>\n      <td>NaN</td>\n      <td>NaN</td>\n      <td>10</td>\n      <td>16</td>\n      <td>1.0</td>\n      <td>2.0</td>\n      <td>NaN</td>\n      <td>NaN</td>\n      <td>1.0</td>\n    </tr>\n    <tr>\n      <th>3</th>\n      <td>88429</td>\n      <td>32</td>\n      <td>1.0</td>\n      <td>2</td>\n      <td>1.0</td>\n      <td>3.0</td>\n      <td>8.0</td>\n      <td>1.0</td>\n      <td>909</td>\n      <td>155</td>\n      <td>...</td>\n      <td>0.0</td>\n      <td>NaN</td>\n      <td>NaN</td>\n      <td>10</td>\n      <td>16</td>\n      <td>1.0</td>\n      <td>2.0</td>\n      <td>NaN</td>\n      <td>NaN</td>\n      <td>1.0</td>\n    </tr>\n    <tr>\n      <th>4</th>\n      <td>88430</td>\n      <td>2</td>\n      <td>1.0</td>\n      <td>2</td>\n      <td>NaN</td>\n      <td>3.0</td>\n      <td>8.0</td>\n      <td>NaN</td>\n      <td>909</td>\n      <td>145</td>\n      <td>...</td>\n      <td>NaN</td>\n      <td>NaN</td>\n      <td>NaN</td>\n      <td>10</td>\n      <td>16</td>\n      <td>NaN</td>\n      <td>2.0</td>\n      <td>NaN</td>\n      <td>NaN</td>\n      <td>1.0</td>\n    </tr>\n    <tr>\n      <th>...</th>\n      <td>...</td>\n      <td>...</td>\n      <td>...</td>\n      <td>...</td>\n      <td>...</td>\n      <td>...</td>\n      <td>...</td>\n      <td>...</td>\n      <td>...</td>\n      <td>...</td>\n      <td>...</td>\n      <td>...</td>\n      <td>...</td>\n      <td>...</td>\n      <td>...</td>\n      <td>...</td>\n      <td>...</td>\n      <td>...</td>\n      <td>...</td>\n      <td>...</td>\n      <td>...</td>\n    </tr>\n    <tr>\n      <th>1835067</th>\n      <td>666</td>\n      <td>19</td>\n      <td>1.0</td>\n      <td>1</td>\n      <td>5.0</td>\n      <td>2.0</td>\n      <td>4.0</td>\n      <td>8.0</td>\n      <td>909</td>\n      <td>60</td>\n      <td>...</td>\n      <td>0.0</td>\n      <td>1.0</td>\n      <td>4.0</td>\n      <td>6</td>\n      <td>16</td>\n      <td>2.0</td>\n      <td>2.0</td>\n      <td>NaN</td>\n      <td>1.0</td>\n      <td>NaN</td>\n    </tr>\n    <tr>\n      <th>1835068</th>\n      <td>667</td>\n      <td>33</td>\n      <td>1.0</td>\n      <td>2</td>\n      <td>1.0</td>\n      <td>2.0</td>\n      <td>11.0</td>\n      <td>6.0</td>\n      <td>909</td>\n      <td>56</td>\n      <td>...</td>\n      <td>0.0</td>\n      <td>1.0</td>\n      <td>4.0</td>\n      <td>10</td>\n      <td>16</td>\n      <td>NaN</td>\n      <td>2.0</td>\n      <td>1.0</td>\n      <td>1.0</td>\n      <td>NaN</td>\n    </tr>\n    <tr>\n      <th>1835069</th>\n      <td>668</td>\n      <td>16</td>\n      <td>1.0</td>\n      <td>2</td>\n      <td>5.0</td>\n      <td>2.0</td>\n      <td>11.0</td>\n      <td>6.0</td>\n      <td>909</td>\n      <td>60</td>\n      <td>...</td>\n      <td>0.0</td>\n      <td>1.0</td>\n      <td>4.0</td>\n      <td>10</td>\n      <td>16</td>\n      <td>NaN</td>\n      <td>2.0</td>\n      <td>NaN</td>\n      <td>1.0</td>\n      <td>NaN</td>\n    </tr>\n    <tr>\n      <th>1835070</th>\n      <td>669</td>\n      <td>7</td>\n      <td>1.0</td>\n      <td>2</td>\n      <td>NaN</td>\n      <td>2.0</td>\n      <td>11.0</td>\n      <td>NaN</td>\n      <td>909</td>\n      <td>51</td>\n      <td>...</td>\n      <td>NaN</td>\n      <td>1.0</td>\n      <td>4.0</td>\n      <td>10</td>\n      <td>16</td>\n      <td>NaN</td>\n      <td>2.0</td>\n      <td>1.0</td>\n      <td>1.0</td>\n      <td>NaN</td>\n    </tr>\n    <tr>\n      <th>1835071</th>\n      <td>670</td>\n      <td>6</td>\n      <td>1.0</td>\n      <td>1</td>\n      <td>NaN</td>\n      <td>2.0</td>\n      <td>11.0</td>\n      <td>NaN</td>\n      <td>909</td>\n      <td>56</td>\n      <td>...</td>\n      <td>NaN</td>\n      <td>1.0</td>\n      <td>4.0</td>\n      <td>10</td>\n      <td>16</td>\n      <td>NaN</td>\n      <td>2.0</td>\n      <td>NaN</td>\n      <td>1.0</td>\n      <td>NaN</td>\n    </tr>\n  </tbody>\n</table>\n<p>1835072 rows × 37 columns</p>\n</div>"
     },
     "metadata": {},
     "execution_count": 7
    }
   ],
   "source": [
    "df_raw = pd.read_csv('data/11.csv').drop(['smok100', 'agesmk', 'smokstat', 'smokhome', 'curruse', 'everuse'], axis=1)\n",
    "df_raw"
   ]
  },
  {
   "cell_type": "markdown",
   "metadata": {},
   "source": [
    "Because this data takes a long time to compile and verify from multiple smaller studies, the creators included both a definite and an algorithmic indicator of death to speed up the release of the data. These features, `'inddea'` and `'indalg'`, respectively, have been combined through intersection into one target variable, `'indmort'` in the way that the reference manual recommends. The expanded list of features is below. "
   ]
  },
  {
   "cell_type": "code",
   "execution_count": 8,
   "metadata": {},
   "outputs": [
    {
     "output_type": "execute_result",
     "data": {
      "text/plain": [
       "94107.0"
      ]
     },
     "metadata": {},
     "execution_count": 8
    }
   ],
   "source": [
    "# indmort is the recommended combination feature of both confirmed deaths and computer-predicted deaths based on the data collection agency\n",
    "df_raw['indmort'] = df_raw['inddea'][(df_raw['inddea'] == 1) & (df_raw['indalg'] == 1)]\n",
    "df_raw['indmort'] = df_raw['indmort'].fillna(0)\n",
    "df_raw['indmort'].sum()"
   ]
  },
  {
   "cell_type": "code",
   "execution_count": 9,
   "metadata": {},
   "outputs": [],
   "source": [
    "numerical = ['age', 'hhnum']\n",
    "uneven_numerical = ['adjinc', 'health', 'follow']\n",
    "categorical = ['race', 'sex', 'ms', 'hisp', 'educ', 'pob', 'hhid', 'reltrf', 'occ', 'majocc', 'ind', 'esr', 'urban', 'smsast', 'inddea', 'cause113', 'dayod', 'hosp', 'hospd', 'ssnyn', 'vt', 'histatus', 'hitype', 'povpct', 'stater', 'rcow', 'tenure', 'citizen', 'indalg']\n",
    "smoking = ['smok100', 'agesmk', 'smokstat', 'smokhome', 'curruse', 'everuse']\n",
    "misc = ['record', 'wt']"
   ]
  },
  {
   "cell_type": "markdown",
   "metadata": {},
   "source": [
    "\n",
    "<pre>List of all the features and their full names is pasted below. For the full description of the features, refer to the read_pubfile5.dat file. \n",
    "@1 record     $   7.     /*Record Number (page no. 6)                              */\n",
    "    @8 age            2.     /*Age at Time of Interview (page no. 10)                  */\n",
    "    @10 race      $   1.     /*Race  (page no.12)                                      */\n",
    "    @11 sex       $   1.     /*Sex   (page no.10)                                      */\n",
    "    @12 ms        $   1.     /*Marital Status (page no.13)                             */\n",
    "    @13 hisp      $   1.     /*Hispanic Origin (page no. 12)                           */\n",
    "    @14 adjinc    $   2.     /*Inflation Adjusted Income (page no.20)                  */\n",
    "    @16 educ      $   2.     /*Highest Grade Completed (page no.14)                    */\n",
    "    @18 pob       $   3.     /*Region of Birth (page no. 11)                           */\n",
    "    @21 wt            4.     /*Adjusted Weight (page no. 6 )                           */\n",
    "    @25 hhid      $   7.     /*Household ID No. (page no. 6)                           */\n",
    "    @32 hhnum         2.     /*Number of People in HH (page no. 14)                    */\n",
    "    @34 reltrf    $   1.     /*Relationship to Reference Person (page no.13)           */\n",
    "    @35 occ       $   4.     /*4 Digit Occupation Code (page no. 18)                   */\n",
    "    @39 majocc    $   2.     /*Major Occupation Code (page no. 18 )                    */\n",
    "    @41 ind       $   4.     /*4 Digit Industry Code (page no. 17)                     */\n",
    "    @45 majind    $   2.     /*Major Industry Code (page no. 18)                       */\n",
    "    @47 esr       $   1.     /*Employment Status Recode (page no. 17)                  */\n",
    "    @48 urban     $   1.     /*Urban/Rural Status (page no. 8)                         */\n",
    "    @49 smsast    $   1.     /*SMSAST Status (page no.9)                               */\n",
    "    @50 inddea    $   1.     /*Death Indicator (page no. 23)                           */\n",
    "    @51 cause113  $   3.     /*Cause of Death (page no. 23)                            */\n",
    "    @54 follow        4.     /*Length of Follow-up (page no. 24)                       */\n",
    "    @58 dayod     $   1.     /*Day of Week of Death (page no. 24)                      */\n",
    "    @59 hosp      $   1.     /*Hospital Type (page no.25)                              */\n",
    "    @60 hospd     $   1.     /*Hospital Death Indicator (page no. 26)                  */\n",
    "    @61 ssnyn     $   1.     /*Presence of SSN (page no. 7)                            */\n",
    "    @62 vt        $   1.     /*Veteran Status (page no. 16)                            */\n",
    "    @63 histatus  $   1.     /*Health Insurance Status (page no. 22)                   */\n",
    "    @64 hitype    $   1.     /*Health Insurance Type (page no. 22)                     */\n",
    "    @65 povpct    $   2.     /*Income as Percent of Poverty Level (page no. 21)        */\n",
    "    @67 stater    $   2.     /*State Recode (page no. 8)                               */\n",
    "    @69 rcow      $   2.     /*Recoded Class of Worker (page no.19)                    */\n",
    "    @71 tenure    $   1.     /*Housing Tenure (page no. 14)                            */\n",
    "    @72 citizen   $   1.     /*Citizenship (page no. 16)                               */\n",
    "    @73 health    $   2.     /*Health (page no. 16)                                    */\n",
    "    @75 indalg        1.     /*Indicator of Algorithmic Death (page no. 27)            */\n",
    "    @76 smok100   $   1.     /*Smoked More than 100 Cigarettes (page no. 28)           */\n",
    "    @77 agesmk    $   2.     /*Age Started Smoking (page no. 28)                       */\n",
    "    @79 smokstat  $   1.     /*Cigarette Smoking Status (page no.28)                   */\n",
    "    @80 smokhome  $   1.     /*Rules for Smoking Cigarettes in the Home (page no. 29 ) */\n",
    "    @81 curruse   $   5.     /*Currently Use Smokeless Tobacco (page no. 30)           */\n",
    "    @86 everuse   $   5.     /*Ever Use Smokeless Tobacco (page no. 31)                */</pre>"
   ]
  },
  {
   "source": [
    "For exploratory data analysis purposes, only a few variables have been selected. Several of the other variables available in the dataset are largely irrelevant to the cause of death, post-mortem statistics (e.g. `cause113`), or have very high missing rates (e.g. `health` has a missing rate of nearly 80% because it is self reported). "
   ],
   "cell_type": "markdown",
   "metadata": {}
  },
  {
   "cell_type": "code",
   "execution_count": 18,
   "metadata": {},
   "outputs": [],
   "source": [
    "used_features = ['age', 'sex', 'stater', 'povpct', 'pob', 'race', 'urban', 'ms', 'adjinc', 'educ', 'indmort', 'wt']#, 'educ', 'stater']#, 'wt']\n",
    "df = df_raw[used_features]"
   ]
  },
  {
   "cell_type": "markdown",
   "metadata": {},
   "source": [
    "Correlations can be useful for numerical features, but most of these features are categorical, so I decided to begin one-hot encoding and imputation of missing values. I then convert the data types of the non-numerical features to category. Each entry has an associated weight, but those have not yet been factored in. "
   ]
  },
  {
   "cell_type": "code",
   "execution_count": 23,
   "metadata": {},
   "outputs": [
    {
     "output_type": "execute_result",
     "data": {
      "text/plain": [
       "age           int64\n",
       "sex        category\n",
       "stater     category\n",
       "povpct        int64\n",
       "pob        category\n",
       "race       category\n",
       "urban      category\n",
       "ms         category\n",
       "adjinc      float64\n",
       "educ       category\n",
       "indmort     float64\n",
       "wt            int64\n",
       "dtype: object"
      ]
     },
     "metadata": {},
     "execution_count": 23
    }
   ],
   "source": [
    "df = df.astype({'sex':'category', 'stater': 'category', 'pob': 'category', 'race': 'category', 'urban': 'category', 'ms': 'category'})\n",
    "df = df.astype({'educ':'category', 'stater':'category'})\n",
    "df.dtypes"
   ]
  },
  {
   "cell_type": "code",
   "execution_count": 24,
   "metadata": {},
   "outputs": [
    {
     "output_type": "execute_result",
     "data": {
      "text/plain": [
       "              age    povpct    adjinc   indmort        wt\n",
       "age      1.000000  0.123609 -0.069941  0.336753  0.013393\n",
       "povpct   0.123609  1.000000  0.895188 -0.026255  0.043157\n",
       "adjinc  -0.069941  0.895188  1.000000 -0.098752  0.022510\n",
       "indmort  0.336753 -0.026255 -0.098752  1.000000  0.005620\n",
       "wt       0.013393  0.043157  0.022510  0.005620  1.000000"
      ],
      "text/html": "<div>\n<style scoped>\n    .dataframe tbody tr th:only-of-type {\n        vertical-align: middle;\n    }\n\n    .dataframe tbody tr th {\n        vertical-align: top;\n    }\n\n    .dataframe thead th {\n        text-align: right;\n    }\n</style>\n<table border=\"1\" class=\"dataframe\">\n  <thead>\n    <tr style=\"text-align: right;\">\n      <th></th>\n      <th>age</th>\n      <th>povpct</th>\n      <th>adjinc</th>\n      <th>indmort</th>\n      <th>wt</th>\n    </tr>\n  </thead>\n  <tbody>\n    <tr>\n      <th>age</th>\n      <td>1.000000</td>\n      <td>0.123609</td>\n      <td>-0.069941</td>\n      <td>0.336753</td>\n      <td>0.013393</td>\n    </tr>\n    <tr>\n      <th>povpct</th>\n      <td>0.123609</td>\n      <td>1.000000</td>\n      <td>0.895188</td>\n      <td>-0.026255</td>\n      <td>0.043157</td>\n    </tr>\n    <tr>\n      <th>adjinc</th>\n      <td>-0.069941</td>\n      <td>0.895188</td>\n      <td>1.000000</td>\n      <td>-0.098752</td>\n      <td>0.022510</td>\n    </tr>\n    <tr>\n      <th>indmort</th>\n      <td>0.336753</td>\n      <td>-0.026255</td>\n      <td>-0.098752</td>\n      <td>1.000000</td>\n      <td>0.005620</td>\n    </tr>\n    <tr>\n      <th>wt</th>\n      <td>0.013393</td>\n      <td>0.043157</td>\n      <td>0.022510</td>\n      <td>0.005620</td>\n      <td>1.000000</td>\n    </tr>\n  </tbody>\n</table>\n</div>"
     },
     "metadata": {},
     "execution_count": 24
    }
   ],
   "source": [
    "df.corr()"
   ]
  },
  {
   "cell_type": "code",
   "execution_count": 25,
   "metadata": {},
   "outputs": [
    {
     "output_type": "execute_result",
     "data": {
      "text/plain": [
       "         age sex stater  povpct  pob race urban   ms  adjinc educ  indmort  \\\n",
       "0         70   2     16      18  909  1.0   1.0  5.0    11.0  4.0      0.0   \n",
       "1         79   2     16      18  909  1.0   1.0  2.0    11.0  4.0      0.0   \n",
       "2         34   1     16      10  909  1.0   1.0  1.0     8.0  4.0      0.0   \n",
       "3         32   2     16      10  909  1.0   1.0  1.0     8.0  1.0      0.0   \n",
       "4          2   2     16      10  909  1.0   1.0  NaN     8.0  NaN      0.0   \n",
       "...      ...  ..    ...     ...  ...  ...   ...  ...     ...  ...      ...   \n",
       "1835067   19   1     16       6  909  1.0   1.0  5.0     4.0  8.0      0.0   \n",
       "1835068   33   2     16      10  909  1.0   1.0  1.0    11.0  6.0      0.0   \n",
       "1835069   16   2     16      10  909  1.0   1.0  5.0    11.0  6.0      0.0   \n",
       "1835070    7   2     16      10  909  1.0   1.0  NaN    11.0  NaN      0.0   \n",
       "1835071    6   1     16      10  909  1.0   1.0  NaN    11.0  NaN      0.0   \n",
       "\n",
       "          wt  \n",
       "0        151  \n",
       "1        132  \n",
       "2        155  \n",
       "3        155  \n",
       "4        145  \n",
       "...      ...  \n",
       "1835067   60  \n",
       "1835068   56  \n",
       "1835069   60  \n",
       "1835070   51  \n",
       "1835071   56  \n",
       "\n",
       "[1835072 rows x 12 columns]"
      ],
      "text/html": "<div>\n<style scoped>\n    .dataframe tbody tr th:only-of-type {\n        vertical-align: middle;\n    }\n\n    .dataframe tbody tr th {\n        vertical-align: top;\n    }\n\n    .dataframe thead th {\n        text-align: right;\n    }\n</style>\n<table border=\"1\" class=\"dataframe\">\n  <thead>\n    <tr style=\"text-align: right;\">\n      <th></th>\n      <th>age</th>\n      <th>sex</th>\n      <th>stater</th>\n      <th>povpct</th>\n      <th>pob</th>\n      <th>race</th>\n      <th>urban</th>\n      <th>ms</th>\n      <th>adjinc</th>\n      <th>educ</th>\n      <th>indmort</th>\n      <th>wt</th>\n    </tr>\n  </thead>\n  <tbody>\n    <tr>\n      <th>0</th>\n      <td>70</td>\n      <td>2</td>\n      <td>16</td>\n      <td>18</td>\n      <td>909</td>\n      <td>1.0</td>\n      <td>1.0</td>\n      <td>5.0</td>\n      <td>11.0</td>\n      <td>4.0</td>\n      <td>0.0</td>\n      <td>151</td>\n    </tr>\n    <tr>\n      <th>1</th>\n      <td>79</td>\n      <td>2</td>\n      <td>16</td>\n      <td>18</td>\n      <td>909</td>\n      <td>1.0</td>\n      <td>1.0</td>\n      <td>2.0</td>\n      <td>11.0</td>\n      <td>4.0</td>\n      <td>0.0</td>\n      <td>132</td>\n    </tr>\n    <tr>\n      <th>2</th>\n      <td>34</td>\n      <td>1</td>\n      <td>16</td>\n      <td>10</td>\n      <td>909</td>\n      <td>1.0</td>\n      <td>1.0</td>\n      <td>1.0</td>\n      <td>8.0</td>\n      <td>4.0</td>\n      <td>0.0</td>\n      <td>155</td>\n    </tr>\n    <tr>\n      <th>3</th>\n      <td>32</td>\n      <td>2</td>\n      <td>16</td>\n      <td>10</td>\n      <td>909</td>\n      <td>1.0</td>\n      <td>1.0</td>\n      <td>1.0</td>\n      <td>8.0</td>\n      <td>1.0</td>\n      <td>0.0</td>\n      <td>155</td>\n    </tr>\n    <tr>\n      <th>4</th>\n      <td>2</td>\n      <td>2</td>\n      <td>16</td>\n      <td>10</td>\n      <td>909</td>\n      <td>1.0</td>\n      <td>1.0</td>\n      <td>NaN</td>\n      <td>8.0</td>\n      <td>NaN</td>\n      <td>0.0</td>\n      <td>145</td>\n    </tr>\n    <tr>\n      <th>...</th>\n      <td>...</td>\n      <td>...</td>\n      <td>...</td>\n      <td>...</td>\n      <td>...</td>\n      <td>...</td>\n      <td>...</td>\n      <td>...</td>\n      <td>...</td>\n      <td>...</td>\n      <td>...</td>\n      <td>...</td>\n    </tr>\n    <tr>\n      <th>1835067</th>\n      <td>19</td>\n      <td>1</td>\n      <td>16</td>\n      <td>6</td>\n      <td>909</td>\n      <td>1.0</td>\n      <td>1.0</td>\n      <td>5.0</td>\n      <td>4.0</td>\n      <td>8.0</td>\n      <td>0.0</td>\n      <td>60</td>\n    </tr>\n    <tr>\n      <th>1835068</th>\n      <td>33</td>\n      <td>2</td>\n      <td>16</td>\n      <td>10</td>\n      <td>909</td>\n      <td>1.0</td>\n      <td>1.0</td>\n      <td>1.0</td>\n      <td>11.0</td>\n      <td>6.0</td>\n      <td>0.0</td>\n      <td>56</td>\n    </tr>\n    <tr>\n      <th>1835069</th>\n      <td>16</td>\n      <td>2</td>\n      <td>16</td>\n      <td>10</td>\n      <td>909</td>\n      <td>1.0</td>\n      <td>1.0</td>\n      <td>5.0</td>\n      <td>11.0</td>\n      <td>6.0</td>\n      <td>0.0</td>\n      <td>60</td>\n    </tr>\n    <tr>\n      <th>1835070</th>\n      <td>7</td>\n      <td>2</td>\n      <td>16</td>\n      <td>10</td>\n      <td>909</td>\n      <td>1.0</td>\n      <td>1.0</td>\n      <td>NaN</td>\n      <td>11.0</td>\n      <td>NaN</td>\n      <td>0.0</td>\n      <td>51</td>\n    </tr>\n    <tr>\n      <th>1835071</th>\n      <td>6</td>\n      <td>1</td>\n      <td>16</td>\n      <td>10</td>\n      <td>909</td>\n      <td>1.0</td>\n      <td>1.0</td>\n      <td>NaN</td>\n      <td>11.0</td>\n      <td>NaN</td>\n      <td>0.0</td>\n      <td>56</td>\n    </tr>\n  </tbody>\n</table>\n<p>1835072 rows × 12 columns</p>\n</div>"
     },
     "metadata": {},
     "execution_count": 25
    }
   ],
   "source": [
    "df"
   ]
  },
  {
   "cell_type": "code",
   "execution_count": 26,
   "metadata": {},
   "outputs": [
    {
     "output_type": "execute_result",
     "data": {
      "text/plain": [
       "0.0    0.948718\n",
       "1.0    0.051282\n",
       "Name: indmort, dtype: float64"
      ]
     },
     "metadata": {},
     "execution_count": 26
    }
   ],
   "source": [
    "df['indmort'].value_counts(normalize=True)"
   ]
  },
  {
   "cell_type": "code",
   "execution_count": 27,
   "metadata": {},
   "outputs": [
    {
     "output_type": "execute_result",
     "data": {
      "text/plain": [
       "(1835072, 12)"
      ]
     },
     "metadata": {},
     "execution_count": 27
    }
   ],
   "source": [
    "df.shape"
   ]
  },
  {
   "cell_type": "code",
   "execution_count": 28,
   "metadata": {},
   "outputs": [
    {
     "output_type": "execute_result",
     "data": {
      "text/plain": [
       "age        0.000000\n",
       "sex        0.000000\n",
       "stater     0.000000\n",
       "povpct     0.000000\n",
       "pob        0.000000\n",
       "indmort    0.000000\n",
       "wt         0.000000\n",
       "race       0.001575\n",
       "urban      0.007107\n",
       "adjinc     0.024124\n",
       "educ       0.191202\n",
       "ms         0.196846\n",
       "dtype: float64"
      ]
     },
     "metadata": {},
     "execution_count": 28
    }
   ],
   "source": [
    "(df.isna().sum() / df.shape[0]).sort_values()"
   ]
  },
  {
   "source": [
    "The call to `get_dummies()` will convert all the categorical features into individual binary columns. I have also dropped rows with missing values. "
   ],
   "cell_type": "markdown",
   "metadata": {}
  },
  {
   "cell_type": "code",
   "execution_count": 31,
   "metadata": {},
   "outputs": [],
   "source": [
    "df_dropped = df.dropna(axis=0)\n",
    "df_dropped = pd.get_dummies(df_dropped)"
   ]
  },
  {
   "cell_type": "code",
   "execution_count": 32,
   "metadata": {},
   "outputs": [
    {
     "output_type": "execute_result",
     "data": {
      "text/plain": [
       "(1443262, 147)"
      ]
     },
     "metadata": {},
     "execution_count": 32
    }
   ],
   "source": [
    "df_dropped.shape"
   ]
  },
  {
   "source": [
    "The Synthetic Minority Oversampling Technique (SMOTE) resamples the minority class (in this case, entries of people who have died) to make it easier for a classification model to predict the difference. However, it is only run on the training set, not the test set, so that the natural frequency of death is preserved when testing the performance of the model. "
   ],
   "cell_type": "markdown",
   "metadata": {}
  },
  {
   "cell_type": "code",
   "execution_count": 35,
   "metadata": {},
   "outputs": [
    {
     "output_type": "stream",
     "name": "stdout",
     "text": [
      "Dead / alive ratio before SMOTE: 0.06430156132427792\n"
     ]
    }
   ],
   "source": [
    "y = df_dropped['indmort']\n",
    "X = df_dropped.drop(columns=['indmort'])\n",
    "print('Dead / alive ratio before SMOTE:', y.sum() / y.shape[0])"
   ]
  },
  {
   "source": [
    "The `train_test_split()` function converts the X and y DataFrames into train and test sets for the model. "
   ],
   "cell_type": "markdown",
   "metadata": {}
  },
  {
   "cell_type": "code",
   "execution_count": 36,
   "metadata": {},
   "outputs": [],
   "source": [
    "X_train, X_test, y_train, y_test = train_test_split(X, y)"
   ]
  },
  {
   "cell_type": "code",
   "execution_count": 37,
   "metadata": {},
   "outputs": [
    {
     "output_type": "stream",
     "name": "stdout",
     "text": [
      "Dead / alive ratio after SMOTE: 0.5\n"
     ]
    }
   ],
   "source": [
    "# Only use oversampling for the train dataset, use regular distribution for testing\n",
    "oversample = SMOTE()\n",
    "X_train, y_train = oversample.fit_resample(X_train, y_train)\n",
    "print('Dead / alive ratio after SMOTE:', y_train.sum() / y_train.shape[0])"
   ]
  },
  {
   "source": [
    "Now, I implement a LightGBM classififer model and iterate through a hypermparameter space to find the best performing model. A suggested number of evaluations was 150. The below code is partially taken from this source: \n",
    "https://www.kaggle.com/willkoehrsen/automated-model-tuning "
   ],
   "cell_type": "markdown",
   "metadata": {}
  },
  {
   "cell_type": "code",
   "execution_count": 38,
   "metadata": {},
   "outputs": [],
   "source": [
    "train_set = lgb.Dataset(X_train, label=y_train)"
   ]
  },
  {
   "cell_type": "code",
   "execution_count": 39,
   "metadata": {},
   "outputs": [],
   "source": [
    "# Below code is from Jiaxin and Jingbin \n",
    "\n",
    "MAX_EVALS = 5\n",
    "N_FOLDS = 3\n",
    "\n",
    "def objective(params, n_folds = N_FOLDS):\n",
    "    \"\"\"Objective function for Gradient Boosting Machine Hyperparameter Optimization\"\"\"\n",
    "    \n",
    "    # Keep track of evals\n",
    "    global ITERATION\n",
    "    \n",
    "    ITERATION += 1\n",
    "    \n",
    "    # Retrieve the subsample if present otherwise set to 1.0\n",
    "    subsample = params['boosting_type'].get('subsample', 1.0)\n",
    "    \n",
    "    # Extract the boosting type\n",
    "    params['boosting_type'] = params['boosting_type']['boosting_type']\n",
    "    params['subsample'] = subsample\n",
    "    \n",
    "    # Make sure parameters that need to be integers are integers\n",
    "    for parameter_name in ['num_leaves', 'subsample_for_bin', 'min_child_samples']:\n",
    "        params[parameter_name] = int(params[parameter_name])\n",
    "    \n",
    "    start = timer()\n",
    "    \n",
    "    # Perform n_folds cross validation\n",
    "    cv_results = lgb.cv(params, train_set, num_boost_round = 1000, nfold = n_folds, \n",
    "                        early_stopping_rounds = 100, metrics = 'auc', seed = 50)\n",
    "    # print(cv_results)\n",
    "    \n",
    "    run_time = timer() - start\n",
    "    \n",
    "    # Extract the best score\n",
    "    # best_score = np.min(cv_results['mse-mean'])\n",
    "    best_score = np.max(cv_results['auc-mean'])\n",
    "    \n",
    "    # Loss must be minimized\n",
    "    loss = 1 - best_score\n",
    "    \n",
    "    # Boosting rounds that returned the lowest cv score\n",
    "    n_estimators = int(np.argmax(cv_results['auc-mean']) + 1)\n",
    "\n",
    "    # Write to the csv file ('a' means append)\n",
    "    of_connection = open(out_file, 'a')\n",
    "    writer = csv.writer(of_connection)\n",
    "    writer.writerow([loss, params, ITERATION, n_estimators, run_time])\n",
    "    \n",
    "    # Dictionary with information for evaluation\n",
    "    return {'loss': loss, 'params': params, 'iteration': ITERATION,\n",
    "            'estimators': n_estimators, \n",
    "            'train_time': run_time, 'status': STATUS_OK}"
   ]
  },
  {
   "cell_type": "code",
   "execution_count": 27,
   "metadata": {},
   "outputs": [
    {
     "output_type": "execute_result",
     "data": {
      "text/plain": [
       "{'boosting_type': 'gbdt',\n",
       " 'colsample_bytree': 0.9864416326585367,\n",
       " 'learning_rate': 0.060025627594363265,\n",
       " 'min_child_samples': 245.0,\n",
       " 'num_leaves': 75.0,\n",
       " 'reg_alpha': 0.06728569341468615,\n",
       " 'reg_lambda': 0.8998191545637946,\n",
       " 'subsample_for_bin': 220000.0,\n",
       " 'subsample': 0.551248433618183}"
      ]
     },
     "metadata": {},
     "execution_count": 27
    }
   ],
   "source": [
    "space = {\n",
    "    'boosting_type': hp.choice('boosting_type', [{'boosting_type': 'gbdt', 'subsample': hp.uniform('gdbt_subsample', 0.5, 1)}, \n",
    "                                                 {'boosting_type': 'dart', 'subsample': hp.uniform('dart_subsample', 0.5, 1)},\n",
    "                                                 {'boosting_type': 'goss', 'subsample': 1.0}]),\n",
    "    'num_leaves': hp.quniform('num_leaves', 30, 150, 1),\n",
    "    'learning_rate': hp.loguniform('learning_rate', np.log(0.01), np.log(0.2)),\n",
    "    'subsample_for_bin': hp.quniform('subsample_for_bin', 20000, 300000, 20000),\n",
    "    'min_child_samples': hp.quniform('min_child_samples', 20, 500, 5),\n",
    "    'reg_alpha': hp.uniform('reg_alpha', 0.0, 1.0),\n",
    "    'reg_lambda': hp.uniform('reg_lambda', 0.0, 1.0),\n",
    "    'colsample_bytree': hp.uniform('colsample_by_tree', 0.6, 1.0)\n",
    "}\n",
    "x = sample(space)\n",
    "\n",
    "# Conditional logic to assign top-level keys\n",
    "subsample = x['boosting_type'].get('subsample', 1.0)\n",
    "x['boosting_type'] = x['boosting_type']['boosting_type']\n",
    "x['subsample'] = subsample\n",
    "\n",
    "x"
   ]
  },
  {
   "cell_type": "code",
   "execution_count": 28,
   "metadata": {},
   "outputs": [],
   "source": [
    "# optimization algorithm\n",
    "tpe_algorithm = tpe.suggest"
   ]
  },
  {
   "cell_type": "code",
   "execution_count": 29,
   "metadata": {},
   "outputs": [],
   "source": [
    "# Keep track of results\n",
    "bayes_trials = Trials()"
   ]
  },
  {
   "cell_type": "code",
   "execution_count": 30,
   "metadata": {},
   "outputs": [],
   "source": [
    "# File to save first results\n",
    "out_file = 'gbm_trials.csv'\n",
    "of_connection = open(out_file, 'w')\n",
    "writer = csv.writer(of_connection)\n",
    "\n",
    "# Write the headers to the file\n",
    "writer.writerow(['loss', 'params', 'iteration', 'estimators', 'train_time'])\n",
    "of_connection.close()"
   ]
  },
  {
   "cell_type": "code",
   "execution_count": 31,
   "metadata": {
    "tags": []
   },
   "outputs": [
    {
     "output_type": "stream",
     "name": "stdout",
     "text": [
      "100%|██████████| 5/5 [11:17<00:00, 135.55s/trial, best loss: 0.009053589281652008]\n"
     ]
    }
   ],
   "source": [
    "global  ITERATION\n",
    "\n",
    "ITERATION = 0\n",
    "\n",
    "# Run optimization\n",
    "best = fmin(fn = objective, space = space, algo = tpe.suggest, \n",
    "            max_evals = MAX_EVALS, trials = bayes_trials, rstate = np.random.RandomState(50))"
   ]
  },
  {
   "cell_type": "code",
   "execution_count": 32,
   "metadata": {},
   "outputs": [
    {
     "output_type": "execute_result",
     "data": {
      "text/plain": [
       "[{'loss': 0.009053589281652008,\n",
       "  'params': {'boosting_type': 'gbdt',\n",
       "   'colsample_bytree': 0.8970523178797932,\n",
       "   'learning_rate': 0.035742378218536576,\n",
       "   'min_child_samples': 45,\n",
       "   'num_leaves': 138,\n",
       "   'reg_alpha': 0.5005020213127344,\n",
       "   'reg_lambda': 0.45121616279208887,\n",
       "   'subsample_for_bin': 260000,\n",
       "   'subsample': 0.6614743075688195},\n",
       "  'iteration': 2,\n",
       "  'estimators': 1000,\n",
       "  'train_time': 299.79700322198914,\n",
       "  'status': 'ok'},\n",
       " {'loss': 0.010676149743638619,\n",
       "  'params': {'boosting_type': 'gbdt',\n",
       "   'colsample_bytree': 0.620649129448606,\n",
       "   'learning_rate': 0.017934544496484815,\n",
       "   'min_child_samples': 260,\n",
       "   'num_leaves': 30,\n",
       "   'reg_alpha': 0.2092981310373776,\n",
       "   'reg_lambda': 0.8946886330215067,\n",
       "   'subsample_for_bin': 20000,\n",
       "   'subsample': 0.8731487506937664},\n",
       "  'iteration': 5,\n",
       "  'estimators': 1000,\n",
       "  'train_time': 263.6446141789929,\n",
       "  'status': 'ok'}]"
      ]
     },
     "metadata": {},
     "execution_count": 32
    }
   ],
   "source": [
    "# Sort the trials with lowest loss (lowest MSE) first\n",
    "bayes_trials_results = sorted(bayes_trials.results, key = lambda x: x['loss'])\n",
    "bayes_trials_results[:2]"
   ]
  },
  {
   "cell_type": "code",
   "execution_count": 33,
   "metadata": {},
   "outputs": [
    {
     "output_type": "execute_result",
     "data": {
      "text/plain": [
       "       loss                                             params  iteration  \\\n",
       "0  0.009054  {'boosting_type': 'gbdt', 'colsample_bytree': ...          2   \n",
       "1  0.010676  {'boosting_type': 'gbdt', 'colsample_bytree': ...          5   \n",
       "2  0.022391  {'boosting_type': 'goss', 'colsample_bytree': ...          1   \n",
       "3  0.025200  {'boosting_type': 'goss', 'colsample_bytree': ...          3   \n",
       "4  0.026597  {'boosting_type': 'goss', 'colsample_bytree': ...          4   \n",
       "\n",
       "   estimators  train_time  \n",
       "0        1000  299.797003  \n",
       "1        1000  263.644614  \n",
       "2          53   48.269464  \n",
       "3          17   31.476822  \n",
       "4          12   34.531737  "
      ],
      "text/html": "<div>\n<style scoped>\n    .dataframe tbody tr th:only-of-type {\n        vertical-align: middle;\n    }\n\n    .dataframe tbody tr th {\n        vertical-align: top;\n    }\n\n    .dataframe thead th {\n        text-align: right;\n    }\n</style>\n<table border=\"1\" class=\"dataframe\">\n  <thead>\n    <tr style=\"text-align: right;\">\n      <th></th>\n      <th>loss</th>\n      <th>params</th>\n      <th>iteration</th>\n      <th>estimators</th>\n      <th>train_time</th>\n    </tr>\n  </thead>\n  <tbody>\n    <tr>\n      <th>0</th>\n      <td>0.009054</td>\n      <td>{'boosting_type': 'gbdt', 'colsample_bytree': ...</td>\n      <td>2</td>\n      <td>1000</td>\n      <td>299.797003</td>\n    </tr>\n    <tr>\n      <th>1</th>\n      <td>0.010676</td>\n      <td>{'boosting_type': 'gbdt', 'colsample_bytree': ...</td>\n      <td>5</td>\n      <td>1000</td>\n      <td>263.644614</td>\n    </tr>\n    <tr>\n      <th>2</th>\n      <td>0.022391</td>\n      <td>{'boosting_type': 'goss', 'colsample_bytree': ...</td>\n      <td>1</td>\n      <td>53</td>\n      <td>48.269464</td>\n    </tr>\n    <tr>\n      <th>3</th>\n      <td>0.025200</td>\n      <td>{'boosting_type': 'goss', 'colsample_bytree': ...</td>\n      <td>3</td>\n      <td>17</td>\n      <td>31.476822</td>\n    </tr>\n    <tr>\n      <th>4</th>\n      <td>0.026597</td>\n      <td>{'boosting_type': 'goss', 'colsample_bytree': ...</td>\n      <td>4</td>\n      <td>12</td>\n      <td>34.531737</td>\n    </tr>\n  </tbody>\n</table>\n</div>"
     },
     "metadata": {},
     "execution_count": 33
    }
   ],
   "source": [
    "results = pd.read_csv('gbm_trials.csv')\n",
    "\n",
    "# Sort with best scores on top and reset index for slicing\n",
    "results.sort_values('loss', ascending = True, inplace = True)\n",
    "results.reset_index(inplace = True, drop = True)\n",
    "results.head()"
   ]
  },
  {
   "cell_type": "code",
   "execution_count": 34,
   "metadata": {},
   "outputs": [
    {
     "output_type": "execute_result",
     "data": {
      "text/plain": [
       "{'boosting_type': 'gbdt',\n",
       " 'colsample_bytree': 0.8970523178797932,\n",
       " 'learning_rate': 0.035742378218536576,\n",
       " 'min_child_samples': 45,\n",
       " 'num_leaves': 138,\n",
       " 'reg_alpha': 0.5005020213127344,\n",
       " 'reg_lambda': 0.45121616279208887,\n",
       " 'subsample_for_bin': 260000,\n",
       " 'subsample': 0.6614743075688195}"
      ]
     },
     "metadata": {},
     "execution_count": 34
    }
   ],
   "source": [
    "\n",
    "# Convert from a string to a dictionary\n",
    "ast.literal_eval(results.loc[0, 'params'])"
   ]
  },
  {
   "cell_type": "code",
   "execution_count": 35,
   "metadata": {},
   "outputs": [],
   "source": [
    "# Extract the ideal number of estimators and hyperparameters\n",
    "best_bayes_estimators = int(results.loc[0, 'estimators'])\n",
    "best_bayes_params = ast.literal_eval(results.loc[0, 'params']).copy()"
   ]
  },
  {
   "cell_type": "code",
   "execution_count": 63,
   "metadata": {},
   "outputs": [],
   "source": [
    "data1,data2 = train_test_split(df, train_size = 0.8, random_state = 42)\n",
    "n1 = data1.shape[0]\n",
    "data1.index=pd.Series(range(0,n1))\n",
    "n2 = data2.shape[0]\n",
    "data2.index=pd.Series(range(0,n2))"
   ]
  },
  {
   "cell_type": "code",
   "execution_count": 64,
   "metadata": {},
   "outputs": [],
   "source": [
    "X_train = data1.drop(['indmort'], axis=1)\n",
    "y_train = data1['indmort']\n",
    "X_test = data2.drop(['indmort'], axis=1)\n",
    "y_test = data2['indmort']"
   ]
  },
  {
   "cell_type": "code",
   "execution_count": 76,
   "metadata": {},
   "outputs": [
    {
     "output_type": "execute_result",
     "data": {
      "text/plain": [
       "LGBMClassifier(colsample_bytree=0.8970523178797932,\n",
       "               learning_rate=0.035742378218536576, min_child_samples=45,\n",
       "               n_estimators=1000, num_leaves=138, objective='binary',\n",
       "               random_state=50, reg_alpha=0.5005020213127344,\n",
       "               reg_lambda=0.45121616279208887, subsample=0.6614743075688195,\n",
       "               subsample_for_bin=260000)"
      ]
     },
     "metadata": {},
     "execution_count": 76
    }
   ],
   "source": [
    "# Re-create the best model and train on the training data\n",
    "best_bayes_model = lgb.LGBMClassifier(n_estimators=best_bayes_estimators, n_jobs = -1, \n",
    "                                       objective = 'binary', random_state = 50, **best_bayes_params)\n",
    "best_bayes_model.fit(X_train, y_train)"
   ]
  },
  {
   "cell_type": "code",
   "execution_count": 77,
   "metadata": {},
   "outputs": [
    {
     "output_type": "stream",
     "name": "stdout",
     "text": [
      "The best model from Bayes optimization scores 0.90201 AUC ROC on the test set.\n"
     ]
    }
   ],
   "source": [
    "preds = best_bayes_model.predict_proba(X_test)[:, 1]\n",
    "print('The best model from Bayes optimization scores {:.5f} AUC ROC on the test set.'.format(roc_auc_score(y_test, preds)))"
   ]
  },
  {
   "cell_type": "code",
   "execution_count": 78,
   "metadata": {},
   "outputs": [
    {
     "output_type": "execute_result",
     "data": {
      "text/plain": [
       "array([0.00419413, 0.0041355 , 0.07653413, ..., 0.00538721, 0.04496414,\n",
       "       0.02533242])"
      ]
     },
     "metadata": {},
     "execution_count": 78
    }
   ],
   "source": [
    "preds"
   ]
  },
  {
   "cell_type": "code",
   "execution_count": 79,
   "metadata": {},
   "outputs": [
    {
     "output_type": "stream",
     "name": "stdout",
     "text": [
      "              precision    recall  f1-score   support\n\n         0.0       0.96      0.99      0.97    348185\n         1.0       0.59      0.16      0.25     18830\n\n    accuracy                           0.95    367015\n   macro avg       0.77      0.58      0.61    367015\nweighted avg       0.94      0.95      0.94    367015\n\n"
     ]
    }
   ],
   "source": [
    "print(classification_report(y_test, preds.round()))"
   ]
  },
  {
   "cell_type": "code",
   "execution_count": 80,
   "metadata": {},
   "outputs": [
    {
     "output_type": "stream",
     "name": "stdout",
     "text": [
      "              precision    recall  f1-score   support\n\n         0.0       0.97      0.96      0.97    348185\n         1.0       0.40      0.48      0.44     18830\n\n    accuracy                           0.94    367015\n   macro avg       0.69      0.72      0.70    367015\nweighted avg       0.94      0.94      0.94    367015\n\n"
     ]
    }
   ],
   "source": [
    "print(classification_report(y_test, (preds + 0.25).round()))"
   ]
  },
  {
   "source": [
    "The predictions are best when a constant is added to the final probabilities. While the ROC/AUC score of the model after parameter tuning jumps from 0.73 to 0.9, the precision and recall of the minority class are relatively unchanged. I tried changing the loss function to auc, but the results were almost identical. "
   ],
   "cell_type": "markdown",
   "metadata": {}
  },
  {
   "cell_type": "code",
   "execution_count": 181,
   "metadata": {},
   "outputs": [],
   "source": [
    "probs = []\n",
    "for i in range(10, 100, 10):\n",
    "    temp = X_train.iloc[0:1000]\n",
    "    temp['age'] = 90\n",
    "    probs.append(best_bayes_model.predict_proba(temp)[:, 1])"
   ]
  },
  {
   "cell_type": "code",
   "execution_count": 182,
   "metadata": {},
   "outputs": [],
   "source": [
    "probs_clean = []\n",
    "for item in probs:\n",
    "    for value in item: \n",
    "        probs_clean.append(value)"
   ]
  },
  {
   "cell_type": "code",
   "execution_count": 183,
   "metadata": {},
   "outputs": [
    {
     "output_type": "execute_result",
     "data": {
      "text/plain": [
       "9000"
      ]
     },
     "metadata": {},
     "execution_count": 183
    }
   ],
   "source": [
    "len(probs_clean)"
   ]
  },
  {
   "cell_type": "code",
   "execution_count": 184,
   "metadata": {},
   "outputs": [
    {
     "output_type": "execute_result",
     "data": {
      "text/plain": [
       "<AxesSubplot:ylabel='Count'>"
      ]
     },
     "metadata": {},
     "execution_count": 184
    },
    {
     "output_type": "display_data",
     "data": {
      "text/plain": "<Figure size 432x288 with 1 Axes>",
      "image/svg+xml": "<?xml version=\"1.0\" encoding=\"utf-8\" standalone=\"no\"?>\n<!DOCTYPE svg PUBLIC \"-//W3C//DTD SVG 1.1//EN\"\n  \"http://www.w3.org/Graphics/SVG/1.1/DTD/svg11.dtd\">\n<!-- Created with matplotlib (https://matplotlib.org/) -->\n<svg height=\"251.399844pt\" version=\"1.1\" viewBox=\"0 0 392.025469 251.399844\" width=\"392.025469pt\" xmlns=\"http://www.w3.org/2000/svg\" xmlns:xlink=\"http://www.w3.org/1999/xlink\">\n <metadata>\n  <rdf:RDF xmlns:cc=\"http://creativecommons.org/ns#\" xmlns:dc=\"http://purl.org/dc/elements/1.1/\" xmlns:rdf=\"http://www.w3.org/1999/02/22-rdf-syntax-ns#\">\n   <cc:Work>\n    <dc:type rdf:resource=\"http://purl.org/dc/dcmitype/StillImage\"/>\n    <dc:date>2020-11-07T17:48:11.290893</dc:date>\n    <dc:format>image/svg+xml</dc:format>\n    <dc:creator>\n     <cc:Agent>\n      <dc:title>Matplotlib v3.3.2, https://matplotlib.org/</dc:title>\n     </cc:Agent>\n    </dc:creator>\n   </cc:Work>\n  </rdf:RDF>\n </metadata>\n <defs>\n  <style type=\"text/css\">*{stroke-linecap:butt;stroke-linejoin:round;}</style>\n </defs>\n <g id=\"figure_1\">\n  <g id=\"patch_1\">\n   <path d=\"M 0 251.399844 \nL 392.025469 251.399844 \nL 392.025469 0 \nL 0 0 \nz\n\" style=\"fill:#ffffff;\"/>\n  </g>\n  <g id=\"axes_1\">\n   <g id=\"patch_2\">\n    <path d=\"M 50.025469 224.64 \nL 384.825469 224.64 \nL 384.825469 7.2 \nL 50.025469 7.2 \nz\n\" style=\"fill:#eaeaf2;\"/>\n   </g>\n   <g id=\"matplotlib.axis_1\">\n    <g id=\"xtick_1\">\n     <g id=\"line2d_1\">\n      <path clip-path=\"url(#pc7aa218de9)\" d=\"M 62.944291 224.64 \nL 62.944291 7.2 \n\" style=\"fill:none;stroke:#ffffff;stroke-linecap:round;\"/>\n     </g>\n     <g id=\"text_1\">\n      <!-- 0.0 -->\n      <g style=\"fill:#262626;\" transform=\"translate(55.299291 242.013594)scale(0.11 -0.11)\">\n       <defs>\n        <path d=\"M 4.15625 35.296875 \nQ 4.15625 48 6.765625 55.734375 \nQ 9.375 63.484375 14.515625 67.671875 \nQ 19.671875 71.875 27.484375 71.875 \nQ 33.25 71.875 37.59375 69.546875 \nQ 41.9375 67.234375 44.765625 62.859375 \nQ 47.609375 58.5 49.21875 52.21875 \nQ 50.828125 45.953125 50.828125 35.296875 \nQ 50.828125 22.703125 48.234375 14.96875 \nQ 45.65625 7.234375 40.5 3 \nQ 35.359375 -1.21875 27.484375 -1.21875 \nQ 17.140625 -1.21875 11.234375 6.203125 \nQ 4.15625 15.140625 4.15625 35.296875 \nz\nM 13.1875 35.296875 \nQ 13.1875 17.671875 17.3125 11.828125 \nQ 21.4375 6 27.484375 6 \nQ 33.546875 6 37.671875 11.859375 \nQ 41.796875 17.71875 41.796875 35.296875 \nQ 41.796875 52.984375 37.671875 58.78125 \nQ 33.546875 64.59375 27.390625 64.59375 \nQ 21.34375 64.59375 17.71875 59.46875 \nQ 13.1875 52.9375 13.1875 35.296875 \nz\n\" id=\"ArialMT-48\"/>\n        <path d=\"M 9.078125 0 \nL 9.078125 10.015625 \nL 19.09375 10.015625 \nL 19.09375 0 \nz\n\" id=\"ArialMT-46\"/>\n       </defs>\n       <use xlink:href=\"#ArialMT-48\"/>\n       <use x=\"55.615234\" xlink:href=\"#ArialMT-46\"/>\n       <use x=\"83.398438\" xlink:href=\"#ArialMT-48\"/>\n      </g>\n     </g>\n    </g>\n    <g id=\"xtick_2\">\n     <g id=\"line2d_2\">\n      <path clip-path=\"url(#pc7aa218de9)\" d=\"M 129.919588 224.64 \nL 129.919588 7.2 \n\" style=\"fill:none;stroke:#ffffff;stroke-linecap:round;\"/>\n     </g>\n     <g id=\"text_2\">\n      <!-- 0.2 -->\n      <g style=\"fill:#262626;\" transform=\"translate(122.274588 242.013594)scale(0.11 -0.11)\">\n       <defs>\n        <path d=\"M 50.34375 8.453125 \nL 50.34375 0 \nL 3.03125 0 \nQ 2.9375 3.171875 4.046875 6.109375 \nQ 5.859375 10.9375 9.828125 15.625 \nQ 13.8125 20.3125 21.34375 26.46875 \nQ 33.015625 36.03125 37.109375 41.625 \nQ 41.21875 47.21875 41.21875 52.203125 \nQ 41.21875 57.421875 37.46875 61 \nQ 33.734375 64.59375 27.734375 64.59375 \nQ 21.390625 64.59375 17.578125 60.78125 \nQ 13.765625 56.984375 13.71875 50.25 \nL 4.6875 51.171875 \nQ 5.609375 61.28125 11.65625 66.578125 \nQ 17.71875 71.875 27.9375 71.875 \nQ 38.234375 71.875 44.234375 66.15625 \nQ 50.25 60.453125 50.25 52 \nQ 50.25 47.703125 48.484375 43.546875 \nQ 46.734375 39.40625 42.65625 34.8125 \nQ 38.578125 30.21875 29.109375 22.21875 \nQ 21.1875 15.578125 18.9375 13.203125 \nQ 16.703125 10.84375 15.234375 8.453125 \nz\n\" id=\"ArialMT-50\"/>\n       </defs>\n       <use xlink:href=\"#ArialMT-48\"/>\n       <use x=\"55.615234\" xlink:href=\"#ArialMT-46\"/>\n       <use x=\"83.398438\" xlink:href=\"#ArialMT-50\"/>\n      </g>\n     </g>\n    </g>\n    <g id=\"xtick_3\">\n     <g id=\"line2d_3\">\n      <path clip-path=\"url(#pc7aa218de9)\" d=\"M 196.894885 224.64 \nL 196.894885 7.2 \n\" style=\"fill:none;stroke:#ffffff;stroke-linecap:round;\"/>\n     </g>\n     <g id=\"text_3\">\n      <!-- 0.4 -->\n      <g style=\"fill:#262626;\" transform=\"translate(189.249885 242.013594)scale(0.11 -0.11)\">\n       <defs>\n        <path d=\"M 32.328125 0 \nL 32.328125 17.140625 \nL 1.265625 17.140625 \nL 1.265625 25.203125 \nL 33.9375 71.578125 \nL 41.109375 71.578125 \nL 41.109375 25.203125 \nL 50.78125 25.203125 \nL 50.78125 17.140625 \nL 41.109375 17.140625 \nL 41.109375 0 \nz\nM 32.328125 25.203125 \nL 32.328125 57.46875 \nL 9.90625 25.203125 \nz\n\" id=\"ArialMT-52\"/>\n       </defs>\n       <use xlink:href=\"#ArialMT-48\"/>\n       <use x=\"55.615234\" xlink:href=\"#ArialMT-46\"/>\n       <use x=\"83.398438\" xlink:href=\"#ArialMT-52\"/>\n      </g>\n     </g>\n    </g>\n    <g id=\"xtick_4\">\n     <g id=\"line2d_4\">\n      <path clip-path=\"url(#pc7aa218de9)\" d=\"M 263.870183 224.64 \nL 263.870183 7.2 \n\" style=\"fill:none;stroke:#ffffff;stroke-linecap:round;\"/>\n     </g>\n     <g id=\"text_4\">\n      <!-- 0.6 -->\n      <g style=\"fill:#262626;\" transform=\"translate(256.225183 242.013594)scale(0.11 -0.11)\">\n       <defs>\n        <path d=\"M 49.75 54.046875 \nL 41.015625 53.375 \nQ 39.84375 58.546875 37.703125 60.890625 \nQ 34.125 64.65625 28.90625 64.65625 \nQ 24.703125 64.65625 21.53125 62.3125 \nQ 17.390625 59.28125 14.984375 53.46875 \nQ 12.59375 47.65625 12.5 36.921875 \nQ 15.671875 41.75 20.265625 44.09375 \nQ 24.859375 46.4375 29.890625 46.4375 \nQ 38.671875 46.4375 44.84375 39.96875 \nQ 51.03125 33.5 51.03125 23.25 \nQ 51.03125 16.5 48.125 10.71875 \nQ 45.21875 4.9375 40.140625 1.859375 \nQ 35.0625 -1.21875 28.609375 -1.21875 \nQ 17.625 -1.21875 10.6875 6.859375 \nQ 3.765625 14.9375 3.765625 33.5 \nQ 3.765625 54.25 11.421875 63.671875 \nQ 18.109375 71.875 29.4375 71.875 \nQ 37.890625 71.875 43.28125 67.140625 \nQ 48.6875 62.40625 49.75 54.046875 \nz\nM 13.875 23.1875 \nQ 13.875 18.65625 15.796875 14.5 \nQ 17.71875 10.359375 21.1875 8.171875 \nQ 24.65625 6 28.46875 6 \nQ 34.03125 6 38.03125 10.484375 \nQ 42.046875 14.984375 42.046875 22.703125 \nQ 42.046875 30.125 38.078125 34.390625 \nQ 34.125 38.671875 28.125 38.671875 \nQ 22.171875 38.671875 18.015625 34.390625 \nQ 13.875 30.125 13.875 23.1875 \nz\n\" id=\"ArialMT-54\"/>\n       </defs>\n       <use xlink:href=\"#ArialMT-48\"/>\n       <use x=\"55.615234\" xlink:href=\"#ArialMT-46\"/>\n       <use x=\"83.398438\" xlink:href=\"#ArialMT-54\"/>\n      </g>\n     </g>\n    </g>\n    <g id=\"xtick_5\">\n     <g id=\"line2d_5\">\n      <path clip-path=\"url(#pc7aa218de9)\" d=\"M 330.84548 224.64 \nL 330.84548 7.2 \n\" style=\"fill:none;stroke:#ffffff;stroke-linecap:round;\"/>\n     </g>\n     <g id=\"text_5\">\n      <!-- 0.8 -->\n      <g style=\"fill:#262626;\" transform=\"translate(323.20048 242.013594)scale(0.11 -0.11)\">\n       <defs>\n        <path d=\"M 17.671875 38.8125 \nQ 12.203125 40.828125 9.5625 44.53125 \nQ 6.9375 48.25 6.9375 53.421875 \nQ 6.9375 61.234375 12.546875 66.546875 \nQ 18.171875 71.875 27.484375 71.875 \nQ 36.859375 71.875 42.578125 66.421875 \nQ 48.296875 60.984375 48.296875 53.171875 \nQ 48.296875 48.1875 45.671875 44.5 \nQ 43.0625 40.828125 37.75 38.8125 \nQ 44.34375 36.671875 47.78125 31.875 \nQ 51.21875 27.09375 51.21875 20.453125 \nQ 51.21875 11.28125 44.71875 5.03125 \nQ 38.234375 -1.21875 27.640625 -1.21875 \nQ 17.046875 -1.21875 10.546875 5.046875 \nQ 4.046875 11.328125 4.046875 20.703125 \nQ 4.046875 27.6875 7.59375 32.390625 \nQ 11.140625 37.109375 17.671875 38.8125 \nz\nM 15.921875 53.71875 \nQ 15.921875 48.640625 19.1875 45.40625 \nQ 22.46875 42.1875 27.6875 42.1875 \nQ 32.765625 42.1875 36.015625 45.375 \nQ 39.265625 48.578125 39.265625 53.21875 \nQ 39.265625 58.0625 35.90625 61.359375 \nQ 32.5625 64.65625 27.59375 64.65625 \nQ 22.5625 64.65625 19.234375 61.421875 \nQ 15.921875 58.203125 15.921875 53.71875 \nz\nM 13.09375 20.65625 \nQ 13.09375 16.890625 14.875 13.375 \nQ 16.65625 9.859375 20.171875 7.921875 \nQ 23.6875 6 27.734375 6 \nQ 34.03125 6 38.125 10.046875 \nQ 42.234375 14.109375 42.234375 20.359375 \nQ 42.234375 26.703125 38.015625 30.859375 \nQ 33.796875 35.015625 27.4375 35.015625 \nQ 21.234375 35.015625 17.15625 30.90625 \nQ 13.09375 26.8125 13.09375 20.65625 \nz\n\" id=\"ArialMT-56\"/>\n       </defs>\n       <use xlink:href=\"#ArialMT-48\"/>\n       <use x=\"55.615234\" xlink:href=\"#ArialMT-46\"/>\n       <use x=\"83.398438\" xlink:href=\"#ArialMT-56\"/>\n      </g>\n     </g>\n    </g>\n   </g>\n   <g id=\"matplotlib.axis_2\">\n    <g id=\"ytick_1\">\n     <g id=\"line2d_6\">\n      <path clip-path=\"url(#pc7aa218de9)\" d=\"M 50.025469 224.64 \nL 384.825469 224.64 \n\" style=\"fill:none;stroke:#ffffff;stroke-linecap:round;\"/>\n     </g>\n     <g id=\"text_6\">\n      <!-- 0 -->\n      <g style=\"fill:#262626;\" transform=\"translate(34.408438 228.576797)scale(0.11 -0.11)\">\n       <use xlink:href=\"#ArialMT-48\"/>\n      </g>\n     </g>\n    </g>\n    <g id=\"ytick_2\">\n     <g id=\"line2d_7\">\n      <path clip-path=\"url(#pc7aa218de9)\" d=\"M 50.025469 183.551565 \nL 384.825469 183.551565 \n\" style=\"fill:none;stroke:#ffffff;stroke-linecap:round;\"/>\n     </g>\n     <g id=\"text_7\">\n      <!-- 100 -->\n      <g style=\"fill:#262626;\" transform=\"translate(22.174375 187.488362)scale(0.11 -0.11)\">\n       <defs>\n        <path d=\"M 37.25 0 \nL 28.46875 0 \nL 28.46875 56 \nQ 25.296875 52.984375 20.140625 49.953125 \nQ 14.984375 46.921875 10.890625 45.40625 \nL 10.890625 53.90625 \nQ 18.265625 57.375 23.78125 62.296875 \nQ 29.296875 67.234375 31.59375 71.875 \nL 37.25 71.875 \nz\n\" id=\"ArialMT-49\"/>\n       </defs>\n       <use xlink:href=\"#ArialMT-49\"/>\n       <use x=\"55.615234\" xlink:href=\"#ArialMT-48\"/>\n       <use x=\"111.230469\" xlink:href=\"#ArialMT-48\"/>\n      </g>\n     </g>\n    </g>\n    <g id=\"ytick_3\">\n     <g id=\"line2d_8\">\n      <path clip-path=\"url(#pc7aa218de9)\" d=\"M 50.025469 142.463129 \nL 384.825469 142.463129 \n\" style=\"fill:none;stroke:#ffffff;stroke-linecap:round;\"/>\n     </g>\n     <g id=\"text_8\">\n      <!-- 200 -->\n      <g style=\"fill:#262626;\" transform=\"translate(22.174375 146.399926)scale(0.11 -0.11)\">\n       <use xlink:href=\"#ArialMT-50\"/>\n       <use x=\"55.615234\" xlink:href=\"#ArialMT-48\"/>\n       <use x=\"111.230469\" xlink:href=\"#ArialMT-48\"/>\n      </g>\n     </g>\n    </g>\n    <g id=\"ytick_4\">\n     <g id=\"line2d_9\">\n      <path clip-path=\"url(#pc7aa218de9)\" d=\"M 50.025469 101.374694 \nL 384.825469 101.374694 \n\" style=\"fill:none;stroke:#ffffff;stroke-linecap:round;\"/>\n     </g>\n     <g id=\"text_9\">\n      <!-- 300 -->\n      <g style=\"fill:#262626;\" transform=\"translate(22.174375 105.311491)scale(0.11 -0.11)\">\n       <defs>\n        <path d=\"M 4.203125 18.890625 \nL 12.984375 20.0625 \nQ 14.5 12.59375 18.140625 9.296875 \nQ 21.78125 6 27 6 \nQ 33.203125 6 37.46875 10.296875 \nQ 41.75 14.59375 41.75 20.953125 \nQ 41.75 27 37.796875 30.921875 \nQ 33.84375 34.859375 27.734375 34.859375 \nQ 25.25 34.859375 21.53125 33.890625 \nL 22.515625 41.609375 \nQ 23.390625 41.5 23.921875 41.5 \nQ 29.546875 41.5 34.03125 44.421875 \nQ 38.53125 47.359375 38.53125 53.46875 \nQ 38.53125 58.296875 35.25 61.46875 \nQ 31.984375 64.65625 26.8125 64.65625 \nQ 21.6875 64.65625 18.265625 61.421875 \nQ 14.84375 58.203125 13.875 51.765625 \nL 5.078125 53.328125 \nQ 6.6875 62.15625 12.390625 67.015625 \nQ 18.109375 71.875 26.609375 71.875 \nQ 32.46875 71.875 37.390625 69.359375 \nQ 42.328125 66.84375 44.9375 62.5 \nQ 47.5625 58.15625 47.5625 53.265625 \nQ 47.5625 48.640625 45.0625 44.828125 \nQ 42.578125 41.015625 37.703125 38.765625 \nQ 44.046875 37.3125 47.5625 32.6875 \nQ 51.078125 28.078125 51.078125 21.140625 \nQ 51.078125 11.765625 44.234375 5.25 \nQ 37.40625 -1.265625 26.953125 -1.265625 \nQ 17.53125 -1.265625 11.296875 4.34375 \nQ 5.078125 9.96875 4.203125 18.890625 \nz\n\" id=\"ArialMT-51\"/>\n       </defs>\n       <use xlink:href=\"#ArialMT-51\"/>\n       <use x=\"55.615234\" xlink:href=\"#ArialMT-48\"/>\n       <use x=\"111.230469\" xlink:href=\"#ArialMT-48\"/>\n      </g>\n     </g>\n    </g>\n    <g id=\"ytick_5\">\n     <g id=\"line2d_10\">\n      <path clip-path=\"url(#pc7aa218de9)\" d=\"M 50.025469 60.286259 \nL 384.825469 60.286259 \n\" style=\"fill:none;stroke:#ffffff;stroke-linecap:round;\"/>\n     </g>\n     <g id=\"text_10\">\n      <!-- 400 -->\n      <g style=\"fill:#262626;\" transform=\"translate(22.174375 64.223055)scale(0.11 -0.11)\">\n       <use xlink:href=\"#ArialMT-52\"/>\n       <use x=\"55.615234\" xlink:href=\"#ArialMT-48\"/>\n       <use x=\"111.230469\" xlink:href=\"#ArialMT-48\"/>\n      </g>\n     </g>\n    </g>\n    <g id=\"ytick_6\">\n     <g id=\"line2d_11\">\n      <path clip-path=\"url(#pc7aa218de9)\" d=\"M 50.025469 19.197823 \nL 384.825469 19.197823 \n\" style=\"fill:none;stroke:#ffffff;stroke-linecap:round;\"/>\n     </g>\n     <g id=\"text_11\">\n      <!-- 500 -->\n      <g style=\"fill:#262626;\" transform=\"translate(22.174375 23.13462)scale(0.11 -0.11)\">\n       <defs>\n        <path d=\"M 4.15625 18.75 \nL 13.375 19.53125 \nQ 14.40625 12.796875 18.140625 9.390625 \nQ 21.875 6 27.15625 6 \nQ 33.5 6 37.890625 10.78125 \nQ 42.28125 15.578125 42.28125 23.484375 \nQ 42.28125 31 38.0625 35.34375 \nQ 33.84375 39.703125 27 39.703125 \nQ 22.75 39.703125 19.328125 37.765625 \nQ 15.921875 35.84375 13.96875 32.765625 \nL 5.71875 33.84375 \nL 12.640625 70.609375 \nL 48.25 70.609375 \nL 48.25 62.203125 \nL 19.671875 62.203125 \nL 15.828125 42.96875 \nQ 22.265625 47.46875 29.34375 47.46875 \nQ 38.71875 47.46875 45.15625 40.96875 \nQ 51.609375 34.46875 51.609375 24.265625 \nQ 51.609375 14.546875 45.953125 7.46875 \nQ 39.0625 -1.21875 27.15625 -1.21875 \nQ 17.390625 -1.21875 11.203125 4.25 \nQ 5.03125 9.71875 4.15625 18.75 \nz\n\" id=\"ArialMT-53\"/>\n       </defs>\n       <use xlink:href=\"#ArialMT-53\"/>\n       <use x=\"55.615234\" xlink:href=\"#ArialMT-48\"/>\n       <use x=\"111.230469\" xlink:href=\"#ArialMT-48\"/>\n      </g>\n     </g>\n    </g>\n    <g id=\"text_12\">\n     <!-- Count -->\n     <g style=\"fill:#262626;\" transform=\"translate(15.789375 131.929687)rotate(-90)scale(0.12 -0.12)\">\n      <defs>\n       <path d=\"M 58.796875 25.09375 \nL 68.265625 22.703125 \nQ 65.28125 11.03125 57.546875 4.90625 \nQ 49.8125 -1.21875 38.625 -1.21875 \nQ 27.046875 -1.21875 19.796875 3.484375 \nQ 12.546875 8.203125 8.765625 17.140625 \nQ 4.984375 26.078125 4.984375 36.328125 \nQ 4.984375 47.515625 9.25 55.828125 \nQ 13.53125 64.15625 21.40625 68.46875 \nQ 29.296875 72.796875 38.765625 72.796875 \nQ 49.515625 72.796875 56.828125 67.328125 \nQ 64.15625 61.859375 67.046875 51.953125 \nL 57.71875 49.75 \nQ 55.21875 57.5625 50.484375 61.125 \nQ 45.75 64.703125 38.578125 64.703125 \nQ 30.328125 64.703125 24.78125 60.734375 \nQ 19.234375 56.78125 16.984375 50.109375 \nQ 14.75 43.453125 14.75 36.375 \nQ 14.75 27.25 17.40625 20.4375 \nQ 20.0625 13.625 25.671875 10.25 \nQ 31.296875 6.890625 37.84375 6.890625 \nQ 45.796875 6.890625 51.3125 11.46875 \nQ 56.84375 16.0625 58.796875 25.09375 \nz\n\" id=\"ArialMT-67\"/>\n       <path d=\"M 3.328125 25.921875 \nQ 3.328125 40.328125 11.328125 47.265625 \nQ 18.015625 53.03125 27.640625 53.03125 \nQ 38.328125 53.03125 45.109375 46.015625 \nQ 51.90625 39.015625 51.90625 26.65625 \nQ 51.90625 16.65625 48.90625 10.90625 \nQ 45.90625 5.171875 40.15625 2 \nQ 34.421875 -1.171875 27.640625 -1.171875 \nQ 16.75 -1.171875 10.03125 5.8125 \nQ 3.328125 12.796875 3.328125 25.921875 \nz\nM 12.359375 25.921875 \nQ 12.359375 15.96875 16.703125 11.015625 \nQ 21.046875 6.0625 27.640625 6.0625 \nQ 34.1875 6.0625 38.53125 11.03125 \nQ 42.875 16.015625 42.875 26.21875 \nQ 42.875 35.84375 38.5 40.796875 \nQ 34.125 45.75 27.640625 45.75 \nQ 21.046875 45.75 16.703125 40.8125 \nQ 12.359375 35.890625 12.359375 25.921875 \nz\n\" id=\"ArialMT-111\"/>\n       <path d=\"M 40.578125 0 \nL 40.578125 7.625 \nQ 34.515625 -1.171875 24.125 -1.171875 \nQ 19.53125 -1.171875 15.546875 0.578125 \nQ 11.578125 2.34375 9.640625 5 \nQ 7.71875 7.671875 6.9375 11.53125 \nQ 6.390625 14.109375 6.390625 19.734375 \nL 6.390625 51.859375 \nL 15.1875 51.859375 \nL 15.1875 23.09375 \nQ 15.1875 16.21875 15.71875 13.8125 \nQ 16.546875 10.359375 19.234375 8.375 \nQ 21.921875 6.390625 25.875 6.390625 \nQ 29.828125 6.390625 33.296875 8.421875 \nQ 36.765625 10.453125 38.203125 13.9375 \nQ 39.65625 17.4375 39.65625 24.078125 \nL 39.65625 51.859375 \nL 48.4375 51.859375 \nL 48.4375 0 \nz\n\" id=\"ArialMT-117\"/>\n       <path d=\"M 6.59375 0 \nL 6.59375 51.859375 \nL 14.5 51.859375 \nL 14.5 44.484375 \nQ 20.21875 53.03125 31 53.03125 \nQ 35.6875 53.03125 39.625 51.34375 \nQ 43.5625 49.65625 45.515625 46.921875 \nQ 47.46875 44.1875 48.25 40.4375 \nQ 48.734375 37.984375 48.734375 31.890625 \nL 48.734375 0 \nL 39.9375 0 \nL 39.9375 31.546875 \nQ 39.9375 36.921875 38.90625 39.578125 \nQ 37.890625 42.234375 35.28125 43.8125 \nQ 32.671875 45.40625 29.15625 45.40625 \nQ 23.53125 45.40625 19.453125 41.84375 \nQ 15.375 38.28125 15.375 28.328125 \nL 15.375 0 \nz\n\" id=\"ArialMT-110\"/>\n       <path d=\"M 25.78125 7.859375 \nL 27.046875 0.09375 \nQ 23.34375 -0.6875 20.40625 -0.6875 \nQ 15.625 -0.6875 12.984375 0.828125 \nQ 10.359375 2.34375 9.28125 4.8125 \nQ 8.203125 7.28125 8.203125 15.1875 \nL 8.203125 45.015625 \nL 1.765625 45.015625 \nL 1.765625 51.859375 \nL 8.203125 51.859375 \nL 8.203125 64.703125 \nL 16.9375 69.96875 \nL 16.9375 51.859375 \nL 25.78125 51.859375 \nL 25.78125 45.015625 \nL 16.9375 45.015625 \nL 16.9375 14.703125 \nQ 16.9375 10.9375 17.40625 9.859375 \nQ 17.875 8.796875 18.921875 8.15625 \nQ 19.96875 7.515625 21.921875 7.515625 \nQ 23.390625 7.515625 25.78125 7.859375 \nz\n\" id=\"ArialMT-116\"/>\n      </defs>\n      <use xlink:href=\"#ArialMT-67\"/>\n      <use x=\"72.216797\" xlink:href=\"#ArialMT-111\"/>\n      <use x=\"127.832031\" xlink:href=\"#ArialMT-117\"/>\n      <use x=\"183.447266\" xlink:href=\"#ArialMT-110\"/>\n      <use x=\"239.0625\" xlink:href=\"#ArialMT-116\"/>\n     </g>\n    </g>\n   </g>\n   <g id=\"patch_3\">\n    <path clip-path=\"url(#pc7aa218de9)\" d=\"M 65.243651 224.64 \nL 75.061832 224.64 \nL 75.061832 110.003265 \nL 65.243651 110.003265 \nz\n\" style=\"fill:#4c72b0;fill-opacity:0.75;stroke:#ffffff;stroke-linejoin:miter;stroke-width:0.981818;\"/>\n   </g>\n   <g id=\"patch_4\">\n    <path clip-path=\"url(#pc7aa218de9)\" d=\"M 75.061832 224.64 \nL 84.880014 224.64 \nL 84.880014 110.003265 \nL 75.061832 110.003265 \nz\n\" style=\"fill:#4c72b0;fill-opacity:0.75;stroke:#ffffff;stroke-linejoin:miter;stroke-width:0.981818;\"/>\n   </g>\n   <g id=\"patch_5\">\n    <path clip-path=\"url(#pc7aa218de9)\" d=\"M 84.880014 224.64 \nL 94.698196 224.64 \nL 94.698196 110.003265 \nL 84.880014 110.003265 \nz\n\" style=\"fill:#4c72b0;fill-opacity:0.75;stroke:#ffffff;stroke-linejoin:miter;stroke-width:0.981818;\"/>\n   </g>\n   <g id=\"patch_6\">\n    <path clip-path=\"url(#pc7aa218de9)\" d=\"M 94.698196 224.64 \nL 104.516378 224.64 \nL 104.516378 98.909388 \nL 94.698196 98.909388 \nz\n\" style=\"fill:#4c72b0;fill-opacity:0.75;stroke:#ffffff;stroke-linejoin:miter;stroke-width:0.981818;\"/>\n   </g>\n   <g id=\"patch_7\">\n    <path clip-path=\"url(#pc7aa218de9)\" d=\"M 104.516378 224.64 \nL 114.33456 224.64 \nL 114.33456 106.305306 \nL 104.516378 106.305306 \nz\n\" style=\"fill:#4c72b0;fill-opacity:0.75;stroke:#ffffff;stroke-linejoin:miter;stroke-width:0.981818;\"/>\n   </g>\n   <g id=\"patch_8\">\n    <path clip-path=\"url(#pc7aa218de9)\" d=\"M 114.33456 224.64 \nL 124.152741 224.64 \nL 124.152741 154.378776 \nL 114.33456 154.378776 \nz\n\" style=\"fill:#4c72b0;fill-opacity:0.75;stroke:#ffffff;stroke-linejoin:miter;stroke-width:0.981818;\"/>\n   </g>\n   <g id=\"patch_9\">\n    <path clip-path=\"url(#pc7aa218de9)\" d=\"M 124.152741 224.64 \nL 133.970923 224.64 \nL 133.970923 58.231837 \nL 124.152741 58.231837 \nz\n\" style=\"fill:#4c72b0;fill-opacity:0.75;stroke:#ffffff;stroke-linejoin:miter;stroke-width:0.981818;\"/>\n   </g>\n   <g id=\"patch_10\">\n    <path clip-path=\"url(#pc7aa218de9)\" d=\"M 133.970923 224.64 \nL 143.789105 224.64 \nL 143.789105 98.909388 \nL 133.970923 98.909388 \nz\n\" style=\"fill:#4c72b0;fill-opacity:0.75;stroke:#ffffff;stroke-linejoin:miter;stroke-width:0.981818;\"/>\n   </g>\n   <g id=\"patch_11\">\n    <path clip-path=\"url(#pc7aa218de9)\" d=\"M 143.789105 224.64 \nL 153.607287 224.64 \nL 153.607287 102.607347 \nL 143.789105 102.607347 \nz\n\" style=\"fill:#4c72b0;fill-opacity:0.75;stroke:#ffffff;stroke-linejoin:miter;stroke-width:0.981818;\"/>\n   </g>\n   <g id=\"patch_12\">\n    <path clip-path=\"url(#pc7aa218de9)\" d=\"M 153.607287 224.64 \nL 163.425469 224.64 \nL 163.425469 47.137959 \nL 153.607287 47.137959 \nz\n\" style=\"fill:#4c72b0;fill-opacity:0.75;stroke:#ffffff;stroke-linejoin:miter;stroke-width:0.981818;\"/>\n   </g>\n   <g id=\"patch_13\">\n    <path clip-path=\"url(#pc7aa218de9)\" d=\"M 163.425469 224.64 \nL 173.243651 224.64 \nL 173.243651 32.346122 \nL 163.425469 32.346122 \nz\n\" style=\"fill:#4c72b0;fill-opacity:0.75;stroke:#ffffff;stroke-linejoin:miter;stroke-width:0.981818;\"/>\n   </g>\n   <g id=\"patch_14\">\n    <path clip-path=\"url(#pc7aa218de9)\" d=\"M 173.243651 224.64 \nL 183.061832 224.64 \nL 183.061832 39.742041 \nL 173.243651 39.742041 \nz\n\" style=\"fill:#4c72b0;fill-opacity:0.75;stroke:#ffffff;stroke-linejoin:miter;stroke-width:0.981818;\"/>\n   </g>\n   <g id=\"patch_15\">\n    <path clip-path=\"url(#pc7aa218de9)\" d=\"M 183.061832 224.64 \nL 192.880014 224.64 \nL 192.880014 65.627755 \nL 183.061832 65.627755 \nz\n\" style=\"fill:#4c72b0;fill-opacity:0.75;stroke:#ffffff;stroke-linejoin:miter;stroke-width:0.981818;\"/>\n   </g>\n   <g id=\"patch_16\">\n    <path clip-path=\"url(#pc7aa218de9)\" d=\"M 192.880014 224.64 \nL 202.698196 224.64 \nL 202.698196 47.137959 \nL 192.880014 47.137959 \nz\n\" style=\"fill:#4c72b0;fill-opacity:0.75;stroke:#ffffff;stroke-linejoin:miter;stroke-width:0.981818;\"/>\n   </g>\n   <g id=\"patch_17\">\n    <path clip-path=\"url(#pc7aa218de9)\" d=\"M 202.698196 224.64 \nL 212.516378 224.64 \nL 212.516378 76.721633 \nL 202.698196 76.721633 \nz\n\" style=\"fill:#4c72b0;fill-opacity:0.75;stroke:#ffffff;stroke-linejoin:miter;stroke-width:0.981818;\"/>\n   </g>\n   <g id=\"patch_18\">\n    <path clip-path=\"url(#pc7aa218de9)\" d=\"M 212.516378 224.64 \nL 222.33456 224.64 \nL 222.33456 21.252245 \nL 212.516378 21.252245 \nz\n\" style=\"fill:#4c72b0;fill-opacity:0.75;stroke:#ffffff;stroke-linejoin:miter;stroke-width:0.981818;\"/>\n   </g>\n   <g id=\"patch_19\">\n    <path clip-path=\"url(#pc7aa218de9)\" d=\"M 222.33456 224.64 \nL 232.152741 224.64 \nL 232.152741 17.554286 \nL 222.33456 17.554286 \nz\n\" style=\"fill:#4c72b0;fill-opacity:0.75;stroke:#ffffff;stroke-linejoin:miter;stroke-width:0.981818;\"/>\n   </g>\n   <g id=\"patch_20\">\n    <path clip-path=\"url(#pc7aa218de9)\" d=\"M 232.152741 224.64 \nL 241.970923 224.64 \nL 241.970923 54.533878 \nL 232.152741 54.533878 \nz\n\" style=\"fill:#4c72b0;fill-opacity:0.75;stroke:#ffffff;stroke-linejoin:miter;stroke-width:0.981818;\"/>\n   </g>\n   <g id=\"patch_21\">\n    <path clip-path=\"url(#pc7aa218de9)\" d=\"M 241.970923 224.64 \nL 251.789105 224.64 \nL 251.789105 24.950204 \nL 241.970923 24.950204 \nz\n\" style=\"fill:#4c72b0;fill-opacity:0.75;stroke:#ffffff;stroke-linejoin:miter;stroke-width:0.981818;\"/>\n   </g>\n   <g id=\"patch_22\">\n    <path clip-path=\"url(#pc7aa218de9)\" d=\"M 251.789105 224.64 \nL 261.607287 224.64 \nL 261.607287 39.742041 \nL 251.789105 39.742041 \nz\n\" style=\"fill:#4c72b0;fill-opacity:0.75;stroke:#ffffff;stroke-linejoin:miter;stroke-width:0.981818;\"/>\n   </g>\n   <g id=\"patch_23\">\n    <path clip-path=\"url(#pc7aa218de9)\" d=\"M 261.607287 224.64 \nL 271.425469 224.64 \nL 271.425469 98.909388 \nL 261.607287 98.909388 \nz\n\" style=\"fill:#4c72b0;fill-opacity:0.75;stroke:#ffffff;stroke-linejoin:miter;stroke-width:0.981818;\"/>\n   </g>\n   <g id=\"patch_24\">\n    <path clip-path=\"url(#pc7aa218de9)\" d=\"M 271.425469 224.64 \nL 281.243651 224.64 \nL 281.243651 87.81551 \nL 271.425469 87.81551 \nz\n\" style=\"fill:#4c72b0;fill-opacity:0.75;stroke:#ffffff;stroke-linejoin:miter;stroke-width:0.981818;\"/>\n   </g>\n   <g id=\"patch_25\">\n    <path clip-path=\"url(#pc7aa218de9)\" d=\"M 281.243651 224.64 \nL 291.061832 224.64 \nL 291.061832 146.982857 \nL 281.243651 146.982857 \nz\n\" style=\"fill:#4c72b0;fill-opacity:0.75;stroke:#ffffff;stroke-linejoin:miter;stroke-width:0.981818;\"/>\n   </g>\n   <g id=\"patch_26\">\n    <path clip-path=\"url(#pc7aa218de9)\" d=\"M 291.061832 224.64 \nL 300.880014 224.64 \nL 300.880014 146.982857 \nL 291.061832 146.982857 \nz\n\" style=\"fill:#4c72b0;fill-opacity:0.75;stroke:#ffffff;stroke-linejoin:miter;stroke-width:0.981818;\"/>\n   </g>\n   <g id=\"patch_27\">\n    <path clip-path=\"url(#pc7aa218de9)\" d=\"M 300.880014 224.64 \nL 310.698196 224.64 \nL 310.698196 146.982857 \nL 300.880014 146.982857 \nz\n\" style=\"fill:#4c72b0;fill-opacity:0.75;stroke:#ffffff;stroke-linejoin:miter;stroke-width:0.981818;\"/>\n   </g>\n   <g id=\"patch_28\">\n    <path clip-path=\"url(#pc7aa218de9)\" d=\"M 310.698196 224.64 \nL 320.516378 224.64 \nL 320.516378 158.076735 \nL 310.698196 158.076735 \nz\n\" style=\"fill:#4c72b0;fill-opacity:0.75;stroke:#ffffff;stroke-linejoin:miter;stroke-width:0.981818;\"/>\n   </g>\n   <g id=\"patch_29\">\n    <path clip-path=\"url(#pc7aa218de9)\" d=\"M 320.516378 224.64 \nL 330.33456 224.64 \nL 330.33456 195.056327 \nL 320.516378 195.056327 \nz\n\" style=\"fill:#4c72b0;fill-opacity:0.75;stroke:#ffffff;stroke-linejoin:miter;stroke-width:0.981818;\"/>\n   </g>\n   <g id=\"patch_30\">\n    <path clip-path=\"url(#pc7aa218de9)\" d=\"M 330.33456 224.64 \nL 340.152741 224.64 \nL 340.152741 206.150204 \nL 330.33456 206.150204 \nz\n\" style=\"fill:#4c72b0;fill-opacity:0.75;stroke:#ffffff;stroke-linejoin:miter;stroke-width:0.981818;\"/>\n   </g>\n   <g id=\"patch_31\">\n    <path clip-path=\"url(#pc7aa218de9)\" d=\"M 340.152741 224.64 \nL 349.970923 224.64 \nL 349.970923 217.244082 \nL 340.152741 217.244082 \nz\n\" style=\"fill:#4c72b0;fill-opacity:0.75;stroke:#ffffff;stroke-linejoin:miter;stroke-width:0.981818;\"/>\n   </g>\n   <g id=\"patch_32\">\n    <path clip-path=\"url(#pc7aa218de9)\" d=\"M 349.970923 224.64 \nL 359.789105 224.64 \nL 359.789105 224.64 \nL 349.970923 224.64 \nz\n\" style=\"fill:#4c72b0;fill-opacity:0.75;stroke:#ffffff;stroke-linejoin:miter;stroke-width:0.981818;\"/>\n   </g>\n   <g id=\"patch_33\">\n    <path clip-path=\"url(#pc7aa218de9)\" d=\"M 359.789105 224.64 \nL 369.607287 224.64 \nL 369.607287 220.942041 \nL 359.789105 220.942041 \nz\n\" style=\"fill:#4c72b0;fill-opacity:0.75;stroke:#ffffff;stroke-linejoin:miter;stroke-width:0.981818;\"/>\n   </g>\n   <g id=\"patch_34\">\n    <path d=\"M 50.025469 224.64 \nL 50.025469 7.2 \n\" style=\"fill:none;stroke:#ffffff;stroke-linecap:square;stroke-linejoin:miter;stroke-width:1.25;\"/>\n   </g>\n   <g id=\"patch_35\">\n    <path d=\"M 384.825469 224.64 \nL 384.825469 7.2 \n\" style=\"fill:none;stroke:#ffffff;stroke-linecap:square;stroke-linejoin:miter;stroke-width:1.25;\"/>\n   </g>\n   <g id=\"patch_36\">\n    <path d=\"M 50.025469 224.64 \nL 384.825469 224.64 \n\" style=\"fill:none;stroke:#ffffff;stroke-linecap:square;stroke-linejoin:miter;stroke-width:1.25;\"/>\n   </g>\n   <g id=\"patch_37\">\n    <path d=\"M 50.025469 7.2 \nL 384.825469 7.2 \n\" style=\"fill:none;stroke:#ffffff;stroke-linecap:square;stroke-linejoin:miter;stroke-width:1.25;\"/>\n   </g>\n  </g>\n </g>\n <defs>\n  <clipPath id=\"pc7aa218de9\">\n   <rect height=\"217.44\" width=\"334.8\" x=\"50.025469\" y=\"7.2\"/>\n  </clipPath>\n </defs>\n</svg>\n",
      "image/png": "[encoded data removed]"
     },
     "metadata": {}
    }
   ],
   "source": [
    "sns.histplot(data=probs_clean)"
   ]
  },
  {
   "source": [
    "max(probs_clean)"
   ],
   "cell_type": "code",
   "metadata": {},
   "execution_count": 185,
   "outputs": [
    {
     "output_type": "execute_result",
     "data": {
      "text/plain": [
       "0.9157495628424996"
      ]
     },
     "metadata": {},
     "execution_count": 185
    }
   ]
  },
  {
   "cell_type": "code",
   "execution_count": 186,
   "metadata": {},
   "outputs": [
    {
     "output_type": "stream",
     "name": "stdout",
     "text": [
      "0.328\n"
     ]
    }
   ],
   "source": [
    "print(len([i for i in probs_clean if i > 0.5]) / len(probs_clean))"
   ]
  },
  {
   "source": [
    "With the ages of everyone adjusted to 90, this is telling us that roughly a third of them would die within a decade. We can also look at the total distribution, which will be much more skew right because most people in the population are still too young to have a high likelihood of dying. "
   ],
   "cell_type": "markdown",
   "metadata": {}
  },
  {
   "cell_type": "code",
   "execution_count": 187,
   "metadata": {},
   "outputs": [],
   "source": [
    "probs = []\n",
    "for i in range(10, 100, 10):\n",
    "    temp = X_train.iloc[0:1000]\n",
    "    temp['age'] = i\n",
    "    probs.append(best_bayes_model.predict_proba(temp)[:, 1])\n",
    "probs_clean = []\n",
    "for item in probs:\n",
    "    for value in item: \n",
    "        probs_clean.append(value)"
   ]
  },
  {
   "cell_type": "code",
   "execution_count": 188,
   "metadata": {},
   "outputs": [
    {
     "output_type": "execute_result",
     "data": {
      "text/plain": [
       "<AxesSubplot:ylabel='Count'>"
      ]
     },
     "metadata": {},
     "execution_count": 188
    },
    {
     "output_type": "display_data",
     "data": {
      "text/plain": "<Figure size 432x288 with 1 Axes>",
      "image/svg+xml": "<?xml version=\"1.0\" encoding=\"utf-8\" standalone=\"no\"?>\n<!DOCTYPE svg PUBLIC \"-//W3C//DTD SVG 1.1//EN\"\n  \"http://www.w3.org/Graphics/SVG/1.1/DTD/svg11.dtd\">\n<!-- Created with matplotlib (https://matplotlib.org/) -->\n<svg height=\"251.399844pt\" version=\"1.1\" viewBox=\"0 0 398.1425 251.399844\" width=\"398.1425pt\" xmlns=\"http://www.w3.org/2000/svg\" xmlns:xlink=\"http://www.w3.org/1999/xlink\">\n <metadata>\n  <rdf:RDF xmlns:cc=\"http://creativecommons.org/ns#\" xmlns:dc=\"http://purl.org/dc/elements/1.1/\" xmlns:rdf=\"http://www.w3.org/1999/02/22-rdf-syntax-ns#\">\n   <cc:Work>\n    <dc:type rdf:resource=\"http://purl.org/dc/dcmitype/StillImage\"/>\n    <dc:date>2020-11-07T17:48:49.503729</dc:date>\n    <dc:format>image/svg+xml</dc:format>\n    <dc:creator>\n     <cc:Agent>\n      <dc:title>Matplotlib v3.3.2, https://matplotlib.org/</dc:title>\n     </cc:Agent>\n    </dc:creator>\n   </cc:Work>\n  </rdf:RDF>\n </metadata>\n <defs>\n  <style type=\"text/css\">*{stroke-linecap:butt;stroke-linejoin:round;}</style>\n </defs>\n <g id=\"figure_1\">\n  <g id=\"patch_1\">\n   <path d=\"M 0 251.399844 \nL 398.1425 251.399844 \nL 398.1425 0 \nL 0 0 \nz\n\" style=\"fill:#ffffff;\"/>\n  </g>\n  <g id=\"axes_1\">\n   <g id=\"patch_2\">\n    <path d=\"M 56.1425 224.64 \nL 390.9425 224.64 \nL 390.9425 7.2 \nL 56.1425 7.2 \nz\n\" style=\"fill:#eaeaf2;\"/>\n   </g>\n   <g id=\"matplotlib.axis_1\">\n    <g id=\"xtick_1\">\n     <g id=\"line2d_1\">\n      <path clip-path=\"url(#p43368ee4c4)\" d=\"M 71.32321 224.64 \nL 71.32321 7.2 \n\" style=\"fill:none;stroke:#ffffff;stroke-linecap:round;\"/>\n     </g>\n     <g id=\"text_1\">\n      <!-- 0.0 -->\n      <g style=\"fill:#262626;\" transform=\"translate(63.67821 242.013594)scale(0.11 -0.11)\">\n       <defs>\n        <path d=\"M 4.15625 35.296875 \nQ 4.15625 48 6.765625 55.734375 \nQ 9.375 63.484375 14.515625 67.671875 \nQ 19.671875 71.875 27.484375 71.875 \nQ 33.25 71.875 37.59375 69.546875 \nQ 41.9375 67.234375 44.765625 62.859375 \nQ 47.609375 58.5 49.21875 52.21875 \nQ 50.828125 45.953125 50.828125 35.296875 \nQ 50.828125 22.703125 48.234375 14.96875 \nQ 45.65625 7.234375 40.5 3 \nQ 35.359375 -1.21875 27.484375 -1.21875 \nQ 17.140625 -1.21875 11.234375 6.203125 \nQ 4.15625 15.140625 4.15625 35.296875 \nz\nM 13.1875 35.296875 \nQ 13.1875 17.671875 17.3125 11.828125 \nQ 21.4375 6 27.484375 6 \nQ 33.546875 6 37.671875 11.859375 \nQ 41.796875 17.71875 41.796875 35.296875 \nQ 41.796875 52.984375 37.671875 58.78125 \nQ 33.546875 64.59375 27.390625 64.59375 \nQ 21.34375 64.59375 17.71875 59.46875 \nQ 13.1875 52.9375 13.1875 35.296875 \nz\n\" id=\"ArialMT-48\"/>\n        <path d=\"M 9.078125 0 \nL 9.078125 10.015625 \nL 19.09375 10.015625 \nL 19.09375 0 \nz\n\" id=\"ArialMT-46\"/>\n       </defs>\n       <use xlink:href=\"#ArialMT-48\"/>\n       <use x=\"55.615234\" xlink:href=\"#ArialMT-46\"/>\n       <use x=\"83.398438\" xlink:href=\"#ArialMT-48\"/>\n      </g>\n     </g>\n    </g>\n    <g id=\"xtick_2\">\n     <g id=\"line2d_2\">\n      <path clip-path=\"url(#p43368ee4c4)\" d=\"M 137.80451 224.64 \nL 137.80451 7.2 \n\" style=\"fill:none;stroke:#ffffff;stroke-linecap:round;\"/>\n     </g>\n     <g id=\"text_2\">\n      <!-- 0.2 -->\n      <g style=\"fill:#262626;\" transform=\"translate(130.15951 242.013594)scale(0.11 -0.11)\">\n       <defs>\n        <path d=\"M 50.34375 8.453125 \nL 50.34375 0 \nL 3.03125 0 \nQ 2.9375 3.171875 4.046875 6.109375 \nQ 5.859375 10.9375 9.828125 15.625 \nQ 13.8125 20.3125 21.34375 26.46875 \nQ 33.015625 36.03125 37.109375 41.625 \nQ 41.21875 47.21875 41.21875 52.203125 \nQ 41.21875 57.421875 37.46875 61 \nQ 33.734375 64.59375 27.734375 64.59375 \nQ 21.390625 64.59375 17.578125 60.78125 \nQ 13.765625 56.984375 13.71875 50.25 \nL 4.6875 51.171875 \nQ 5.609375 61.28125 11.65625 66.578125 \nQ 17.71875 71.875 27.9375 71.875 \nQ 38.234375 71.875 44.234375 66.15625 \nQ 50.25 60.453125 50.25 52 \nQ 50.25 47.703125 48.484375 43.546875 \nQ 46.734375 39.40625 42.65625 34.8125 \nQ 38.578125 30.21875 29.109375 22.21875 \nQ 21.1875 15.578125 18.9375 13.203125 \nQ 16.703125 10.84375 15.234375 8.453125 \nz\n\" id=\"ArialMT-50\"/>\n       </defs>\n       <use xlink:href=\"#ArialMT-48\"/>\n       <use x=\"55.615234\" xlink:href=\"#ArialMT-46\"/>\n       <use x=\"83.398438\" xlink:href=\"#ArialMT-50\"/>\n      </g>\n     </g>\n    </g>\n    <g id=\"xtick_3\">\n     <g id=\"line2d_3\">\n      <path clip-path=\"url(#p43368ee4c4)\" d=\"M 204.285811 224.64 \nL 204.285811 7.2 \n\" style=\"fill:none;stroke:#ffffff;stroke-linecap:round;\"/>\n     </g>\n     <g id=\"text_3\">\n      <!-- 0.4 -->\n      <g style=\"fill:#262626;\" transform=\"translate(196.640811 242.013594)scale(0.11 -0.11)\">\n       <defs>\n        <path d=\"M 32.328125 0 \nL 32.328125 17.140625 \nL 1.265625 17.140625 \nL 1.265625 25.203125 \nL 33.9375 71.578125 \nL 41.109375 71.578125 \nL 41.109375 25.203125 \nL 50.78125 25.203125 \nL 50.78125 17.140625 \nL 41.109375 17.140625 \nL 41.109375 0 \nz\nM 32.328125 25.203125 \nL 32.328125 57.46875 \nL 9.90625 25.203125 \nz\n\" id=\"ArialMT-52\"/>\n       </defs>\n       <use xlink:href=\"#ArialMT-48\"/>\n       <use x=\"55.615234\" xlink:href=\"#ArialMT-46\"/>\n       <use x=\"83.398438\" xlink:href=\"#ArialMT-52\"/>\n      </g>\n     </g>\n    </g>\n    <g id=\"xtick_4\">\n     <g id=\"line2d_4\">\n      <path clip-path=\"url(#p43368ee4c4)\" d=\"M 270.767111 224.64 \nL 270.767111 7.2 \n\" style=\"fill:none;stroke:#ffffff;stroke-linecap:round;\"/>\n     </g>\n     <g id=\"text_4\">\n      <!-- 0.6 -->\n      <g style=\"fill:#262626;\" transform=\"translate(263.122111 242.013594)scale(0.11 -0.11)\">\n       <defs>\n        <path d=\"M 49.75 54.046875 \nL 41.015625 53.375 \nQ 39.84375 58.546875 37.703125 60.890625 \nQ 34.125 64.65625 28.90625 64.65625 \nQ 24.703125 64.65625 21.53125 62.3125 \nQ 17.390625 59.28125 14.984375 53.46875 \nQ 12.59375 47.65625 12.5 36.921875 \nQ 15.671875 41.75 20.265625 44.09375 \nQ 24.859375 46.4375 29.890625 46.4375 \nQ 38.671875 46.4375 44.84375 39.96875 \nQ 51.03125 33.5 51.03125 23.25 \nQ 51.03125 16.5 48.125 10.71875 \nQ 45.21875 4.9375 40.140625 1.859375 \nQ 35.0625 -1.21875 28.609375 -1.21875 \nQ 17.625 -1.21875 10.6875 6.859375 \nQ 3.765625 14.9375 3.765625 33.5 \nQ 3.765625 54.25 11.421875 63.671875 \nQ 18.109375 71.875 29.4375 71.875 \nQ 37.890625 71.875 43.28125 67.140625 \nQ 48.6875 62.40625 49.75 54.046875 \nz\nM 13.875 23.1875 \nQ 13.875 18.65625 15.796875 14.5 \nQ 17.71875 10.359375 21.1875 8.171875 \nQ 24.65625 6 28.46875 6 \nQ 34.03125 6 38.03125 10.484375 \nQ 42.046875 14.984375 42.046875 22.703125 \nQ 42.046875 30.125 38.078125 34.390625 \nQ 34.125 38.671875 28.125 38.671875 \nQ 22.171875 38.671875 18.015625 34.390625 \nQ 13.875 30.125 13.875 23.1875 \nz\n\" id=\"ArialMT-54\"/>\n       </defs>\n       <use xlink:href=\"#ArialMT-48\"/>\n       <use x=\"55.615234\" xlink:href=\"#ArialMT-46\"/>\n       <use x=\"83.398438\" xlink:href=\"#ArialMT-54\"/>\n      </g>\n     </g>\n    </g>\n    <g id=\"xtick_5\">\n     <g id=\"line2d_5\">\n      <path clip-path=\"url(#p43368ee4c4)\" d=\"M 337.248411 224.64 \nL 337.248411 7.2 \n\" style=\"fill:none;stroke:#ffffff;stroke-linecap:round;\"/>\n     </g>\n     <g id=\"text_5\">\n      <!-- 0.8 -->\n      <g style=\"fill:#262626;\" transform=\"translate(329.603411 242.013594)scale(0.11 -0.11)\">\n       <defs>\n        <path d=\"M 17.671875 38.8125 \nQ 12.203125 40.828125 9.5625 44.53125 \nQ 6.9375 48.25 6.9375 53.421875 \nQ 6.9375 61.234375 12.546875 66.546875 \nQ 18.171875 71.875 27.484375 71.875 \nQ 36.859375 71.875 42.578125 66.421875 \nQ 48.296875 60.984375 48.296875 53.171875 \nQ 48.296875 48.1875 45.671875 44.5 \nQ 43.0625 40.828125 37.75 38.8125 \nQ 44.34375 36.671875 47.78125 31.875 \nQ 51.21875 27.09375 51.21875 20.453125 \nQ 51.21875 11.28125 44.71875 5.03125 \nQ 38.234375 -1.21875 27.640625 -1.21875 \nQ 17.046875 -1.21875 10.546875 5.046875 \nQ 4.046875 11.328125 4.046875 20.703125 \nQ 4.046875 27.6875 7.59375 32.390625 \nQ 11.140625 37.109375 17.671875 38.8125 \nz\nM 15.921875 53.71875 \nQ 15.921875 48.640625 19.1875 45.40625 \nQ 22.46875 42.1875 27.6875 42.1875 \nQ 32.765625 42.1875 36.015625 45.375 \nQ 39.265625 48.578125 39.265625 53.21875 \nQ 39.265625 58.0625 35.90625 61.359375 \nQ 32.5625 64.65625 27.59375 64.65625 \nQ 22.5625 64.65625 19.234375 61.421875 \nQ 15.921875 58.203125 15.921875 53.71875 \nz\nM 13.09375 20.65625 \nQ 13.09375 16.890625 14.875 13.375 \nQ 16.65625 9.859375 20.171875 7.921875 \nQ 23.6875 6 27.734375 6 \nQ 34.03125 6 38.125 10.046875 \nQ 42.234375 14.109375 42.234375 20.359375 \nQ 42.234375 26.703125 38.015625 30.859375 \nQ 33.796875 35.015625 27.4375 35.015625 \nQ 21.234375 35.015625 17.15625 30.90625 \nQ 13.09375 26.8125 13.09375 20.65625 \nz\n\" id=\"ArialMT-56\"/>\n       </defs>\n       <use xlink:href=\"#ArialMT-48\"/>\n       <use x=\"55.615234\" xlink:href=\"#ArialMT-46\"/>\n       <use x=\"83.398438\" xlink:href=\"#ArialMT-56\"/>\n      </g>\n     </g>\n    </g>\n   </g>\n   <g id=\"matplotlib.axis_2\">\n    <g id=\"ytick_1\">\n     <g id=\"line2d_6\">\n      <path clip-path=\"url(#p43368ee4c4)\" d=\"M 56.1425 224.64 \nL 390.9425 224.64 \n\" style=\"fill:none;stroke:#ffffff;stroke-linecap:round;\"/>\n     </g>\n     <g id=\"text_6\">\n      <!-- 0 -->\n      <g style=\"fill:#262626;\" transform=\"translate(40.525469 228.576797)scale(0.11 -0.11)\">\n       <use xlink:href=\"#ArialMT-48\"/>\n      </g>\n     </g>\n    </g>\n    <g id=\"ytick_2\">\n     <g id=\"line2d_7\">\n      <path clip-path=\"url(#p43368ee4c4)\" d=\"M 56.1425 195.620141 \nL 390.9425 195.620141 \n\" style=\"fill:none;stroke:#ffffff;stroke-linecap:round;\"/>\n     </g>\n     <g id=\"text_7\">\n      <!-- 500 -->\n      <g style=\"fill:#262626;\" transform=\"translate(28.291406 199.556938)scale(0.11 -0.11)\">\n       <defs>\n        <path d=\"M 4.15625 18.75 \nL 13.375 19.53125 \nQ 14.40625 12.796875 18.140625 9.390625 \nQ 21.875 6 27.15625 6 \nQ 33.5 6 37.890625 10.78125 \nQ 42.28125 15.578125 42.28125 23.484375 \nQ 42.28125 31 38.0625 35.34375 \nQ 33.84375 39.703125 27 39.703125 \nQ 22.75 39.703125 19.328125 37.765625 \nQ 15.921875 35.84375 13.96875 32.765625 \nL 5.71875 33.84375 \nL 12.640625 70.609375 \nL 48.25 70.609375 \nL 48.25 62.203125 \nL 19.671875 62.203125 \nL 15.828125 42.96875 \nQ 22.265625 47.46875 29.34375 47.46875 \nQ 38.71875 47.46875 45.15625 40.96875 \nQ 51.609375 34.46875 51.609375 24.265625 \nQ 51.609375 14.546875 45.953125 7.46875 \nQ 39.0625 -1.21875 27.15625 -1.21875 \nQ 17.390625 -1.21875 11.203125 4.25 \nQ 5.03125 9.71875 4.15625 18.75 \nz\n\" id=\"ArialMT-53\"/>\n       </defs>\n       <use xlink:href=\"#ArialMT-53\"/>\n       <use x=\"55.615234\" xlink:href=\"#ArialMT-48\"/>\n       <use x=\"111.230469\" xlink:href=\"#ArialMT-48\"/>\n      </g>\n     </g>\n    </g>\n    <g id=\"ytick_3\">\n     <g id=\"line2d_8\">\n      <path clip-path=\"url(#p43368ee4c4)\" d=\"M 56.1425 166.600282 \nL 390.9425 166.600282 \n\" style=\"fill:none;stroke:#ffffff;stroke-linecap:round;\"/>\n     </g>\n     <g id=\"text_8\">\n      <!-- 1000 -->\n      <g style=\"fill:#262626;\" transform=\"translate(22.174375 170.537079)scale(0.11 -0.11)\">\n       <defs>\n        <path d=\"M 37.25 0 \nL 28.46875 0 \nL 28.46875 56 \nQ 25.296875 52.984375 20.140625 49.953125 \nQ 14.984375 46.921875 10.890625 45.40625 \nL 10.890625 53.90625 \nQ 18.265625 57.375 23.78125 62.296875 \nQ 29.296875 67.234375 31.59375 71.875 \nL 37.25 71.875 \nz\n\" id=\"ArialMT-49\"/>\n       </defs>\n       <use xlink:href=\"#ArialMT-49\"/>\n       <use x=\"55.615234\" xlink:href=\"#ArialMT-48\"/>\n       <use x=\"111.230469\" xlink:href=\"#ArialMT-48\"/>\n       <use x=\"166.845703\" xlink:href=\"#ArialMT-48\"/>\n      </g>\n     </g>\n    </g>\n    <g id=\"ytick_4\">\n     <g id=\"line2d_9\">\n      <path clip-path=\"url(#p43368ee4c4)\" d=\"M 56.1425 137.580423 \nL 390.9425 137.580423 \n\" style=\"fill:none;stroke:#ffffff;stroke-linecap:round;\"/>\n     </g>\n     <g id=\"text_9\">\n      <!-- 1500 -->\n      <g style=\"fill:#262626;\" transform=\"translate(22.174375 141.51722)scale(0.11 -0.11)\">\n       <use xlink:href=\"#ArialMT-49\"/>\n       <use x=\"55.615234\" xlink:href=\"#ArialMT-53\"/>\n       <use x=\"111.230469\" xlink:href=\"#ArialMT-48\"/>\n       <use x=\"166.845703\" xlink:href=\"#ArialMT-48\"/>\n      </g>\n     </g>\n    </g>\n    <g id=\"ytick_5\">\n     <g id=\"line2d_10\">\n      <path clip-path=\"url(#p43368ee4c4)\" d=\"M 56.1425 108.560564 \nL 390.9425 108.560564 \n\" style=\"fill:none;stroke:#ffffff;stroke-linecap:round;\"/>\n     </g>\n     <g id=\"text_10\">\n      <!-- 2000 -->\n      <g style=\"fill:#262626;\" transform=\"translate(22.174375 112.497361)scale(0.11 -0.11)\">\n       <use xlink:href=\"#ArialMT-50\"/>\n       <use x=\"55.615234\" xlink:href=\"#ArialMT-48\"/>\n       <use x=\"111.230469\" xlink:href=\"#ArialMT-48\"/>\n       <use x=\"166.845703\" xlink:href=\"#ArialMT-48\"/>\n      </g>\n     </g>\n    </g>\n    <g id=\"ytick_6\">\n     <g id=\"line2d_11\">\n      <path clip-path=\"url(#p43368ee4c4)\" d=\"M 56.1425 79.540705 \nL 390.9425 79.540705 \n\" style=\"fill:none;stroke:#ffffff;stroke-linecap:round;\"/>\n     </g>\n     <g id=\"text_11\">\n      <!-- 2500 -->\n      <g style=\"fill:#262626;\" transform=\"translate(22.174375 83.477502)scale(0.11 -0.11)\">\n       <use xlink:href=\"#ArialMT-50\"/>\n       <use x=\"55.615234\" xlink:href=\"#ArialMT-53\"/>\n       <use x=\"111.230469\" xlink:href=\"#ArialMT-48\"/>\n       <use x=\"166.845703\" xlink:href=\"#ArialMT-48\"/>\n      </g>\n     </g>\n    </g>\n    <g id=\"ytick_7\">\n     <g id=\"line2d_12\">\n      <path clip-path=\"url(#p43368ee4c4)\" d=\"M 56.1425 50.520846 \nL 390.9425 50.520846 \n\" style=\"fill:none;stroke:#ffffff;stroke-linecap:round;\"/>\n     </g>\n     <g id=\"text_12\">\n      <!-- 3000 -->\n      <g style=\"fill:#262626;\" transform=\"translate(22.174375 54.457642)scale(0.11 -0.11)\">\n       <defs>\n        <path d=\"M 4.203125 18.890625 \nL 12.984375 20.0625 \nQ 14.5 12.59375 18.140625 9.296875 \nQ 21.78125 6 27 6 \nQ 33.203125 6 37.46875 10.296875 \nQ 41.75 14.59375 41.75 20.953125 \nQ 41.75 27 37.796875 30.921875 \nQ 33.84375 34.859375 27.734375 34.859375 \nQ 25.25 34.859375 21.53125 33.890625 \nL 22.515625 41.609375 \nQ 23.390625 41.5 23.921875 41.5 \nQ 29.546875 41.5 34.03125 44.421875 \nQ 38.53125 47.359375 38.53125 53.46875 \nQ 38.53125 58.296875 35.25 61.46875 \nQ 31.984375 64.65625 26.8125 64.65625 \nQ 21.6875 64.65625 18.265625 61.421875 \nQ 14.84375 58.203125 13.875 51.765625 \nL 5.078125 53.328125 \nQ 6.6875 62.15625 12.390625 67.015625 \nQ 18.109375 71.875 26.609375 71.875 \nQ 32.46875 71.875 37.390625 69.359375 \nQ 42.328125 66.84375 44.9375 62.5 \nQ 47.5625 58.15625 47.5625 53.265625 \nQ 47.5625 48.640625 45.0625 44.828125 \nQ 42.578125 41.015625 37.703125 38.765625 \nQ 44.046875 37.3125 47.5625 32.6875 \nQ 51.078125 28.078125 51.078125 21.140625 \nQ 51.078125 11.765625 44.234375 5.25 \nQ 37.40625 -1.265625 26.953125 -1.265625 \nQ 17.53125 -1.265625 11.296875 4.34375 \nQ 5.078125 9.96875 4.203125 18.890625 \nz\n\" id=\"ArialMT-51\"/>\n       </defs>\n       <use xlink:href=\"#ArialMT-51\"/>\n       <use x=\"55.615234\" xlink:href=\"#ArialMT-48\"/>\n       <use x=\"111.230469\" xlink:href=\"#ArialMT-48\"/>\n       <use x=\"166.845703\" xlink:href=\"#ArialMT-48\"/>\n      </g>\n     </g>\n    </g>\n    <g id=\"ytick_8\">\n     <g id=\"line2d_13\">\n      <path clip-path=\"url(#p43368ee4c4)\" d=\"M 56.1425 21.500987 \nL 390.9425 21.500987 \n\" style=\"fill:none;stroke:#ffffff;stroke-linecap:round;\"/>\n     </g>\n     <g id=\"text_13\">\n      <!-- 3500 -->\n      <g style=\"fill:#262626;\" transform=\"translate(22.174375 25.437783)scale(0.11 -0.11)\">\n       <use xlink:href=\"#ArialMT-51\"/>\n       <use x=\"55.615234\" xlink:href=\"#ArialMT-53\"/>\n       <use x=\"111.230469\" xlink:href=\"#ArialMT-48\"/>\n       <use x=\"166.845703\" xlink:href=\"#ArialMT-48\"/>\n      </g>\n     </g>\n    </g>\n    <g id=\"text_14\">\n     <!-- Count -->\n     <g style=\"fill:#262626;\" transform=\"translate(15.789375 131.929687)rotate(-90)scale(0.12 -0.12)\">\n      <defs>\n       <path d=\"M 58.796875 25.09375 \nL 68.265625 22.703125 \nQ 65.28125 11.03125 57.546875 4.90625 \nQ 49.8125 -1.21875 38.625 -1.21875 \nQ 27.046875 -1.21875 19.796875 3.484375 \nQ 12.546875 8.203125 8.765625 17.140625 \nQ 4.984375 26.078125 4.984375 36.328125 \nQ 4.984375 47.515625 9.25 55.828125 \nQ 13.53125 64.15625 21.40625 68.46875 \nQ 29.296875 72.796875 38.765625 72.796875 \nQ 49.515625 72.796875 56.828125 67.328125 \nQ 64.15625 61.859375 67.046875 51.953125 \nL 57.71875 49.75 \nQ 55.21875 57.5625 50.484375 61.125 \nQ 45.75 64.703125 38.578125 64.703125 \nQ 30.328125 64.703125 24.78125 60.734375 \nQ 19.234375 56.78125 16.984375 50.109375 \nQ 14.75 43.453125 14.75 36.375 \nQ 14.75 27.25 17.40625 20.4375 \nQ 20.0625 13.625 25.671875 10.25 \nQ 31.296875 6.890625 37.84375 6.890625 \nQ 45.796875 6.890625 51.3125 11.46875 \nQ 56.84375 16.0625 58.796875 25.09375 \nz\n\" id=\"ArialMT-67\"/>\n       <path d=\"M 3.328125 25.921875 \nQ 3.328125 40.328125 11.328125 47.265625 \nQ 18.015625 53.03125 27.640625 53.03125 \nQ 38.328125 53.03125 45.109375 46.015625 \nQ 51.90625 39.015625 51.90625 26.65625 \nQ 51.90625 16.65625 48.90625 10.90625 \nQ 45.90625 5.171875 40.15625 2 \nQ 34.421875 -1.171875 27.640625 -1.171875 \nQ 16.75 -1.171875 10.03125 5.8125 \nQ 3.328125 12.796875 3.328125 25.921875 \nz\nM 12.359375 25.921875 \nQ 12.359375 15.96875 16.703125 11.015625 \nQ 21.046875 6.0625 27.640625 6.0625 \nQ 34.1875 6.0625 38.53125 11.03125 \nQ 42.875 16.015625 42.875 26.21875 \nQ 42.875 35.84375 38.5 40.796875 \nQ 34.125 45.75 27.640625 45.75 \nQ 21.046875 45.75 16.703125 40.8125 \nQ 12.359375 35.890625 12.359375 25.921875 \nz\n\" id=\"ArialMT-111\"/>\n       <path d=\"M 40.578125 0 \nL 40.578125 7.625 \nQ 34.515625 -1.171875 24.125 -1.171875 \nQ 19.53125 -1.171875 15.546875 0.578125 \nQ 11.578125 2.34375 9.640625 5 \nQ 7.71875 7.671875 6.9375 11.53125 \nQ 6.390625 14.109375 6.390625 19.734375 \nL 6.390625 51.859375 \nL 15.1875 51.859375 \nL 15.1875 23.09375 \nQ 15.1875 16.21875 15.71875 13.8125 \nQ 16.546875 10.359375 19.234375 8.375 \nQ 21.921875 6.390625 25.875 6.390625 \nQ 29.828125 6.390625 33.296875 8.421875 \nQ 36.765625 10.453125 38.203125 13.9375 \nQ 39.65625 17.4375 39.65625 24.078125 \nL 39.65625 51.859375 \nL 48.4375 51.859375 \nL 48.4375 0 \nz\n\" id=\"ArialMT-117\"/>\n       <path d=\"M 6.59375 0 \nL 6.59375 51.859375 \nL 14.5 51.859375 \nL 14.5 44.484375 \nQ 20.21875 53.03125 31 53.03125 \nQ 35.6875 53.03125 39.625 51.34375 \nQ 43.5625 49.65625 45.515625 46.921875 \nQ 47.46875 44.1875 48.25 40.4375 \nQ 48.734375 37.984375 48.734375 31.890625 \nL 48.734375 0 \nL 39.9375 0 \nL 39.9375 31.546875 \nQ 39.9375 36.921875 38.90625 39.578125 \nQ 37.890625 42.234375 35.28125 43.8125 \nQ 32.671875 45.40625 29.15625 45.40625 \nQ 23.53125 45.40625 19.453125 41.84375 \nQ 15.375 38.28125 15.375 28.328125 \nL 15.375 0 \nz\n\" id=\"ArialMT-110\"/>\n       <path d=\"M 25.78125 7.859375 \nL 27.046875 0.09375 \nQ 23.34375 -0.6875 20.40625 -0.6875 \nQ 15.625 -0.6875 12.984375 0.828125 \nQ 10.359375 2.34375 9.28125 4.8125 \nQ 8.203125 7.28125 8.203125 15.1875 \nL 8.203125 45.015625 \nL 1.765625 45.015625 \nL 1.765625 51.859375 \nL 8.203125 51.859375 \nL 8.203125 64.703125 \nL 16.9375 69.96875 \nL 16.9375 51.859375 \nL 25.78125 51.859375 \nL 25.78125 45.015625 \nL 16.9375 45.015625 \nL 16.9375 14.703125 \nQ 16.9375 10.9375 17.40625 9.859375 \nQ 17.875 8.796875 18.921875 8.15625 \nQ 19.96875 7.515625 21.921875 7.515625 \nQ 23.390625 7.515625 25.78125 7.859375 \nz\n\" id=\"ArialMT-116\"/>\n      </defs>\n      <use xlink:href=\"#ArialMT-67\"/>\n      <use x=\"72.216797\" xlink:href=\"#ArialMT-111\"/>\n      <use x=\"127.832031\" xlink:href=\"#ArialMT-117\"/>\n      <use x=\"183.447266\" xlink:href=\"#ArialMT-110\"/>\n      <use x=\"239.0625\" xlink:href=\"#ArialMT-116\"/>\n     </g>\n    </g>\n   </g>\n   <g id=\"patch_3\">\n    <path clip-path=\"url(#p43368ee4c4)\" d=\"M 71.360682 224.64 \nL 76.997045 224.64 \nL 76.997045 17.554286 \nL 71.360682 17.554286 \nz\n\" style=\"fill:#4c72b0;fill-opacity:0.75;stroke:#ffffff;stroke-linejoin:miter;stroke-width:0.563636;\"/>\n   </g>\n   <g id=\"patch_4\">\n    <path clip-path=\"url(#p43368ee4c4)\" d=\"M 76.997045 224.64 \nL 82.633409 224.64 \nL 82.633409 175.596438 \nL 76.997045 175.596438 \nz\n\" style=\"fill:#4c72b0;fill-opacity:0.75;stroke:#ffffff;stroke-linejoin:miter;stroke-width:0.563636;\"/>\n   </g>\n   <g id=\"patch_5\">\n    <path clip-path=\"url(#p43368ee4c4)\" d=\"M 82.633409 224.64 \nL 88.269773 224.64 \nL 88.269773 192.253837 \nL 82.633409 192.253837 \nz\n\" style=\"fill:#4c72b0;fill-opacity:0.75;stroke:#ffffff;stroke-linejoin:miter;stroke-width:0.563636;\"/>\n   </g>\n   <g id=\"patch_6\">\n    <path clip-path=\"url(#p43368ee4c4)\" d=\"M 88.269773 224.64 \nL 93.906136 224.64 \nL 93.906136 200.669596 \nL 88.269773 200.669596 \nz\n\" style=\"fill:#4c72b0;fill-opacity:0.75;stroke:#ffffff;stroke-linejoin:miter;stroke-width:0.563636;\"/>\n   </g>\n   <g id=\"patch_7\">\n    <path clip-path=\"url(#p43368ee4c4)\" d=\"M 93.906136 224.64 \nL 99.5425 224.64 \nL 99.5425 206.589648 \nL 93.906136 206.589648 \nz\n\" style=\"fill:#4c72b0;fill-opacity:0.75;stroke:#ffffff;stroke-linejoin:miter;stroke-width:0.563636;\"/>\n   </g>\n   <g id=\"patch_8\">\n    <path clip-path=\"url(#p43368ee4c4)\" d=\"M 99.5425 224.64 \nL 105.178864 224.64 \nL 105.178864 209.549673 \nL 99.5425 209.549673 \nz\n\" style=\"fill:#4c72b0;fill-opacity:0.75;stroke:#ffffff;stroke-linejoin:miter;stroke-width:0.563636;\"/>\n   </g>\n   <g id=\"patch_9\">\n    <path clip-path=\"url(#p43368ee4c4)\" d=\"M 105.178864 224.64 \nL 110.815227 224.64 \nL 110.815227 212.161461 \nL 105.178864 212.161461 \nz\n\" style=\"fill:#4c72b0;fill-opacity:0.75;stroke:#ffffff;stroke-linejoin:miter;stroke-width:0.563636;\"/>\n   </g>\n   <g id=\"patch_10\">\n    <path clip-path=\"url(#p43368ee4c4)\" d=\"M 110.815227 224.64 \nL 116.451591 224.64 \nL 116.451591 214.831288 \nL 110.815227 214.831288 \nz\n\" style=\"fill:#4c72b0;fill-opacity:0.75;stroke:#ffffff;stroke-linejoin:miter;stroke-width:0.563636;\"/>\n   </g>\n   <g id=\"patch_11\">\n    <path clip-path=\"url(#p43368ee4c4)\" d=\"M 116.451591 224.64 \nL 122.087955 224.64 \nL 122.087955 215.643844 \nL 116.451591 215.643844 \nz\n\" style=\"fill:#4c72b0;fill-opacity:0.75;stroke:#ffffff;stroke-linejoin:miter;stroke-width:0.563636;\"/>\n   </g>\n   <g id=\"patch_12\">\n    <path clip-path=\"url(#p43368ee4c4)\" d=\"M 122.087955 224.64 \nL 127.724318 224.64 \nL 127.724318 215.643844 \nL 122.087955 215.643844 \nz\n\" style=\"fill:#4c72b0;fill-opacity:0.75;stroke:#ffffff;stroke-linejoin:miter;stroke-width:0.563636;\"/>\n   </g>\n   <g id=\"patch_13\">\n    <path clip-path=\"url(#p43368ee4c4)\" d=\"M 127.724318 224.64 \nL 133.360682 224.64 \nL 133.360682 215.934042 \nL 127.724318 215.934042 \nz\n\" style=\"fill:#4c72b0;fill-opacity:0.75;stroke:#ffffff;stroke-linejoin:miter;stroke-width:0.563636;\"/>\n   </g>\n   <g id=\"patch_14\">\n    <path clip-path=\"url(#p43368ee4c4)\" d=\"M 133.360682 224.64 \nL 138.997045 224.64 \nL 138.997045 215.817963 \nL 133.360682 215.817963 \nz\n\" style=\"fill:#4c72b0;fill-opacity:0.75;stroke:#ffffff;stroke-linejoin:miter;stroke-width:0.563636;\"/>\n   </g>\n   <g id=\"patch_15\">\n    <path clip-path=\"url(#p43368ee4c4)\" d=\"M 138.997045 224.64 \nL 144.633409 224.64 \nL 144.633409 218.37171 \nL 138.997045 218.37171 \nz\n\" style=\"fill:#4c72b0;fill-opacity:0.75;stroke:#ffffff;stroke-linejoin:miter;stroke-width:0.563636;\"/>\n   </g>\n   <g id=\"patch_16\">\n    <path clip-path=\"url(#p43368ee4c4)\" d=\"M 144.633409 224.64 \nL 150.269773 224.64 \nL 150.269773 219.010147 \nL 144.633409 219.010147 \nz\n\" style=\"fill:#4c72b0;fill-opacity:0.75;stroke:#ffffff;stroke-linejoin:miter;stroke-width:0.563636;\"/>\n   </g>\n   <g id=\"patch_17\">\n    <path clip-path=\"url(#p43368ee4c4)\" d=\"M 150.269773 224.64 \nL 155.906136 224.64 \nL 155.906136 218.023472 \nL 150.269773 218.023472 \nz\n\" style=\"fill:#4c72b0;fill-opacity:0.75;stroke:#ffffff;stroke-linejoin:miter;stroke-width:0.563636;\"/>\n   </g>\n   <g id=\"patch_18\">\n    <path clip-path=\"url(#p43368ee4c4)\" d=\"M 155.906136 224.64 \nL 161.5425 224.64 \nL 161.5425 218.54583 \nL 155.906136 218.54583 \nz\n\" style=\"fill:#4c72b0;fill-opacity:0.75;stroke:#ffffff;stroke-linejoin:miter;stroke-width:0.563636;\"/>\n   </g>\n   <g id=\"patch_19\">\n    <path clip-path=\"url(#p43368ee4c4)\" d=\"M 161.5425 224.64 \nL 167.178864 224.64 \nL 167.178864 219.068187 \nL 161.5425 219.068187 \nz\n\" style=\"fill:#4c72b0;fill-opacity:0.75;stroke:#ffffff;stroke-linejoin:miter;stroke-width:0.563636;\"/>\n   </g>\n   <g id=\"patch_20\">\n    <path clip-path=\"url(#p43368ee4c4)\" d=\"M 167.178864 224.64 \nL 172.815227 224.64 \nL 172.815227 219.300346 \nL 167.178864 219.300346 \nz\n\" style=\"fill:#4c72b0;fill-opacity:0.75;stroke:#ffffff;stroke-linejoin:miter;stroke-width:0.563636;\"/>\n   </g>\n   <g id=\"patch_21\">\n    <path clip-path=\"url(#p43368ee4c4)\" d=\"M 172.815227 224.64 \nL 178.451591 224.64 \nL 178.451591 219.358386 \nL 172.815227 219.358386 \nz\n\" style=\"fill:#4c72b0;fill-opacity:0.75;stroke:#ffffff;stroke-linejoin:miter;stroke-width:0.563636;\"/>\n   </g>\n   <g id=\"patch_22\">\n    <path clip-path=\"url(#p43368ee4c4)\" d=\"M 178.451591 224.64 \nL 184.087955 224.64 \nL 184.087955 220.403101 \nL 178.451591 220.403101 \nz\n\" style=\"fill:#4c72b0;fill-opacity:0.75;stroke:#ffffff;stroke-linejoin:miter;stroke-width:0.563636;\"/>\n   </g>\n   <g id=\"patch_23\">\n    <path clip-path=\"url(#p43368ee4c4)\" d=\"M 184.087955 224.64 \nL 189.724318 224.64 \nL 189.724318 219.300346 \nL 184.087955 219.300346 \nz\n\" style=\"fill:#4c72b0;fill-opacity:0.75;stroke:#ffffff;stroke-linejoin:miter;stroke-width:0.563636;\"/>\n   </g>\n   <g id=\"patch_24\">\n    <path clip-path=\"url(#p43368ee4c4)\" d=\"M 189.724318 224.64 \nL 195.360682 224.64 \nL 195.360682 219.880743 \nL 189.724318 219.880743 \nz\n\" style=\"fill:#4c72b0;fill-opacity:0.75;stroke:#ffffff;stroke-linejoin:miter;stroke-width:0.563636;\"/>\n   </g>\n   <g id=\"patch_25\">\n    <path clip-path=\"url(#p43368ee4c4)\" d=\"M 195.360682 224.64 \nL 200.997045 224.64 \nL 200.997045 219.996823 \nL 195.360682 219.996823 \nz\n\" style=\"fill:#4c72b0;fill-opacity:0.75;stroke:#ffffff;stroke-linejoin:miter;stroke-width:0.563636;\"/>\n   </g>\n   <g id=\"patch_26\">\n    <path clip-path=\"url(#p43368ee4c4)\" d=\"M 200.997045 224.64 \nL 206.633409 224.64 \nL 206.633409 220.57722 \nL 200.997045 220.57722 \nz\n\" style=\"fill:#4c72b0;fill-opacity:0.75;stroke:#ffffff;stroke-linejoin:miter;stroke-width:0.563636;\"/>\n   </g>\n   <g id=\"patch_27\">\n    <path clip-path=\"url(#p43368ee4c4)\" d=\"M 206.633409 224.64 \nL 212.269773 224.64 \nL 212.269773 220.693299 \nL 206.633409 220.693299 \nz\n\" style=\"fill:#4c72b0;fill-opacity:0.75;stroke:#ffffff;stroke-linejoin:miter;stroke-width:0.563636;\"/>\n   </g>\n   <g id=\"patch_28\">\n    <path clip-path=\"url(#p43368ee4c4)\" d=\"M 212.269773 224.64 \nL 217.906136 224.64 \nL 217.906136 220.57722 \nL 212.269773 220.57722 \nz\n\" style=\"fill:#4c72b0;fill-opacity:0.75;stroke:#ffffff;stroke-linejoin:miter;stroke-width:0.563636;\"/>\n   </g>\n   <g id=\"patch_29\">\n    <path clip-path=\"url(#p43368ee4c4)\" d=\"M 217.906136 224.64 \nL 223.5425 224.64 \nL 223.5425 220.403101 \nL 217.906136 220.403101 \nz\n\" style=\"fill:#4c72b0;fill-opacity:0.75;stroke:#ffffff;stroke-linejoin:miter;stroke-width:0.563636;\"/>\n   </g>\n   <g id=\"patch_30\">\n    <path clip-path=\"url(#p43368ee4c4)\" d=\"M 223.5425 224.64 \nL 229.178864 224.64 \nL 229.178864 220.170942 \nL 223.5425 220.170942 \nz\n\" style=\"fill:#4c72b0;fill-opacity:0.75;stroke:#ffffff;stroke-linejoin:miter;stroke-width:0.563636;\"/>\n   </g>\n   <g id=\"patch_31\">\n    <path clip-path=\"url(#p43368ee4c4)\" d=\"M 229.178864 224.64 \nL 234.815227 224.64 \nL 234.815227 220.112902 \nL 229.178864 220.112902 \nz\n\" style=\"fill:#4c72b0;fill-opacity:0.75;stroke:#ffffff;stroke-linejoin:miter;stroke-width:0.563636;\"/>\n   </g>\n   <g id=\"patch_32\">\n    <path clip-path=\"url(#p43368ee4c4)\" d=\"M 234.815227 224.64 \nL 240.451591 224.64 \nL 240.451591 220.635259 \nL 234.815227 220.635259 \nz\n\" style=\"fill:#4c72b0;fill-opacity:0.75;stroke:#ffffff;stroke-linejoin:miter;stroke-width:0.563636;\"/>\n   </g>\n   <g id=\"patch_33\">\n    <path clip-path=\"url(#p43368ee4c4)\" d=\"M 240.451591 224.64 \nL 246.087955 224.64 \nL 246.087955 221.563895 \nL 240.451591 221.563895 \nz\n\" style=\"fill:#4c72b0;fill-opacity:0.75;stroke:#ffffff;stroke-linejoin:miter;stroke-width:0.563636;\"/>\n   </g>\n   <g id=\"patch_34\">\n    <path clip-path=\"url(#p43368ee4c4)\" d=\"M 246.087955 224.64 \nL 251.724318 224.64 \nL 251.724318 221.912133 \nL 246.087955 221.912133 \nz\n\" style=\"fill:#4c72b0;fill-opacity:0.75;stroke:#ffffff;stroke-linejoin:miter;stroke-width:0.563636;\"/>\n   </g>\n   <g id=\"patch_35\">\n    <path clip-path=\"url(#p43368ee4c4)\" d=\"M 251.724318 224.64 \nL 257.360682 224.64 \nL 257.360682 220.983498 \nL 251.724318 220.983498 \nz\n\" style=\"fill:#4c72b0;fill-opacity:0.75;stroke:#ffffff;stroke-linejoin:miter;stroke-width:0.563636;\"/>\n   </g>\n   <g id=\"patch_36\">\n    <path clip-path=\"url(#p43368ee4c4)\" d=\"M 257.360682 224.64 \nL 262.997045 224.64 \nL 262.997045 221.912133 \nL 257.360682 221.912133 \nz\n\" style=\"fill:#4c72b0;fill-opacity:0.75;stroke:#ffffff;stroke-linejoin:miter;stroke-width:0.563636;\"/>\n   </g>\n   <g id=\"patch_37\">\n    <path clip-path=\"url(#p43368ee4c4)\" d=\"M 262.997045 224.64 \nL 268.633409 224.64 \nL 268.633409 221.854094 \nL 262.997045 221.854094 \nz\n\" style=\"fill:#4c72b0;fill-opacity:0.75;stroke:#ffffff;stroke-linejoin:miter;stroke-width:0.563636;\"/>\n   </g>\n   <g id=\"patch_38\">\n    <path clip-path=\"url(#p43368ee4c4)\" d=\"M 268.633409 224.64 \nL 274.269773 224.64 \nL 274.269773 222.49253 \nL 268.633409 222.49253 \nz\n\" style=\"fill:#4c72b0;fill-opacity:0.75;stroke:#ffffff;stroke-linejoin:miter;stroke-width:0.563636;\"/>\n   </g>\n   <g id=\"patch_39\">\n    <path clip-path=\"url(#p43368ee4c4)\" d=\"M 274.269773 224.64 \nL 279.906136 224.64 \nL 279.906136 222.782729 \nL 274.269773 222.782729 \nz\n\" style=\"fill:#4c72b0;fill-opacity:0.75;stroke:#ffffff;stroke-linejoin:miter;stroke-width:0.563636;\"/>\n   </g>\n   <g id=\"patch_40\">\n    <path clip-path=\"url(#p43368ee4c4)\" d=\"M 279.906136 224.64 \nL 285.5425 224.64 \nL 285.5425 222.55057 \nL 279.906136 222.55057 \nz\n\" style=\"fill:#4c72b0;fill-opacity:0.75;stroke:#ffffff;stroke-linejoin:miter;stroke-width:0.563636;\"/>\n   </g>\n   <g id=\"patch_41\">\n    <path clip-path=\"url(#p43368ee4c4)\" d=\"M 285.5425 224.64 \nL 291.178864 224.64 \nL 291.178864 223.305086 \nL 285.5425 223.305086 \nz\n\" style=\"fill:#4c72b0;fill-opacity:0.75;stroke:#ffffff;stroke-linejoin:miter;stroke-width:0.563636;\"/>\n   </g>\n   <g id=\"patch_42\">\n    <path clip-path=\"url(#p43368ee4c4)\" d=\"M 291.178864 224.64 \nL 296.815227 224.64 \nL 296.815227 223.130967 \nL 291.178864 223.130967 \nz\n\" style=\"fill:#4c72b0;fill-opacity:0.75;stroke:#ffffff;stroke-linejoin:miter;stroke-width:0.563636;\"/>\n   </g>\n   <g id=\"patch_43\">\n    <path clip-path=\"url(#p43368ee4c4)\" d=\"M 296.815227 224.64 \nL 302.451591 224.64 \nL 302.451591 223.421166 \nL 296.815227 223.421166 \nz\n\" style=\"fill:#4c72b0;fill-opacity:0.75;stroke:#ffffff;stroke-linejoin:miter;stroke-width:0.563636;\"/>\n   </g>\n   <g id=\"patch_44\">\n    <path clip-path=\"url(#p43368ee4c4)\" d=\"M 302.451591 224.64 \nL 308.087955 224.64 \nL 308.087955 223.827444 \nL 302.451591 223.827444 \nz\n\" style=\"fill:#4c72b0;fill-opacity:0.75;stroke:#ffffff;stroke-linejoin:miter;stroke-width:0.563636;\"/>\n   </g>\n   <g id=\"patch_45\">\n    <path clip-path=\"url(#p43368ee4c4)\" d=\"M 308.087955 224.64 \nL 313.724318 224.64 \nL 313.724318 223.769404 \nL 308.087955 223.769404 \nz\n\" style=\"fill:#4c72b0;fill-opacity:0.75;stroke:#ffffff;stroke-linejoin:miter;stroke-width:0.563636;\"/>\n   </g>\n   <g id=\"patch_46\">\n    <path clip-path=\"url(#p43368ee4c4)\" d=\"M 313.724318 224.64 \nL 319.360682 224.64 \nL 319.360682 223.653325 \nL 313.724318 223.653325 \nz\n\" style=\"fill:#4c72b0;fill-opacity:0.75;stroke:#ffffff;stroke-linejoin:miter;stroke-width:0.563636;\"/>\n   </g>\n   <g id=\"patch_47\">\n    <path clip-path=\"url(#p43368ee4c4)\" d=\"M 319.360682 224.64 \nL 324.997045 224.64 \nL 324.997045 224.117643 \nL 319.360682 224.117643 \nz\n\" style=\"fill:#4c72b0;fill-opacity:0.75;stroke:#ffffff;stroke-linejoin:miter;stroke-width:0.563636;\"/>\n   </g>\n   <g id=\"patch_48\">\n    <path clip-path=\"url(#p43368ee4c4)\" d=\"M 324.997045 224.64 \nL 330.633409 224.64 \nL 330.633409 224.001563 \nL 324.997045 224.001563 \nz\n\" style=\"fill:#4c72b0;fill-opacity:0.75;stroke:#ffffff;stroke-linejoin:miter;stroke-width:0.563636;\"/>\n   </g>\n   <g id=\"patch_49\">\n    <path clip-path=\"url(#p43368ee4c4)\" d=\"M 330.633409 224.64 \nL 336.269773 224.64 \nL 336.269773 224.291762 \nL 330.633409 224.291762 \nz\n\" style=\"fill:#4c72b0;fill-opacity:0.75;stroke:#ffffff;stroke-linejoin:miter;stroke-width:0.563636;\"/>\n   </g>\n   <g id=\"patch_50\">\n    <path clip-path=\"url(#p43368ee4c4)\" d=\"M 336.269773 224.64 \nL 341.906136 224.64 \nL 341.906136 224.523921 \nL 336.269773 224.523921 \nz\n\" style=\"fill:#4c72b0;fill-opacity:0.75;stroke:#ffffff;stroke-linejoin:miter;stroke-width:0.563636;\"/>\n   </g>\n   <g id=\"patch_51\">\n    <path clip-path=\"url(#p43368ee4c4)\" d=\"M 341.906136 224.64 \nL 347.5425 224.64 \nL 347.5425 224.465881 \nL 341.906136 224.465881 \nz\n\" style=\"fill:#4c72b0;fill-opacity:0.75;stroke:#ffffff;stroke-linejoin:miter;stroke-width:0.563636;\"/>\n   </g>\n   <g id=\"patch_52\">\n    <path clip-path=\"url(#p43368ee4c4)\" d=\"M 347.5425 224.64 \nL 353.178864 224.64 \nL 353.178864 224.523921 \nL 347.5425 224.523921 \nz\n\" style=\"fill:#4c72b0;fill-opacity:0.75;stroke:#ffffff;stroke-linejoin:miter;stroke-width:0.563636;\"/>\n   </g>\n   <g id=\"patch_53\">\n    <path clip-path=\"url(#p43368ee4c4)\" d=\"M 353.178864 224.64 \nL 358.815227 224.64 \nL 358.815227 224.58196 \nL 353.178864 224.58196 \nz\n\" style=\"fill:#4c72b0;fill-opacity:0.75;stroke:#ffffff;stroke-linejoin:miter;stroke-width:0.563636;\"/>\n   </g>\n   <g id=\"patch_54\">\n    <path clip-path=\"url(#p43368ee4c4)\" d=\"M 358.815227 224.64 \nL 364.451591 224.64 \nL 364.451591 224.64 \nL 358.815227 224.64 \nz\n\" style=\"fill:#4c72b0;fill-opacity:0.75;stroke:#ffffff;stroke-linejoin:miter;stroke-width:0.563636;\"/>\n   </g>\n   <g id=\"patch_55\">\n    <path clip-path=\"url(#p43368ee4c4)\" d=\"M 364.451591 224.64 \nL 370.087955 224.64 \nL 370.087955 224.64 \nL 364.451591 224.64 \nz\n\" style=\"fill:#4c72b0;fill-opacity:0.75;stroke:#ffffff;stroke-linejoin:miter;stroke-width:0.563636;\"/>\n   </g>\n   <g id=\"patch_56\">\n    <path clip-path=\"url(#p43368ee4c4)\" d=\"M 370.087955 224.64 \nL 375.724318 224.64 \nL 375.724318 224.58196 \nL 370.087955 224.58196 \nz\n\" style=\"fill:#4c72b0;fill-opacity:0.75;stroke:#ffffff;stroke-linejoin:miter;stroke-width:0.563636;\"/>\n   </g>\n   <g id=\"patch_57\">\n    <path d=\"M 56.1425 224.64 \nL 56.1425 7.2 \n\" style=\"fill:none;stroke:#ffffff;stroke-linecap:square;stroke-linejoin:miter;stroke-width:1.25;\"/>\n   </g>\n   <g id=\"patch_58\">\n    <path d=\"M 390.9425 224.64 \nL 390.9425 7.2 \n\" style=\"fill:none;stroke:#ffffff;stroke-linecap:square;stroke-linejoin:miter;stroke-width:1.25;\"/>\n   </g>\n   <g id=\"patch_59\">\n    <path d=\"M 56.1425 224.64 \nL 390.9425 224.64 \n\" style=\"fill:none;stroke:#ffffff;stroke-linecap:square;stroke-linejoin:miter;stroke-width:1.25;\"/>\n   </g>\n   <g id=\"patch_60\">\n    <path d=\"M 56.1425 7.2 \nL 390.9425 7.2 \n\" style=\"fill:none;stroke:#ffffff;stroke-linecap:square;stroke-linejoin:miter;stroke-width:1.25;\"/>\n   </g>\n  </g>\n </g>\n <defs>\n  <clipPath id=\"p43368ee4c4\">\n   <rect height=\"217.44\" width=\"334.8\" x=\"56.1425\" y=\"7.2\"/>\n  </clipPath>\n </defs>\n</svg>\n",
      "image/png": "[encoded data removed]"
     },
     "metadata": {}
    }
   ],
   "source": [
    "sns.histplot(data=probs_clean)"
   ]
  },
  {
   "cell_type": "code",
   "execution_count": 189,
   "metadata": {},
   "outputs": [
    {
     "output_type": "stream",
     "name": "stdout",
     "text": [
      "0.06133333333333333\n"
     ]
    }
   ],
   "source": [
    "print(len([i for i in probs_clean if i > 0.5]) / len(probs_clean))"
   ]
  },
  {
   "source": [
    "As expected, roughly 1 out of 20 people without adjusted ages will die within a decade, which is close to the ratio of the training data. "
   ],
   "cell_type": "markdown",
   "metadata": {}
  },
  {
   "cell_type": "code",
   "execution_count": null,
   "metadata": {},
   "outputs": [],
   "source": []
  },
  {
   "cell_type": "code",
   "execution_count": null,
   "metadata": {},
   "outputs": [],
   "source": []
  },
  {
   "cell_type": "code",
   "execution_count": null,
   "metadata": {},
   "outputs": [],
   "source": []
  },
  {
   "source": [
    "Below is some code that I had used previously "
   ],
   "cell_type": "markdown",
   "metadata": {}
  },
  {
   "cell_type": "code",
   "execution_count": null,
   "metadata": {},
   "outputs": [],
   "source": [
    "# X_wt = X_train['wt']\n",
    "# X_train = X_train.drop(columns=['wt'])\n",
    "# X_test = X_test.drop(columns=['wt'])"
   ]
  },
  {
   "cell_type": "code",
   "execution_count": 27,
   "metadata": {},
   "outputs": [
    {
     "output_type": "execute_result",
     "data": {
      "text/plain": [
       "LGBMClassifier(is_unbalance=True, max_depth=20)"
      ]
     },
     "metadata": {},
     "execution_count": 27
    }
   ],
   "source": [
    "model = lgb.LGBMClassifier(is_unbalance=True, max_depth=20)\n",
    "model.fit(X_train, y_train)"
   ]
  },
  {
   "cell_type": "code",
   "execution_count": 28,
   "metadata": {},
   "outputs": [],
   "source": [
    "y_pred = model.predict(X_test)"
   ]
  },
  {
   "cell_type": "code",
   "execution_count": 29,
   "metadata": {},
   "outputs": [
    {
     "output_type": "stream",
     "name": "stdout",
     "text": [
      "              precision    recall  f1-score   support\n\n         0.0       0.97      0.92      0.94    337447\n         1.0       0.32      0.56      0.41     23369\n\n    accuracy                           0.89    360816\n   macro avg       0.64      0.74      0.67    360816\nweighted avg       0.93      0.89      0.91    360816\n\n"
     ]
    }
   ],
   "source": [
    "print(classification_report(y_test, y_pred))"
   ]
  },
  {
   "cell_type": "code",
   "execution_count": 30,
   "metadata": {},
   "outputs": [
    {
     "output_type": "execute_result",
     "data": {
      "text/plain": [
       "0.7399945389401491"
      ]
     },
     "metadata": {},
     "execution_count": 30
    }
   ],
   "source": [
    "roc_auc_score(y_test, y_pred)\n",
    "# metrics.auc(fpr, tpr)"
   ]
  },
  {
   "source": [
    "estimators, "
   ],
   "cell_type": "markdown",
   "metadata": {}
  },
  {
   "cell_type": "code",
   "execution_count": 31,
   "metadata": {},
   "outputs": [],
   "source": [
    "# average_precision_score(y_test, y_pred) # sample_weight=X_test.wt"
   ]
  },
  {
   "cell_type": "code",
   "execution_count": 32,
   "metadata": {},
   "outputs": [],
   "source": [
    "# parameters = {\n",
    "#     \"loss\":[\"deviance\"],\n",
    "#     \"learning_rate\": [0.01],# , 0.025, 0.05, 0.075, 0.1, 0.15, 0.2],\n",
    "#     # \"min_samples_split\": np.linspace(0.1, 0.5, 12),\n",
    "#     # \"min_samples_leaf\": np.linspace(0.1, 0.5, 12),\n",
    "#     \"max_depth\":[5],#[3,5,8],\n",
    "#     # \"max_features\":[\"log2\",\"sqrt\"],\n",
    "#     # \"criterion\": [\"roc\"],# [\"friedman_mse\",  \"mae\"],\n",
    "#     \"criterion\": [\"friedman_mse\"],\n",
    "#     # \"subsample\":[0.5, 0.618, 0.8, 0.85, 0.9, 0.95, 1.0],\n",
    "#     \"n_estimators\":[100]\n",
    "# }\n",
    "\n",
    "# model = GridSearchCV(GradientBoostingClassifier(), parameters, cv=10, n_jobs=-1)\n",
    "\n",
    "# model.fit(X_train, y_train)"
   ]
  }
 ],
 "metadata": {
  "kernelspec": {
   "display_name": "Python 3",
   "language": "python",
   "name": "python3"
  },
  "language_info": {
   "codemirror_mode": {
    "name": "ipython",
    "version": 3
   },
   "file_extension": ".py",
   "mimetype": "text/x-python",
   "name": "python",
   "nbconvert_exporter": "python",
   "pygments_lexer": "ipython3",
   "version": "3.8.5-final"
  }
 },
 "nbformat": 4,
 "nbformat_minor": 4
}